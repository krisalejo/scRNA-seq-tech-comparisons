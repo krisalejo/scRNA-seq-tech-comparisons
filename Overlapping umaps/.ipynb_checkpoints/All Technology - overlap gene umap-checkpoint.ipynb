{
 "cells": [
  {
   "cell_type": "code",
   "execution_count": 1,
   "id": "cee14194-4d32-48e5-8fbb-54fab51fe23b",
   "metadata": {},
   "outputs": [],
   "source": [
    "%load_ext autoreload\n",
    "%autoreload 2"
   ]
  },
  {
   "cell_type": "code",
   "execution_count": 2,
   "id": "7152435e-7aaa-4622-9d4b-7354defbf8ed",
   "metadata": {},
   "outputs": [],
   "source": [
    "import os\n",
    "import sys\n",
    "current_path = os.getcwd()\n",
    "parent_directory = os.path.dirname(current_path)\n",
    "sys.path.append(parent_directory)\n",
    "from Class.jenie import Jenie\n",
    "import pandas as pd\n",
    "import numpy as np\n",
    "import scanpy as sc\n",
    "import anndata\n",
    "import umap.umap_ as umap\n",
    "import leidenalg\n",
    "import matplotlib.pyplot as plt\n",
    "from mpl_toolkits.mplot3d import Axes3D\n",
    "import seaborn as sns\n",
    "from sklearn.cluster import KMeans\n",
    "from scipy.spatial.distance import pdist, squareform\n",
    "from sklearn.metrics import pairwise_distances\n",
    "from scipy.stats import zscore\n",
    "from matplotlib.colorbar import ColorbarBase\n",
    "import matplotlib.colors as mcolors\n",
    "from umap import UMAP\n",
    "from sklearn.model_selection import GridSearchCV\n",
    "from sklearn.metrics import silhouette_score\n",
    "from kneed import KneeLocator\n",
    "from sklearn.decomposition import PCA\n",
    "from sklearn.discriminant_analysis import LinearDiscriminantAnalysis\n",
    "from sklearn.model_selection import ParameterGrid"
   ]
  },
  {
   "cell_type": "code",
   "execution_count": 3,
   "id": "9056ce3e-9c24-4bf4-b0e3-1d7edfcffba2",
   "metadata": {},
   "outputs": [],
   "source": [
    "import doctest\n",
    "import numpy as np\n",
    "import pandas as pd\n",
    "from scipy import stats\n",
    "from sklearn.datasets import make_blobs\n",
    "from scipy.stats import multivariate_normal\n",
    "from matplotlib.patches import Ellipse\n",
    "from sklearn.neighbors import NearestNeighbors\n",
    "import scanpy as sc\n",
    "#from geopy.distance import geodesic\n",
    "from sklearn.metrics import classification_report\n",
    "from sklearn.model_selection import train_test_split, GridSearchCV\n",
    "from sklearn.neighbors import KNeighborsClassifier\n",
    "from sklearn.pipeline import Pipeline\n",
    "from sklearn.datasets import fetch_openml\n",
    "import umap.umap_ as umap\n",
    "#from umap import UMAP\n",
    "from sklearn.cluster import KMeans\n",
    "from sklearn.metrics import silhouette_score\n",
    "#from leidenalg import find_partition\n",
    "#import networkx as nx\n",
    "\n",
    "# two useful data viz libraries\n",
    "import matplotlib.pyplot as plt\n",
    "import seaborn as sns\n",
    "\n",
    "import sklearn.cluster as cluster\n",
    "from sklearn.decomposition import PCA\n",
    "from sklearn.discriminant_analysis import LinearDiscriminantAnalysis\n",
    "from sklearn.mixture import GaussianMixture\n",
    "from sklearn.cluster import SpectralClustering\n",
    "from kneed import KneeLocator\n",
    "from sklearn.model_selection import ParameterGrid\n",
    "from sklearn.cluster import DBSCAN\n",
    "#import hdbscan\n",
    "#from sklearn.cluster import HDBSCAN\n",
    "# setup plotting in a notebook in a reasonable way\n",
    "%matplotlib inline\n",
    "%config InlineBackend.figure_format='retina'"
   ]
  },
  {
   "cell_type": "code",
   "execution_count": 4,
   "id": "bf223227-069a-4d49-8bb7-120871ddf9a3",
   "metadata": {},
   "outputs": [],
   "source": [
    "plt.style.use('dark_background')"
   ]
  },
  {
   "cell_type": "markdown",
   "id": "a2b94126-853a-488a-813c-d1f32eda4891",
   "metadata": {},
   "source": [
    "### Load all data"
   ]
  },
  {
   "cell_type": "code",
   "execution_count": 5,
   "id": "4a0c23fe-aa68-45c3-b8f6-ac16b970cf24",
   "metadata": {},
   "outputs": [
    {
     "data": {
      "text/plain": [
       "AnnData object with n_obs × n_vars = 547139 × 248\n",
       "    obs: 'cell_id', 'Sample ID', 'Number of genes', 'Number of transcripts', 'leiden', 'cluster_names', 'celltype'\n",
       "    uns: 'Sample ID_colors', 'cell_id_colors', 'celltype_colors', 'cluster_names_colors', 'leiden', 'leiden_colors', 'neighbors', 'pca', 'rank_genes_groups'\n",
       "    obsm: 'X_pca', 'X_raw', 'X_spatial', 'X_spatial_rescaled', 'X_spatial_rescaled_flipped', 'X_umap'\n",
       "    varm: 'PCs'\n",
       "    obsp: 'connectivities', 'distances'"
      ]
     },
     "execution_count": 5,
     "metadata": {},
     "output_type": "execute_result"
    }
   ],
   "source": [
    "xenium_scdata = sc.read_h5ad(r\"D:\\SMI-0214_DonCleveland_UCSD\\SMI-0214_DonCleveland_UCSD\\Xenium_mouse_filtered.h5ad\")\n",
    "xenium_scdata"
   ]
  },
  {
   "cell_type": "code",
   "execution_count": 6,
   "id": "670ab5d1-548c-4e43-853a-79663ca84f09",
   "metadata": {},
   "outputs": [
    {
     "data": {
      "text/plain": [
       "Index(['2010300C02Rik', 'Acsbg1', 'Acta2', 'Acvrl1', 'Adamts2', 'Adamtsl1',\n",
       "       'Adgrl4', 'Aldh1a2', 'Angpt1', 'Ano1',\n",
       "       ...\n",
       "       'Trp73', 'Trpc4', 'Unc13c', 'Vat1l', 'Vip', 'Vwc2l', 'Wfs1', 'Zfp366',\n",
       "       'Zfp536', 'Zfpm2'],\n",
       "      dtype='object', length=248)"
      ]
     },
     "execution_count": 6,
     "metadata": {},
     "output_type": "execute_result"
    }
   ],
   "source": [
    "xenium_scdata.var.index"
   ]
  },
  {
   "cell_type": "code",
   "execution_count": 7,
   "id": "c2103784-3902-43db-bda4-f35ee3afe85a",
   "metadata": {},
   "outputs": [
    {
     "data": {
      "text/plain": [
       "AnnData object with n_obs × n_vars = 132721 × 950\n",
       "    obs: 'total_counts', 'leiden', 'celltype'\n",
       "    var: 'mean', 'std'\n",
       "    uns: 'celltype_colors', 'leiden', 'leiden_colors', 'log1p', 'neighbors', 'pca'\n",
       "    obsm: 'X_pca', 'X_raw', 'X_spatial', 'X_umap'\n",
       "    varm: 'PCs'\n",
       "    obsp: 'connectivities', 'distances'"
      ]
     },
     "execution_count": 7,
     "metadata": {},
     "output_type": "execute_result"
    }
   ],
   "source": [
    "cosmx_scdata = sc.read_h5ad(r\"D:\\SMI-0214_DonCleveland_UCSD\\SMI-0214_DonCleveland_UCSD\\Cosmx_mouse_filtered.h5ad\")\n",
    "cosmx_scdata"
   ]
  },
  {
   "cell_type": "code",
   "execution_count": 8,
   "id": "52dbd277-28a0-4899-907e-97c9e498fd07",
   "metadata": {},
   "outputs": [
    {
     "data": {
      "text/plain": [
       "AnnData object with n_obs × n_vars = 152568 × 223\n",
       "    obs: 'n_genes', 'n_genes_by_counts', 'log1p_n_genes_by_counts', 'total_counts', 'log1p_total_counts', 'leiden', 'leiden_denovo', 'Experiment', 'Age', 'Section', 'Mouse', 'Treatment', 'Timepoint', 'Ptbp1', 'MERFISH celltype', 'New_PTB'\n",
       "    var: 'n_cells_by_counts', 'mean_counts', 'log1p_mean_counts', 'pct_dropout_by_counts', 'total_counts', 'log1p_total_counts'\n",
       "    uns: 'Mouse_colors', 'Section_colors', 'Treatment_colors', 'leiden', 'leiden_colors', 'leiden_denovo_colors', 'log1p', 'neighbors', 'pca'\n",
       "    obsm: 'X_pca', 'X_spatial', 'X_umap', 'X_umap_denovo', 'rep'\n",
       "    varm: 'PCs'\n",
       "    layers: 'Raw counts'\n",
       "    obsp: 'connectivities', 'distances'"
      ]
     },
     "execution_count": 8,
     "metadata": {},
     "output_type": "execute_result"
    }
   ],
   "source": [
    "gellyfish_scdata = sc.read_h5ad(r\"D:\\SMI-0214_DonCleveland_UCSD\\SMI-0214_DonCleveland_UCSD\\Gellyfish Analysis\\CBM5_new_PTB.h5ad\")\n",
    "gellyfish_scdata"
   ]
  },
  {
   "cell_type": "markdown",
   "id": "688cfd19-070c-4408-a8e2-5dbebcdb6172",
   "metadata": {},
   "source": [
    "### Create overlap gene list"
   ]
  },
  {
   "cell_type": "code",
   "execution_count": 9,
   "id": "def0677a-96eb-4409-9d1f-c0a126cad4fe",
   "metadata": {},
   "outputs": [
    {
     "data": {
      "text/plain": [
       "Index(['Acta2', 'Aqp4', 'Bdnf', 'Calb1', 'Cldn5', 'Fos', 'Gad1', 'Gfap',\n",
       "       'Gpr17', 'Npy2r', 'Pdgfra', 'Slit2', 'Vip'],\n",
       "      dtype='object')"
      ]
     },
     "execution_count": 9,
     "metadata": {},
     "output_type": "execute_result"
    }
   ],
   "source": [
    "var_names = xenium_scdata.var_names.intersection(cosmx_scdata.var_names).intersection(gellyfish_scdata.var_names)\n",
    "var_names"
   ]
  },
  {
   "cell_type": "markdown",
   "id": "d888381f-a87a-4c21-adb8-7dba9fb56156",
   "metadata": {},
   "source": [
    "### Xenium preprocessing"
   ]
  },
  {
   "cell_type": "code",
   "execution_count": 10,
   "id": "c7f26244-f2c8-4c0c-a044-c171319262e9",
   "metadata": {},
   "outputs": [
    {
     "data": {
      "text/plain": [
       "View of AnnData object with n_obs × n_vars = 547139 × 13\n",
       "    obs: 'cell_id', 'Sample ID', 'Number of genes', 'Number of transcripts', 'leiden', 'cluster_names', 'celltype'\n",
       "    uns: 'Sample ID_colors', 'cell_id_colors', 'celltype_colors', 'cluster_names_colors', 'leiden', 'leiden_colors', 'neighbors', 'pca', 'rank_genes_groups'\n",
       "    obsm: 'X_pca', 'X_raw', 'X_spatial', 'X_spatial_rescaled', 'X_spatial_rescaled_flipped', 'X_umap'\n",
       "    varm: 'PCs'\n",
       "    obsp: 'connectivities', 'distances'"
      ]
     },
     "execution_count": 10,
     "metadata": {},
     "output_type": "execute_result"
    }
   ],
   "source": [
    "xenium_overlap_scdata = xenium_scdata\n",
    "xenium_overlap_scdata.X = xenium_overlap_scdata.obsm['X_raw']\n",
    "xenium_overlap_scdata = xenium_scdata[:, var_names]\n",
    "xenium_overlap_scdata"
   ]
  },
  {
   "cell_type": "code",
   "execution_count": 11,
   "id": "1b4ee40f-c230-475d-9ef7-aadd5d8e2577",
   "metadata": {},
   "outputs": [
    {
     "data": {
      "text/html": [
       "<div>\n",
       "<style scoped>\n",
       "    .dataframe tbody tr th:only-of-type {\n",
       "        vertical-align: middle;\n",
       "    }\n",
       "\n",
       "    .dataframe tbody tr th {\n",
       "        vertical-align: top;\n",
       "    }\n",
       "\n",
       "    .dataframe thead th {\n",
       "        text-align: right;\n",
       "    }\n",
       "</style>\n",
       "<table border=\"1\" class=\"dataframe\">\n",
       "  <thead>\n",
       "    <tr style=\"text-align: right;\">\n",
       "      <th></th>\n",
       "      <th>cell_id</th>\n",
       "      <th>Sample ID</th>\n",
       "      <th>Number of genes</th>\n",
       "      <th>Number of transcripts</th>\n",
       "      <th>leiden</th>\n",
       "      <th>cluster_names</th>\n",
       "      <th>celltype</th>\n",
       "    </tr>\n",
       "  </thead>\n",
       "  <tbody>\n",
       "    <tr>\n",
       "      <th>1</th>\n",
       "      <td>2</td>\n",
       "      <td>C3m1</td>\n",
       "      <td>12.0</td>\n",
       "      <td>12</td>\n",
       "      <td>12</td>\n",
       "      <td>Micro-PVM</td>\n",
       "      <td>Microglia</td>\n",
       "    </tr>\n",
       "    <tr>\n",
       "      <th>2</th>\n",
       "      <td>3</td>\n",
       "      <td>C3m1</td>\n",
       "      <td>34.0</td>\n",
       "      <td>34</td>\n",
       "      <td>18</td>\n",
       "      <td>L5 PT CTX</td>\n",
       "      <td>Cortical Neurons V</td>\n",
       "    </tr>\n",
       "    <tr>\n",
       "      <th>4</th>\n",
       "      <td>5</td>\n",
       "      <td>C3m1</td>\n",
       "      <td>6.0</td>\n",
       "      <td>6</td>\n",
       "      <td>15</td>\n",
       "      <td>Oligio</td>\n",
       "      <td>Oligo II</td>\n",
       "    </tr>\n",
       "    <tr>\n",
       "      <th>5</th>\n",
       "      <td>6</td>\n",
       "      <td>C3m1</td>\n",
       "      <td>16.0</td>\n",
       "      <td>16</td>\n",
       "      <td>2</td>\n",
       "      <td>Astro</td>\n",
       "      <td>Astro II</td>\n",
       "    </tr>\n",
       "    <tr>\n",
       "      <th>6</th>\n",
       "      <td>7</td>\n",
       "      <td>C3m1</td>\n",
       "      <td>30.0</td>\n",
       "      <td>30</td>\n",
       "      <td>2</td>\n",
       "      <td>Astro</td>\n",
       "      <td>Astro II</td>\n",
       "    </tr>\n",
       "    <tr>\n",
       "      <th>...</th>\n",
       "      <td>...</td>\n",
       "      <td>...</td>\n",
       "      <td>...</td>\n",
       "      <td>...</td>\n",
       "      <td>...</td>\n",
       "      <td>...</td>\n",
       "      <td>...</td>\n",
       "    </tr>\n",
       "    <tr>\n",
       "      <th>556312</th>\n",
       "      <td>62685</td>\n",
       "      <td>R61</td>\n",
       "      <td>159.0</td>\n",
       "      <td>159</td>\n",
       "      <td>1</td>\n",
       "      <td>Astro</td>\n",
       "      <td>Astro I</td>\n",
       "    </tr>\n",
       "    <tr>\n",
       "      <th>556313</th>\n",
       "      <td>62686</td>\n",
       "      <td>R61</td>\n",
       "      <td>97.0</td>\n",
       "      <td>97</td>\n",
       "      <td>0</td>\n",
       "      <td>Endo</td>\n",
       "      <td>Endo</td>\n",
       "    </tr>\n",
       "    <tr>\n",
       "      <th>556314</th>\n",
       "      <td>62687</td>\n",
       "      <td>R61</td>\n",
       "      <td>86.0</td>\n",
       "      <td>86</td>\n",
       "      <td>5</td>\n",
       "      <td></td>\n",
       "      <td>Striatal Neurons I</td>\n",
       "    </tr>\n",
       "    <tr>\n",
       "      <th>556315</th>\n",
       "      <td>62688</td>\n",
       "      <td>R61</td>\n",
       "      <td>5.0</td>\n",
       "      <td>5</td>\n",
       "      <td>2</td>\n",
       "      <td>Astro</td>\n",
       "      <td>Astro II</td>\n",
       "    </tr>\n",
       "    <tr>\n",
       "      <th>556322</th>\n",
       "      <td>62695</td>\n",
       "      <td>R61</td>\n",
       "      <td>5.0</td>\n",
       "      <td>5</td>\n",
       "      <td>2</td>\n",
       "      <td>Astro</td>\n",
       "      <td>Astro II</td>\n",
       "    </tr>\n",
       "  </tbody>\n",
       "</table>\n",
       "<p>547139 rows × 7 columns</p>\n",
       "</div>"
      ],
      "text/plain": [
       "       cell_id Sample ID  Number of genes  Number of transcripts leiden  \\\n",
       "1            2      C3m1             12.0                     12     12   \n",
       "2            3      C3m1             34.0                     34     18   \n",
       "4            5      C3m1              6.0                      6     15   \n",
       "5            6      C3m1             16.0                     16      2   \n",
       "6            7      C3m1             30.0                     30      2   \n",
       "...        ...       ...              ...                    ...    ...   \n",
       "556312   62685       R61            159.0                    159      1   \n",
       "556313   62686       R61             97.0                     97      0   \n",
       "556314   62687       R61             86.0                     86      5   \n",
       "556315   62688       R61              5.0                      5      2   \n",
       "556322   62695       R61              5.0                      5      2   \n",
       "\n",
       "       cluster_names            celltype  \n",
       "1          Micro-PVM           Microglia  \n",
       "2          L5 PT CTX  Cortical Neurons V  \n",
       "4             Oligio            Oligo II  \n",
       "5              Astro            Astro II  \n",
       "6              Astro            Astro II  \n",
       "...              ...                 ...  \n",
       "556312         Astro             Astro I  \n",
       "556313          Endo                Endo  \n",
       "556314                Striatal Neurons I  \n",
       "556315         Astro            Astro II  \n",
       "556322         Astro            Astro II  \n",
       "\n",
       "[547139 rows x 7 columns]"
      ]
     },
     "execution_count": 11,
     "metadata": {},
     "output_type": "execute_result"
    }
   ],
   "source": [
    "xenium_scdata.obs"
   ]
  },
  {
   "cell_type": "code",
   "execution_count": 12,
   "id": "025660f1-f48a-44a1-87e6-a8e3e3ba56b5",
   "metadata": {
    "scrolled": true
   },
   "outputs": [
    {
     "data": {
      "text/html": [
       "<div>\n",
       "<style scoped>\n",
       "    .dataframe tbody tr th:only-of-type {\n",
       "        vertical-align: middle;\n",
       "    }\n",
       "\n",
       "    .dataframe tbody tr th {\n",
       "        vertical-align: top;\n",
       "    }\n",
       "\n",
       "    .dataframe thead th {\n",
       "        text-align: right;\n",
       "    }\n",
       "</style>\n",
       "<table border=\"1\" class=\"dataframe\">\n",
       "  <thead>\n",
       "    <tr style=\"text-align: right;\">\n",
       "      <th></th>\n",
       "      <th>cell_id</th>\n",
       "      <th>Sample ID</th>\n",
       "      <th>Number of genes</th>\n",
       "      <th>Number of transcripts</th>\n",
       "      <th>leiden</th>\n",
       "      <th>cluster_names</th>\n",
       "      <th>celltype</th>\n",
       "    </tr>\n",
       "  </thead>\n",
       "  <tbody>\n",
       "    <tr>\n",
       "      <th>1</th>\n",
       "      <td>2</td>\n",
       "      <td>C3m1</td>\n",
       "      <td>12.0</td>\n",
       "      <td>12</td>\n",
       "      <td>12</td>\n",
       "      <td>Micro-PVM</td>\n",
       "      <td>Microglia</td>\n",
       "    </tr>\n",
       "    <tr>\n",
       "      <th>2</th>\n",
       "      <td>3</td>\n",
       "      <td>C3m1</td>\n",
       "      <td>34.0</td>\n",
       "      <td>34</td>\n",
       "      <td>18</td>\n",
       "      <td>L5 PT CTX</td>\n",
       "      <td>Cortical Neurons V</td>\n",
       "    </tr>\n",
       "    <tr>\n",
       "      <th>4</th>\n",
       "      <td>5</td>\n",
       "      <td>C3m1</td>\n",
       "      <td>6.0</td>\n",
       "      <td>6</td>\n",
       "      <td>15</td>\n",
       "      <td>Oligio</td>\n",
       "      <td>Oligo II</td>\n",
       "    </tr>\n",
       "    <tr>\n",
       "      <th>5</th>\n",
       "      <td>6</td>\n",
       "      <td>C3m1</td>\n",
       "      <td>16.0</td>\n",
       "      <td>16</td>\n",
       "      <td>2</td>\n",
       "      <td>Astro</td>\n",
       "      <td>Astro II</td>\n",
       "    </tr>\n",
       "    <tr>\n",
       "      <th>6</th>\n",
       "      <td>7</td>\n",
       "      <td>C3m1</td>\n",
       "      <td>30.0</td>\n",
       "      <td>30</td>\n",
       "      <td>2</td>\n",
       "      <td>Astro</td>\n",
       "      <td>Astro II</td>\n",
       "    </tr>\n",
       "    <tr>\n",
       "      <th>...</th>\n",
       "      <td>...</td>\n",
       "      <td>...</td>\n",
       "      <td>...</td>\n",
       "      <td>...</td>\n",
       "      <td>...</td>\n",
       "      <td>...</td>\n",
       "      <td>...</td>\n",
       "    </tr>\n",
       "    <tr>\n",
       "      <th>556312</th>\n",
       "      <td>62685</td>\n",
       "      <td>R61</td>\n",
       "      <td>159.0</td>\n",
       "      <td>159</td>\n",
       "      <td>1</td>\n",
       "      <td>Astro</td>\n",
       "      <td>Astro I</td>\n",
       "    </tr>\n",
       "    <tr>\n",
       "      <th>556313</th>\n",
       "      <td>62686</td>\n",
       "      <td>R61</td>\n",
       "      <td>97.0</td>\n",
       "      <td>97</td>\n",
       "      <td>0</td>\n",
       "      <td>Endo</td>\n",
       "      <td>Endo</td>\n",
       "    </tr>\n",
       "    <tr>\n",
       "      <th>556314</th>\n",
       "      <td>62687</td>\n",
       "      <td>R61</td>\n",
       "      <td>86.0</td>\n",
       "      <td>86</td>\n",
       "      <td>5</td>\n",
       "      <td></td>\n",
       "      <td>Striatal Neurons I</td>\n",
       "    </tr>\n",
       "    <tr>\n",
       "      <th>556315</th>\n",
       "      <td>62688</td>\n",
       "      <td>R61</td>\n",
       "      <td>5.0</td>\n",
       "      <td>5</td>\n",
       "      <td>2</td>\n",
       "      <td>Astro</td>\n",
       "      <td>Astro II</td>\n",
       "    </tr>\n",
       "    <tr>\n",
       "      <th>556322</th>\n",
       "      <td>62695</td>\n",
       "      <td>R61</td>\n",
       "      <td>5.0</td>\n",
       "      <td>5</td>\n",
       "      <td>2</td>\n",
       "      <td>Astro</td>\n",
       "      <td>Astro II</td>\n",
       "    </tr>\n",
       "  </tbody>\n",
       "</table>\n",
       "<p>547139 rows × 7 columns</p>\n",
       "</div>"
      ],
      "text/plain": [
       "       cell_id Sample ID  Number of genes  Number of transcripts leiden  \\\n",
       "1            2      C3m1             12.0                     12     12   \n",
       "2            3      C3m1             34.0                     34     18   \n",
       "4            5      C3m1              6.0                      6     15   \n",
       "5            6      C3m1             16.0                     16      2   \n",
       "6            7      C3m1             30.0                     30      2   \n",
       "...        ...       ...              ...                    ...    ...   \n",
       "556312   62685       R61            159.0                    159      1   \n",
       "556313   62686       R61             97.0                     97      0   \n",
       "556314   62687       R61             86.0                     86      5   \n",
       "556315   62688       R61              5.0                      5      2   \n",
       "556322   62695       R61              5.0                      5      2   \n",
       "\n",
       "       cluster_names            celltype  \n",
       "1          Micro-PVM           Microglia  \n",
       "2          L5 PT CTX  Cortical Neurons V  \n",
       "4             Oligio            Oligo II  \n",
       "5              Astro            Astro II  \n",
       "6              Astro            Astro II  \n",
       "...              ...                 ...  \n",
       "556312         Astro             Astro I  \n",
       "556313          Endo                Endo  \n",
       "556314                Striatal Neurons I  \n",
       "556315         Astro            Astro II  \n",
       "556322         Astro            Astro II  \n",
       "\n",
       "[547139 rows x 7 columns]"
      ]
     },
     "execution_count": 12,
     "metadata": {},
     "output_type": "execute_result"
    }
   ],
   "source": [
    "xenium_overlap_scdata.obs"
   ]
  },
  {
   "cell_type": "code",
   "execution_count": 13,
   "id": "ec0ad5f6-ec2b-4c4a-9256-c6b2b090131b",
   "metadata": {},
   "outputs": [
    {
     "name": "stderr",
     "output_type": "stream",
     "text": [
      "C:\\Users\\krist\\AppData\\Local\\Temp\\ipykernel_27864\\3820177663.py:1: ImplicitModificationWarning: Trying to modify attribute `.obs` of view, initializing view as actual.\n",
      "  xenium_overlap_scdata.obs['Number of transcripts'] = list(xenium_overlap_scdata.X.sum(axis=1))\n"
     ]
    }
   ],
   "source": [
    "xenium_overlap_scdata.obs['Number of transcripts'] = list(xenium_overlap_scdata.X.sum(axis=1))"
   ]
  },
  {
   "cell_type": "code",
   "execution_count": 14,
   "id": "3141c58f-46e6-405d-9d3d-2f3b801d76b4",
   "metadata": {},
   "outputs": [
    {
     "data": {
      "text/plain": [
       "3.0      29837\n",
       "4.0      29474\n",
       "5.0      28755\n",
       "2.0      28294\n",
       "6.0      27394\n",
       "         ...  \n",
       "202.0        1\n",
       "188.0        1\n",
       "197.0        1\n",
       "151.0        1\n",
       "177.0        1\n",
       "Name: Number of transcripts, Length: 176, dtype: int64"
      ]
     },
     "execution_count": 14,
     "metadata": {},
     "output_type": "execute_result"
    }
   ],
   "source": [
    "xenium_overlap_scdata.obs['Number of transcripts'].value_counts()"
   ]
  },
  {
   "cell_type": "code",
   "execution_count": 15,
   "id": "83ef84e4-a9e0-445e-89aa-d47714256014",
   "metadata": {},
   "outputs": [],
   "source": [
    "xenium_overlap_scdata.obs['Number of genes'] = list(np.count_nonzero(xenium_overlap_scdata.X, axis = 1))"
   ]
  },
  {
   "cell_type": "code",
   "execution_count": 16,
   "id": "cdb6286e-0cd2-43f9-a9a8-c0b1f0b1baa3",
   "metadata": {
    "scrolled": true
   },
   "outputs": [
    {
     "data": {
      "text/plain": [
       "3     121562\n",
       "4     110667\n",
       "2      99806\n",
       "5      77683\n",
       "1      51985\n",
       "6      42659\n",
       "7      18939\n",
       "0      15102\n",
       "8       6458\n",
       "9       1829\n",
       "10       398\n",
       "11        49\n",
       "12         2\n",
       "Name: Number of genes, dtype: int64"
      ]
     },
     "execution_count": 16,
     "metadata": {},
     "output_type": "execute_result"
    }
   ],
   "source": [
    "xenium_overlap_scdata.obs['Number of genes'].value_counts()"
   ]
  },
  {
   "cell_type": "code",
   "execution_count": 17,
   "id": "0f379b7b-da41-4731-a233-318dc545012a",
   "metadata": {},
   "outputs": [
    {
     "data": {
      "text/plain": [
       "View of AnnData object with n_obs × n_vars = 532037 × 13\n",
       "    obs: 'cell_id', 'Sample ID', 'Number of genes', 'Number of transcripts', 'leiden', 'cluster_names', 'celltype'\n",
       "    uns: 'Sample ID_colors', 'cell_id_colors', 'celltype_colors', 'cluster_names_colors', 'leiden', 'leiden_colors', 'neighbors', 'pca', 'rank_genes_groups'\n",
       "    obsm: 'X_pca', 'X_raw', 'X_spatial', 'X_spatial_rescaled', 'X_spatial_rescaled_flipped', 'X_umap'\n",
       "    varm: 'PCs'\n",
       "    obsp: 'connectivities', 'distances'"
      ]
     },
     "execution_count": 17,
     "metadata": {},
     "output_type": "execute_result"
    }
   ],
   "source": [
    "#set minimum number of gene threshold to 1\n",
    "xenium_overlap_scdata_filtered = xenium_overlap_scdata[xenium_overlap_scdata.obs['Number of genes'] > 0]\n",
    "xenium_overlap_scdata_filtered"
   ]
  },
  {
   "cell_type": "code",
   "execution_count": 18,
   "id": "0a833ede-6987-46e6-a9cc-99910e34fe0d",
   "metadata": {},
   "outputs": [
    {
     "data": {
      "text/plain": [
       "View of AnnData object with n_obs × n_vars = 420806 × 13\n",
       "    obs: 'cell_id', 'Sample ID', 'Number of genes', 'Number of transcripts', 'leiden', 'cluster_names', 'celltype'\n",
       "    uns: 'Sample ID_colors', 'cell_id_colors', 'celltype_colors', 'cluster_names_colors', 'leiden', 'leiden_colors', 'neighbors', 'pca', 'rank_genes_groups'\n",
       "    obsm: 'X_pca', 'X_raw', 'X_spatial', 'X_spatial_rescaled', 'X_spatial_rescaled_flipped', 'X_umap'\n",
       "    varm: 'PCs'\n",
       "    obsp: 'connectivities', 'distances'"
      ]
     },
     "execution_count": 18,
     "metadata": {},
     "output_type": "execute_result"
    }
   ],
   "source": [
    "#set minimum number of transcript threshold to 5\n",
    "xenium_overlap_scdata_filtered = xenium_overlap_scdata_filtered[xenium_overlap_scdata_filtered.obs['Number of transcripts'] >= 5]\n",
    "xenium_overlap_scdata_filtered"
   ]
  },
  {
   "cell_type": "code",
   "execution_count": 19,
   "id": "7226c158-1695-4fdb-9c02-2a0204dc880d",
   "metadata": {},
   "outputs": [
    {
     "ename": "KeyboardInterrupt",
     "evalue": "",
     "output_type": "error",
     "traceback": [
      "\u001b[1;31m---------------------------------------------------------------------------\u001b[0m",
      "\u001b[1;31mKeyboardInterrupt\u001b[0m                         Traceback (most recent call last)",
      "Cell \u001b[1;32mIn[19], line 3\u001b[0m\n\u001b[0;32m      1\u001b[0m \u001b[38;5;66;03m#subset to include only 2 C24 and 2 HD24\u001b[39;00m\n\u001b[0;32m      2\u001b[0m sample_id_subset \u001b[38;5;241m=\u001b[39m [\u001b[38;5;124m'\u001b[39m\u001b[38;5;124mC24m1\u001b[39m\u001b[38;5;124m'\u001b[39m, \u001b[38;5;124m'\u001b[39m\u001b[38;5;124mC24m2\u001b[39m\u001b[38;5;124m'\u001b[39m, \u001b[38;5;124m'\u001b[39m\u001b[38;5;124mHD24m1\u001b[39m\u001b[38;5;124m'\u001b[39m, \u001b[38;5;124m'\u001b[39m\u001b[38;5;124mHD24m2\u001b[39m\u001b[38;5;124m'\u001b[39m]\n\u001b[1;32m----> 3\u001b[0m xenium_overlap_scdata_filtered \u001b[38;5;241m=\u001b[39m \u001b[43mxenium_overlap_scdata_filtered\u001b[49m\u001b[43m[\u001b[49m\u001b[43mnp\u001b[49m\u001b[38;5;241;43m.\u001b[39;49m\u001b[43misin\u001b[49m\u001b[43m(\u001b[49m\u001b[43mxenium_overlap_scdata_filtered\u001b[49m\u001b[38;5;241;43m.\u001b[39;49m\u001b[43mobs\u001b[49m\u001b[43m[\u001b[49m\u001b[38;5;124;43m'\u001b[39;49m\u001b[38;5;124;43mSample ID\u001b[39;49m\u001b[38;5;124;43m'\u001b[39;49m\u001b[43m]\u001b[49m\u001b[43m,\u001b[49m\u001b[43m \u001b[49m\u001b[43msample_id_subset\u001b[49m\u001b[43m)\u001b[49m\u001b[43m]\u001b[49m\n\u001b[0;32m      4\u001b[0m xenium_overlap_scdata_filtered\n",
      "File \u001b[1;32m~\\AppData\\Local\\Programs\\Python\\Python311\\Lib\\site-packages\\anndata\\_core\\anndata.py:1086\u001b[0m, in \u001b[0;36mAnnData.__getitem__\u001b[1;34m(self, index)\u001b[0m\n\u001b[0;32m   1084\u001b[0m \u001b[38;5;250m\u001b[39m\u001b[38;5;124;03m\"\"\"Returns a sliced view of the object.\"\"\"\u001b[39;00m\n\u001b[0;32m   1085\u001b[0m oidx, vidx \u001b[38;5;241m=\u001b[39m \u001b[38;5;28mself\u001b[39m\u001b[38;5;241m.\u001b[39m_normalize_indices(index)\n\u001b[1;32m-> 1086\u001b[0m \u001b[38;5;28;01mreturn\u001b[39;00m \u001b[43mAnnData\u001b[49m\u001b[43m(\u001b[49m\u001b[38;5;28;43mself\u001b[39;49m\u001b[43m,\u001b[49m\u001b[43m \u001b[49m\u001b[43moidx\u001b[49m\u001b[38;5;241;43m=\u001b[39;49m\u001b[43moidx\u001b[49m\u001b[43m,\u001b[49m\u001b[43m \u001b[49m\u001b[43mvidx\u001b[49m\u001b[38;5;241;43m=\u001b[39;49m\u001b[43mvidx\u001b[49m\u001b[43m,\u001b[49m\u001b[43m \u001b[49m\u001b[43masview\u001b[49m\u001b[38;5;241;43m=\u001b[39;49m\u001b[38;5;28;43;01mTrue\u001b[39;49;00m\u001b[43m)\u001b[49m\n",
      "File \u001b[1;32m~\\AppData\\Local\\Programs\\Python\\Python311\\Lib\\site-packages\\anndata\\_core\\anndata.py:269\u001b[0m, in \u001b[0;36mAnnData.__init__\u001b[1;34m(self, X, obs, var, uns, obsm, varm, layers, raw, dtype, shape, filename, filemode, asview, obsp, varp, oidx, vidx)\u001b[0m\n\u001b[0;32m    267\u001b[0m     \u001b[38;5;28;01mif\u001b[39;00m \u001b[38;5;129;01mnot\u001b[39;00m \u001b[38;5;28misinstance\u001b[39m(X, AnnData):\n\u001b[0;32m    268\u001b[0m         \u001b[38;5;28;01mraise\u001b[39;00m \u001b[38;5;167;01mValueError\u001b[39;00m(\u001b[38;5;124m\"\u001b[39m\u001b[38;5;124m`X` has to be an AnnData object.\u001b[39m\u001b[38;5;124m\"\u001b[39m)\n\u001b[1;32m--> 269\u001b[0m     \u001b[38;5;28;43mself\u001b[39;49m\u001b[38;5;241;43m.\u001b[39;49m\u001b[43m_init_as_view\u001b[49m\u001b[43m(\u001b[49m\u001b[43mX\u001b[49m\u001b[43m,\u001b[49m\u001b[43m \u001b[49m\u001b[43moidx\u001b[49m\u001b[43m,\u001b[49m\u001b[43m \u001b[49m\u001b[43mvidx\u001b[49m\u001b[43m)\u001b[49m\n\u001b[0;32m    270\u001b[0m \u001b[38;5;28;01melse\u001b[39;00m:\n\u001b[0;32m    271\u001b[0m     \u001b[38;5;28mself\u001b[39m\u001b[38;5;241m.\u001b[39m_init_as_actual(\n\u001b[0;32m    272\u001b[0m         X\u001b[38;5;241m=\u001b[39mX,\n\u001b[0;32m    273\u001b[0m         obs\u001b[38;5;241m=\u001b[39mobs,\n\u001b[1;32m   (...)\u001b[0m\n\u001b[0;32m    285\u001b[0m         filemode\u001b[38;5;241m=\u001b[39mfilemode,\n\u001b[0;32m    286\u001b[0m     )\n",
      "File \u001b[1;32m~\\AppData\\Local\\Programs\\Python\\Python311\\Lib\\site-packages\\anndata\\_core\\anndata.py:325\u001b[0m, in \u001b[0;36mAnnData._init_as_view\u001b[1;34m(self, adata_ref, oidx, vidx)\u001b[0m\n\u001b[0;32m    323\u001b[0m \u001b[38;5;66;03m# fix categories\u001b[39;00m\n\u001b[0;32m    324\u001b[0m uns \u001b[38;5;241m=\u001b[39m copy(adata_ref\u001b[38;5;241m.\u001b[39m_uns)\n\u001b[1;32m--> 325\u001b[0m \u001b[38;5;28;43mself\u001b[39;49m\u001b[38;5;241;43m.\u001b[39;49m\u001b[43m_remove_unused_categories\u001b[49m\u001b[43m(\u001b[49m\u001b[43madata_ref\u001b[49m\u001b[38;5;241;43m.\u001b[39;49m\u001b[43mobs\u001b[49m\u001b[43m,\u001b[49m\u001b[43m \u001b[49m\u001b[43mobs_sub\u001b[49m\u001b[43m,\u001b[49m\u001b[43m \u001b[49m\u001b[43muns\u001b[49m\u001b[43m)\u001b[49m\n\u001b[0;32m    326\u001b[0m \u001b[38;5;28mself\u001b[39m\u001b[38;5;241m.\u001b[39m_remove_unused_categories(adata_ref\u001b[38;5;241m.\u001b[39mvar, var_sub, uns)\n\u001b[0;32m    327\u001b[0m \u001b[38;5;66;03m# set attributes\u001b[39;00m\n",
      "File \u001b[1;32m~\\AppData\\Local\\Programs\\Python\\Python311\\Lib\\site-packages\\anndata\\_core\\anndata.py:1109\u001b[0m, in \u001b[0;36mAnnData._remove_unused_categories\u001b[1;34m(self, df_full, df_sub, uns)\u001b[0m\n\u001b[0;32m   1107\u001b[0m     \u001b[38;5;28;01mdel\u001b[39;00m uns[color_key]\n\u001b[0;32m   1108\u001b[0m \u001b[38;5;28;01melse\u001b[39;00m:\n\u001b[1;32m-> 1109\u001b[0m     idx \u001b[38;5;241m=\u001b[39m np\u001b[38;5;241m.\u001b[39mwhere(\u001b[43mnp\u001b[49m\u001b[38;5;241;43m.\u001b[39;49m\u001b[43min1d\u001b[49m\u001b[43m(\u001b[49m\u001b[43mall_categories\u001b[49m\u001b[43m,\u001b[49m\u001b[43m \u001b[49m\u001b[43mdf_sub\u001b[49m\u001b[43m[\u001b[49m\u001b[43mk\u001b[49m\u001b[43m]\u001b[49m\u001b[38;5;241;43m.\u001b[39;49m\u001b[43mcat\u001b[49m\u001b[38;5;241;43m.\u001b[39;49m\u001b[43mcategories\u001b[49m\u001b[43m)\u001b[49m)[\u001b[38;5;241m0\u001b[39m]\n\u001b[0;32m   1110\u001b[0m     uns[color_key] \u001b[38;5;241m=\u001b[39m np\u001b[38;5;241m.\u001b[39marray(color_vec)[(idx,)]\n",
      "File \u001b[1;32m<__array_function__ internals>:200\u001b[0m, in \u001b[0;36min1d\u001b[1;34m(*args, **kwargs)\u001b[0m\n",
      "File \u001b[1;32m~\\AppData\\Local\\Programs\\Python\\Python311\\Lib\\site-packages\\numpy\\lib\\arraysetops.py:733\u001b[0m, in \u001b[0;36min1d\u001b[1;34m(ar1, ar2, assume_unique, invert, kind)\u001b[0m\n\u001b[0;32m    731\u001b[0m         mask \u001b[38;5;241m=\u001b[39m np\u001b[38;5;241m.\u001b[39mzeros(\u001b[38;5;28mlen\u001b[39m(ar1), dtype\u001b[38;5;241m=\u001b[39m\u001b[38;5;28mbool\u001b[39m)\n\u001b[0;32m    732\u001b[0m         \u001b[38;5;28;01mfor\u001b[39;00m a \u001b[38;5;129;01min\u001b[39;00m ar2:\n\u001b[1;32m--> 733\u001b[0m             mask \u001b[38;5;241m|\u001b[39m\u001b[38;5;241m=\u001b[39m (ar1 \u001b[38;5;241m==\u001b[39m a)\n\u001b[0;32m    734\u001b[0m     \u001b[38;5;28;01mreturn\u001b[39;00m mask\n\u001b[0;32m    736\u001b[0m \u001b[38;5;66;03m# Otherwise use sorting\u001b[39;00m\n",
      "\u001b[1;31mKeyboardInterrupt\u001b[0m: "
     ]
    }
   ],
   "source": [
    "#subset to include only 2 C24 and 2 HD24\n",
    "sample_id_subset = ['C24m1', 'C24m2', 'HD24m1', 'HD24m2']\n",
    "xenium_overlap_scdata_filtered = xenium_overlap_scdata_filtered[np.isin(xenium_overlap_scdata_filtered.obs['Sample ID'], sample_id_subset)]\n",
    "xenium_overlap_scdata_filtered"
   ]
  },
  {
   "cell_type": "markdown",
   "id": "bb0dbcaa-171a-4a72-b066-50e17a38bd4f",
   "metadata": {},
   "source": [
    "### Cosmx preprocessing"
   ]
  },
  {
   "cell_type": "code",
   "execution_count": null,
   "id": "c0a1d666-b12c-4896-b77d-861bffc8b104",
   "metadata": {},
   "outputs": [],
   "source": [
    "cosmx_overlap_scdata = cosmx_scdata\n",
    "cosmx_overlap_scdata.X = cosmx_overlap_scdata.obsm['X_raw']\n",
    "cosmx_overlap_scdata = cosmx_scdata[:, var_names]\n",
    "cosmx_overlap_scdata"
   ]
  },
  {
   "cell_type": "code",
   "execution_count": null,
   "id": "4927d854-1445-4811-ae3e-6b9adde19498",
   "metadata": {},
   "outputs": [],
   "source": [
    "cosmx_scdata.obs"
   ]
  },
  {
   "cell_type": "code",
   "execution_count": null,
   "id": "511898c4-7da3-4eb7-a74f-dde37391879e",
   "metadata": {},
   "outputs": [],
   "source": [
    "cosmx_overlap_scdata.obs"
   ]
  },
  {
   "cell_type": "code",
   "execution_count": null,
   "id": "b5dc846f-4cd3-4bc0-9a1a-6d689eb51d3c",
   "metadata": {},
   "outputs": [],
   "source": [
    "cosmx_overlap_scdata.obs['total_counts'] = list(cosmx_overlap_scdata.X.sum(axis = 1))"
   ]
  },
  {
   "cell_type": "code",
   "execution_count": null,
   "id": "1b812736-8a1c-45c1-8c3c-9276b8aee4c9",
   "metadata": {},
   "outputs": [],
   "source": [
    "cosmx_overlap_scdata.obs['total_counts'].value_counts()"
   ]
  },
  {
   "cell_type": "code",
   "execution_count": null,
   "id": "ac74a122-3ad1-484c-a127-ae1f8fd9e332",
   "metadata": {},
   "outputs": [],
   "source": [
    "cosmx_overlap_scdata.obs['gene_count'] = list(np.count_nonzero(cosmx_overlap_scdata.X, axis = 1))"
   ]
  },
  {
   "cell_type": "code",
   "execution_count": null,
   "id": "0be04c56-9479-4f16-8ef0-b0d92f397db7",
   "metadata": {},
   "outputs": [],
   "source": [
    "cosmx_overlap_scdata.obs['gene_count'].value_counts()"
   ]
  },
  {
   "cell_type": "code",
   "execution_count": null,
   "id": "9441dc27-d393-476d-87f0-c3b44729eb62",
   "metadata": {},
   "outputs": [],
   "source": [
    "cosmx_overlap_scdata_filtered = cosmx_overlap_scdata[cosmx_overlap_scdata.obs['gene_count'] > 0]\n",
    "cosmx_overlap_scdata_filtered"
   ]
  },
  {
   "cell_type": "code",
   "execution_count": null,
   "id": "ebaddd8d-e9ac-4e95-b616-17441307140e",
   "metadata": {},
   "outputs": [],
   "source": [
    "cosmx_overlap_scdata_filtered = cosmx_overlap_scdata_filtered[cosmx_overlap_scdata_filtered.obs['total_counts'] >= 5]\n",
    "cosmx_overlap_scdata_filtered"
   ]
  },
  {
   "cell_type": "markdown",
   "id": "bf24629e-b594-4e6a-91b7-9185356c255a",
   "metadata": {},
   "source": [
    "### Gellyfish preprocessing"
   ]
  },
  {
   "cell_type": "code",
   "execution_count": null,
   "id": "aa268f62-61cd-4ad9-88b2-2088f3bf0d1e",
   "metadata": {},
   "outputs": [],
   "source": [
    "gellyfish_overlap_scdata = gellyfish_scdata\n",
    "gellyfish_overlap_scdata.X = gellyfish_overlap_scdata.layers['Raw counts']\n",
    "gellyfish_overlap_scdata = gellyfish_overlap_scdata[:, var_names]\n",
    "gellyfish_overlap_scdata"
   ]
  },
  {
   "cell_type": "code",
   "execution_count": null,
   "id": "dc2dfa3a-7992-46c6-ba0b-22d84028305d",
   "metadata": {
    "scrolled": true
   },
   "outputs": [],
   "source": [
    "gellyfish_scdata.obs"
   ]
  },
  {
   "cell_type": "code",
   "execution_count": null,
   "id": "bdd3b484-2bc6-4fe3-8a6b-995d797626d6",
   "metadata": {
    "scrolled": true
   },
   "outputs": [],
   "source": [
    "gellyfish_overlap_scdata.obs"
   ]
  },
  {
   "cell_type": "code",
   "execution_count": null,
   "id": "b44232cd-3e00-44d4-bca7-08e9abe9637b",
   "metadata": {},
   "outputs": [],
   "source": [
    "gellyfish_overlap_scdata.obs['total_counts'] = list(gellyfish_overlap_scdata.X.sum(axis = 1))                                       "
   ]
  },
  {
   "cell_type": "code",
   "execution_count": null,
   "id": "22062e49-52c8-4218-9a9e-ba965e6fd836",
   "metadata": {},
   "outputs": [],
   "source": [
    "gellyfish_overlap_scdata.obs['n_genes'] = list(np.count_nonzero(gellyfish_overlap_scdata.X, axis = 1))"
   ]
  },
  {
   "cell_type": "code",
   "execution_count": null,
   "id": "c388fb6d-87e2-4b40-8d19-013cf5571396",
   "metadata": {},
   "outputs": [],
   "source": [
    "gellyfish_overlap_scdata_filtered = gellyfish_overlap_scdata[gellyfish_overlap_scdata.obs['n_genes'] > 0]\n",
    "gellyfish_overlap_scdata_filtered"
   ]
  },
  {
   "cell_type": "code",
   "execution_count": null,
   "id": "815f64e2-75be-4963-a94e-b1b72ace85d4",
   "metadata": {},
   "outputs": [],
   "source": [
    "gellyfish_overlap_scdata_filtered = gellyfish_overlap_scdata_filtered[gellyfish_overlap_scdata_filtered.obs['total_counts'] >= 5]\n",
    "gellyfish_overlap_scdata_filtered"
   ]
  },
  {
   "cell_type": "markdown",
   "id": "7644ac74-08a7-464c-8980-4edb8bd7929b",
   "metadata": {},
   "source": [
    "### Xenium Overlap"
   ]
  },
  {
   "cell_type": "code",
   "execution_count": null,
   "id": "192c2912-4e8c-4800-84bd-d3cb742ad556",
   "metadata": {
    "scrolled": true
   },
   "outputs": [],
   "source": [
    "dimred = PCA()\n",
    "dimred.fit(xenium_overlap_scdata_filtered.X)\n",
    "sns.lineplot(np.cumsum(dimred.explained_variance_ratio_))\n",
    "location = KneeLocator(range(1, len(dimred.explained_variance_ratio_) + 1),\n",
    "                       np.cumsum(dimred.explained_variance_ratio_),\n",
    "                       curve=\"concave\", direction=\"increasing\")\n",
    "plt.axvline(location.elbow, color=\"red\", linestyle=\"--\")\n",
    "plt.xlim((0, 5));"
   ]
  },
  {
   "cell_type": "code",
   "execution_count": null,
   "id": "d188e435-d86b-48d2-a0b2-27329e43f8a4",
   "metadata": {},
   "outputs": [],
   "source": [
    "sc.pp.pca(xenium_overlap_scdata_filtered, n_comps = 4)"
   ]
  },
  {
   "cell_type": "code",
   "execution_count": null,
   "id": "2d665c0b-5a78-4ad2-b1bd-b1f25358ac6b",
   "metadata": {},
   "outputs": [],
   "source": [
    "umap_operator = umap.UMAP(n_components = 2, random_state = 42, metric = 'euclidean', min_dist = 0.01, n_neighbors = 50)\n",
    "umap_result_xenium = umap_operator.fit_transform(xenium_overlap_scdata_filtered.X)\n",
    "xenium_overlap_scdata_filtered.obsm['X_umap'] = umap_result_xenium"
   ]
  },
  {
   "cell_type": "code",
   "execution_count": null,
   "id": "05402050-9da9-4098-acdb-aafeb8e91952",
   "metadata": {},
   "outputs": [],
   "source": [
    "sc.pp.neighbors(xenium_overlap_scdata_filtered, use_rep = 'X_umap', n_neighbors=15)"
   ]
  },
  {
   "cell_type": "code",
   "execution_count": null,
   "id": "dc21fa13-8216-4b70-82a1-1d59f93ed68d",
   "metadata": {},
   "outputs": [],
   "source": [
    "sc.tl.leiden(xenium_overlap_scdata_filtered, resolution = 0.001)"
   ]
  },
  {
   "cell_type": "code",
   "execution_count": null,
   "id": "fa7fb1a5-1e9e-4aa5-a2f0-1e47a813ad60",
   "metadata": {},
   "outputs": [],
   "source": [
    "sc.pl.umap(xenium_overlap_scdata_filtered, color = 'leiden', legend_loc = 'on data')"
   ]
  },
  {
   "cell_type": "code",
   "execution_count": null,
   "id": "3b8c0df0-c8d5-4453-83f3-6f3e4300f1b3",
   "metadata": {},
   "outputs": [],
   "source": [
    "xenium_overlap_scdata_filtered"
   ]
  },
  {
   "cell_type": "code",
   "execution_count": null,
   "id": "2f9817a4-1fb1-47c7-a1dc-873aefb0a400",
   "metadata": {},
   "outputs": [],
   "source": [
    "sc.pl.embedding(xenium_overlap_scdata_filtered, basis= 'X_spatial_rescaled_flipped', color = 'leiden', size = 5)"
   ]
  },
  {
   "cell_type": "code",
   "execution_count": null,
   "id": "9bb776ee-77ad-4eda-a196-2c841a068b7a",
   "metadata": {},
   "outputs": [],
   "source": [
    "adata_xenium_overlap = Jenie(xenium_overlap_scdata_filtered, 'xenium_overlap_scdata_filtered', 'xenium_overlap_scdata_filtered', pallete = 'color_dict')"
   ]
  },
  {
   "cell_type": "code",
   "execution_count": null,
   "id": "88c72fff-debb-467c-b8ac-dd159bfd1116",
   "metadata": {},
   "outputs": [],
   "source": [
    "adata_xenium_overlap.umap(group='leiden', size = 3)"
   ]
  },
  {
   "cell_type": "code",
   "execution_count": null,
   "id": "43123f16-5123-4866-b634-1af9cc694953",
   "metadata": {},
   "outputs": [],
   "source": [
    "#Note: ask Roy if I should filter out any clusters\n",
    "xenium_overlap_scdata_filtered.obs['leiden'].value_counts()"
   ]
  },
  {
   "cell_type": "markdown",
   "id": "7b90d4c3-b342-44ce-9747-e35f777a747a",
   "metadata": {},
   "source": [
    "### Cosmx Overlap"
   ]
  },
  {
   "cell_type": "code",
   "execution_count": null,
   "id": "14635551-ebf6-436b-9311-dc9e161594b5",
   "metadata": {},
   "outputs": [],
   "source": [
    "dimred = PCA()\n",
    "dimred.fit(cosmx_overlap_scdata_filtered.X)\n",
    "sns.lineplot(np.cumsum(dimred.explained_variance_ratio_))\n",
    "location = KneeLocator(range(1, len(dimred.explained_variance_ratio_) + 1),\n",
    "                       np.cumsum(dimred.explained_variance_ratio_),\n",
    "                       curve=\"concave\", direction=\"increasing\")\n",
    "plt.axvline(location.elbow, color=\"red\", linestyle=\"--\")\n",
    "plt.xlim((0, 15));"
   ]
  },
  {
   "cell_type": "code",
   "execution_count": null,
   "id": "5f673fc2-17ef-4c5e-a93c-c21e2db78ca0",
   "metadata": {},
   "outputs": [],
   "source": [
    "#sc.pp.log1p(cosmx_overlap_scdata_filtered)\n",
    "#sc.pp.normalize_total(cosmx_overlap_scdata_filtered)\n",
    "#sc.pp.scale(cosmx_overlap_scdata_filtered)\n",
    "#sc.pp.pca(cosmx_overlap_scdata_filtered, n_comps = 5, random_state = 42)\n",
    "umap_operator = umap.UMAP(n_components = 2, random_state = 42, metric = 'euclidean', min_dist = 0.01, n_neighbors = 40)\n",
    "umap_result_cosmx = umap_operator.fit_transform(cosmx_overlap_scdata_filtered.X)\n",
    "cosmx_overlap_scdata_filtered.obsm['X_umap'] = umap_result_cosmx"
   ]
  },
  {
   "cell_type": "code",
   "execution_count": null,
   "id": "0f73321b-82ae-44ef-97a7-f013f6a5ae33",
   "metadata": {},
   "outputs": [],
   "source": [
    "sc.pp.neighbors(cosmx_overlap_scdata_filtered, use_rep = 'X_umap', n_neighbors = 40)"
   ]
  },
  {
   "cell_type": "code",
   "execution_count": null,
   "id": "378b4e44-07c6-44d9-ac0c-0a059d77fed4",
   "metadata": {},
   "outputs": [],
   "source": [
    "sc.tl.leiden(cosmx_overlap_scdata_filtered, resolution = 0.001)"
   ]
  },
  {
   "cell_type": "code",
   "execution_count": null,
   "id": "9a5a0e13-3364-4a7b-972e-1d24da8003bb",
   "metadata": {
    "scrolled": true
   },
   "outputs": [],
   "source": [
    "sc.pl.umap(cosmx_overlap_scdata_filtered, color = 'leiden', legend_loc = 'on data')"
   ]
  },
  {
   "cell_type": "code",
   "execution_count": null,
   "id": "9142398f-379a-4b46-80b7-02ca03dd2f0a",
   "metadata": {},
   "outputs": [],
   "source": [
    "print(cosmx_overlap_scdata_filtered.obs['leiden'].value_counts()[0:60])"
   ]
  },
  {
   "cell_type": "code",
   "execution_count": null,
   "id": "38956605-fe49-491c-b449-c016bf31c952",
   "metadata": {},
   "outputs": [],
   "source": [
    "sc.pl.embedding(cosmx_overlap_scdata_filtered, basis = 'X_spatial', color = 'leiden')"
   ]
  },
  {
   "cell_type": "code",
   "execution_count": null,
   "id": "14fa43cf-9685-4b8e-ad69-56c178149d82",
   "metadata": {},
   "outputs": [],
   "source": [
    "adata_cosmx_overlap = Jenie(cosmx_overlap_scdata_filtered, 'cosmx_overlap_scdata_filtered', 'cosmx_overlap_scdata_filtered', pallete = 'color_dict')"
   ]
  },
  {
   "cell_type": "code",
   "execution_count": null,
   "id": "8cc09299-b3d0-4bd4-aa3c-6d0d492d43e1",
   "metadata": {},
   "outputs": [],
   "source": [
    "adata_cosmx_overlap.umap(group = 'leiden', size=3)"
   ]
  },
  {
   "cell_type": "markdown",
   "id": "6a89bc0f-5a4a-4903-a76a-6b404d874eb8",
   "metadata": {},
   "source": [
    "### Gellyfish Overlap"
   ]
  },
  {
   "cell_type": "code",
   "execution_count": null,
   "id": "68be5af6-6f71-4aa8-9c51-b09a20abcbef",
   "metadata": {},
   "outputs": [],
   "source": [
    "sc.pp.pca(gellyfish_overlap_scdata_filtered)\n",
    "sc.pp.neighbors(gellyfish_overlap_scdata_filtered)\n",
    "sc.tl.umap(gellyfish_overlap_scdata_filtered)"
   ]
  },
  {
   "cell_type": "code",
   "execution_count": null,
   "id": "8590450a-3388-419a-8918-e915b1a6d6b5",
   "metadata": {},
   "outputs": [],
   "source": [
    "sc.tl.leiden(gellyfish_overlap_scdata_filtered, resolution = 1)"
   ]
  },
  {
   "cell_type": "code",
   "execution_count": null,
   "id": "8d00b2d5-98df-470e-8b48-431c821f8ce8",
   "metadata": {},
   "outputs": [],
   "source": [
    "sc.pl.umap(gellyfish_overlap_scdata_filtered, color = 'leiden', legend_loc = 'on data')"
   ]
  },
  {
   "cell_type": "code",
   "execution_count": null,
   "id": "fcd2fb43-f2f3-4574-be38-cfe046bb3b2a",
   "metadata": {},
   "outputs": [],
   "source": [
    "gellyfish_overlap_scdata_filtered.obs['leiden'].value_counts()"
   ]
  }
 ],
 "metadata": {
  "kernelspec": {
   "display_name": "Python 3 (ipykernel)",
   "language": "python",
   "name": "python3"
  },
  "language_info": {
   "codemirror_mode": {
    "name": "ipython",
    "version": 3
   },
   "file_extension": ".py",
   "mimetype": "text/x-python",
   "name": "python",
   "nbconvert_exporter": "python",
   "pygments_lexer": "ipython3",
   "version": "3.11.4"
  }
 },
 "nbformat": 4,
 "nbformat_minor": 5
}
