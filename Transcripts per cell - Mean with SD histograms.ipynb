{
 "cells": [
  {
   "cell_type": "code",
   "execution_count": 22,
   "id": "501af690",
   "metadata": {},
   "outputs": [],
   "source": [
    "import pandas as pd\n",
    "import numpy as np\n",
    "import matplotlib.pyplot as plt\n",
    "import scanpy as sc\n",
    "import anndata\n",
    "import umap.umap_ as umap\n",
    "import leidenalg\n",
    "from mpl_toolkits.mplot3d import Axes3D\n",
    "import seaborn as sns\n",
    "from sklearn.cluster import KMeans\n",
    "from scipy.spatial.distance import pdist, squareform\n",
    "from sklearn.metrics import pairwise_distances\n",
    "from scipy.stats import zscore\n",
    "from matplotlib.colorbar import ColorbarBase\n",
    "import matplotlib.colors as mcolors\n",
    "\n",
    "%matplotlib inline"
   ]
  },
  {
   "cell_type": "code",
   "execution_count": 2,
   "id": "84ae4b6e",
   "metadata": {},
   "outputs": [],
   "source": [
    "plt.style.use('dark_background')"
   ]
  },
  {
   "cell_type": "code",
   "execution_count": 18,
   "id": "c1fbfcd1",
   "metadata": {},
   "outputs": [],
   "source": [
    "plt.style.use('default')"
   ]
  },
  {
   "cell_type": "markdown",
   "id": "ee2c04df",
   "metadata": {},
   "source": [
    "# Xenium Analysis"
   ]
  },
  {
   "cell_type": "code",
   "execution_count": 23,
   "id": "70a9a602",
   "metadata": {
    "scrolled": true
   },
   "outputs": [
    {
     "data": {
      "text/html": [
       "<div>\n",
       "<style scoped>\n",
       "    .dataframe tbody tr th:only-of-type {\n",
       "        vertical-align: middle;\n",
       "    }\n",
       "\n",
       "    .dataframe tbody tr th {\n",
       "        vertical-align: top;\n",
       "    }\n",
       "\n",
       "    .dataframe thead th {\n",
       "        text-align: right;\n",
       "    }\n",
       "</style>\n",
       "<table border=\"1\" class=\"dataframe\">\n",
       "  <thead>\n",
       "    <tr style=\"text-align: right;\">\n",
       "      <th></th>\n",
       "      <th>cell_id</th>\n",
       "      <th>x_centroid</th>\n",
       "      <th>y_centroid</th>\n",
       "      <th>transcript_counts</th>\n",
       "      <th>control_probe_counts</th>\n",
       "      <th>control_codeword_counts</th>\n",
       "      <th>unassigned_codeword_counts</th>\n",
       "      <th>total_counts</th>\n",
       "      <th>cell_area</th>\n",
       "      <th>nucleus_area</th>\n",
       "    </tr>\n",
       "  </thead>\n",
       "  <tbody>\n",
       "    <tr>\n",
       "      <th>0</th>\n",
       "      <td>1</td>\n",
       "      <td>1470.409833</td>\n",
       "      <td>4249.051636</td>\n",
       "      <td>4</td>\n",
       "      <td>0</td>\n",
       "      <td>0</td>\n",
       "      <td>0</td>\n",
       "      <td>4</td>\n",
       "      <td>178.186563</td>\n",
       "      <td>44.704687</td>\n",
       "    </tr>\n",
       "    <tr>\n",
       "      <th>1</th>\n",
       "      <td>2</td>\n",
       "      <td>1474.557941</td>\n",
       "      <td>4239.123071</td>\n",
       "      <td>12</td>\n",
       "      <td>0</td>\n",
       "      <td>0</td>\n",
       "      <td>0</td>\n",
       "      <td>12</td>\n",
       "      <td>50.439531</td>\n",
       "      <td>29.487031</td>\n",
       "    </tr>\n",
       "    <tr>\n",
       "      <th>2</th>\n",
       "      <td>3</td>\n",
       "      <td>1474.138440</td>\n",
       "      <td>4230.722266</td>\n",
       "      <td>34</td>\n",
       "      <td>0</td>\n",
       "      <td>0</td>\n",
       "      <td>0</td>\n",
       "      <td>34</td>\n",
       "      <td>251.430000</td>\n",
       "      <td>54.639063</td>\n",
       "    </tr>\n",
       "    <tr>\n",
       "      <th>3</th>\n",
       "      <td>4</td>\n",
       "      <td>1479.313043</td>\n",
       "      <td>4242.560010</td>\n",
       "      <td>3</td>\n",
       "      <td>0</td>\n",
       "      <td>0</td>\n",
       "      <td>0</td>\n",
       "      <td>3</td>\n",
       "      <td>50.665312</td>\n",
       "      <td>23.345781</td>\n",
       "    </tr>\n",
       "    <tr>\n",
       "      <th>4</th>\n",
       "      <td>5</td>\n",
       "      <td>1486.422662</td>\n",
       "      <td>4240.159839</td>\n",
       "      <td>6</td>\n",
       "      <td>0</td>\n",
       "      <td>0</td>\n",
       "      <td>0</td>\n",
       "      <td>6</td>\n",
       "      <td>59.199844</td>\n",
       "      <td>29.712812</td>\n",
       "    </tr>\n",
       "    <tr>\n",
       "      <th>...</th>\n",
       "      <td>...</td>\n",
       "      <td>...</td>\n",
       "      <td>...</td>\n",
       "      <td>...</td>\n",
       "      <td>...</td>\n",
       "      <td>...</td>\n",
       "      <td>...</td>\n",
       "      <td>...</td>\n",
       "      <td>...</td>\n",
       "      <td>...</td>\n",
       "    </tr>\n",
       "    <tr>\n",
       "      <th>52519</th>\n",
       "      <td>52520</td>\n",
       "      <td>5460.260132</td>\n",
       "      <td>4814.415771</td>\n",
       "      <td>51</td>\n",
       "      <td>0</td>\n",
       "      <td>0</td>\n",
       "      <td>0</td>\n",
       "      <td>51</td>\n",
       "      <td>134.114063</td>\n",
       "      <td>14.811250</td>\n",
       "    </tr>\n",
       "    <tr>\n",
       "      <th>52520</th>\n",
       "      <td>52521</td>\n",
       "      <td>5464.195117</td>\n",
       "      <td>4851.216040</td>\n",
       "      <td>196</td>\n",
       "      <td>0</td>\n",
       "      <td>0</td>\n",
       "      <td>0</td>\n",
       "      <td>196</td>\n",
       "      <td>359.443750</td>\n",
       "      <td>47.775313</td>\n",
       "    </tr>\n",
       "    <tr>\n",
       "      <th>52521</th>\n",
       "      <td>52522</td>\n",
       "      <td>5464.681958</td>\n",
       "      <td>4790.854834</td>\n",
       "      <td>430</td>\n",
       "      <td>0</td>\n",
       "      <td>0</td>\n",
       "      <td>1</td>\n",
       "      <td>431</td>\n",
       "      <td>740.065781</td>\n",
       "      <td>47.323750</td>\n",
       "    </tr>\n",
       "    <tr>\n",
       "      <th>52522</th>\n",
       "      <td>52523</td>\n",
       "      <td>5483.099731</td>\n",
       "      <td>4832.196875</td>\n",
       "      <td>161</td>\n",
       "      <td>1</td>\n",
       "      <td>0</td>\n",
       "      <td>0</td>\n",
       "      <td>162</td>\n",
       "      <td>386.221406</td>\n",
       "      <td>17.249688</td>\n",
       "    </tr>\n",
       "    <tr>\n",
       "      <th>52523</th>\n",
       "      <td>52524</td>\n",
       "      <td>5482.334814</td>\n",
       "      <td>4850.725049</td>\n",
       "      <td>348</td>\n",
       "      <td>0</td>\n",
       "      <td>0</td>\n",
       "      <td>0</td>\n",
       "      <td>348</td>\n",
       "      <td>467.999375</td>\n",
       "      <td>67.327969</td>\n",
       "    </tr>\n",
       "  </tbody>\n",
       "</table>\n",
       "<p>52524 rows × 10 columns</p>\n",
       "</div>"
      ],
      "text/plain": [
       "       cell_id   x_centroid   y_centroid  transcript_counts  \\\n",
       "0            1  1470.409833  4249.051636                  4   \n",
       "1            2  1474.557941  4239.123071                 12   \n",
       "2            3  1474.138440  4230.722266                 34   \n",
       "3            4  1479.313043  4242.560010                  3   \n",
       "4            5  1486.422662  4240.159839                  6   \n",
       "...        ...          ...          ...                ...   \n",
       "52519    52520  5460.260132  4814.415771                 51   \n",
       "52520    52521  5464.195117  4851.216040                196   \n",
       "52521    52522  5464.681958  4790.854834                430   \n",
       "52522    52523  5483.099731  4832.196875                161   \n",
       "52523    52524  5482.334814  4850.725049                348   \n",
       "\n",
       "       control_probe_counts  control_codeword_counts  \\\n",
       "0                         0                        0   \n",
       "1                         0                        0   \n",
       "2                         0                        0   \n",
       "3                         0                        0   \n",
       "4                         0                        0   \n",
       "...                     ...                      ...   \n",
       "52519                     0                        0   \n",
       "52520                     0                        0   \n",
       "52521                     0                        0   \n",
       "52522                     1                        0   \n",
       "52523                     0                        0   \n",
       "\n",
       "       unassigned_codeword_counts  total_counts   cell_area  nucleus_area  \n",
       "0                               0             4  178.186563     44.704687  \n",
       "1                               0            12   50.439531     29.487031  \n",
       "2                               0            34  251.430000     54.639063  \n",
       "3                               0             3   50.665312     23.345781  \n",
       "4                               0             6   59.199844     29.712812  \n",
       "...                           ...           ...         ...           ...  \n",
       "52519                           0            51  134.114063     14.811250  \n",
       "52520                           0           196  359.443750     47.775313  \n",
       "52521                           1           431  740.065781     47.323750  \n",
       "52522                           0           162  386.221406     17.249688  \n",
       "52523                           0           348  467.999375     67.327969  \n",
       "\n",
       "[52524 rows x 10 columns]"
      ]
     },
     "execution_count": 23,
     "metadata": {},
     "output_type": "execute_result"
    }
   ],
   "source": [
    "c3m1_cells = pd.read_csv(r\"D:\\SMI-0214_DonCleveland_UCSD\\SMI-0214_DonCleveland_UCSD\\xenium_prerelease_molina_mouse_brain_Mar13\\C3m1\\cells.csv.gz\")\n",
    "c3m1_cells"
   ]
  },
  {
   "cell_type": "code",
   "execution_count": 24,
   "id": "5915a14f",
   "metadata": {},
   "outputs": [],
   "source": [
    "sample_id_list = ['C3m1', 'C3m2', 'C3m3', 'C24m1', 'C24m2', 'C24m3', 'HD24m1', 'HD24m2', 'HD24m3', 'R61']"
   ]
  },
  {
   "cell_type": "code",
   "execution_count": 29,
   "id": "1bc6b407",
   "metadata": {},
   "outputs": [],
   "source": [
    "concated_cell_csv = pd.DataFrame()\n",
    "for sample_id in sample_id_list:\n",
    "    df = pd.read_csv(rf\"D:\\SMI-0214_DonCleveland_UCSD\\SMI-0214_DonCleveland_UCSD\\xenium_prerelease_molina_mouse_brain_Mar13\\{sample_id}\\cells.csv.gz\")\n",
    "    df['sample_id'] = sample_id\n",
    "    concated_cell_csv = pd.concat([concated_cell_csv, df])"
   ]
  },
  {
   "cell_type": "code",
   "execution_count": 32,
   "id": "533b3cf2",
   "metadata": {},
   "outputs": [
    {
     "data": {
      "text/plain": [
       "0         4\n",
       "1        12\n",
       "2        34\n",
       "3         3\n",
       "4         6\n",
       "         ..\n",
       "62710     4\n",
       "62711     0\n",
       "62712     2\n",
       "62713     1\n",
       "62714     2\n",
       "Name: total_counts, Length: 556343, dtype: int64"
      ]
     },
     "execution_count": 32,
     "metadata": {},
     "output_type": "execute_result"
    }
   ],
   "source": [
    "xenium_transcripts = concated_cell_csv['total_counts']\n",
    "xenium_transcripts"
   ]
  },
  {
   "cell_type": "code",
   "execution_count": 109,
   "id": "3d359305",
   "metadata": {},
   "outputs": [
    {
     "name": "stdout",
     "output_type": "stream",
     "text": [
      "Xenium mean transcript count: 207.7140433150053\n",
      "Xenium standard deviation transcript count: 138.7766112726301\n",
      "Xenium max transcript count: 1529\n"
     ]
    }
   ],
   "source": [
    "print(f'Xenium mean transcript count: {xenium_transcripts.mean()}')\n",
    "print(f'Xenium standard deviation transcript count: {xenium_transcripts.std()}')\n",
    "print(f'Xenium max transcript count: {xenium_transcripts.max()}')"
   ]
  },
  {
   "cell_type": "code",
   "execution_count": 34,
   "id": "a5b48ec8",
   "metadata": {
    "scrolled": true
   },
   "outputs": [
    {
     "data": {
      "text/plain": [
       "Text(0.5, 1.0, 'Xenium - Number of transcripts per cell')"
      ]
     },
     "execution_count": 34,
     "metadata": {},
     "output_type": "execute_result"
    },
    {
     "data": {
      "image/png": "[encoded data removed]",
      "text/plain": [
       "<Figure size 640x480 with 1 Axes>"
      ]
     },
     "metadata": {},
     "output_type": "display_data"
    }
   ],
   "source": [
    "plt.hist(xenium_transcripts, bins = 100)\n",
    "plt.axvline(xenium_transcripts.mean(), color = 'red', linestyle = 'dashed', label = 'Mean')\n",
    "plt.text(220, 30000, f'Mean: {int(xenium_transcripts.mean())}', color = 'red')\n",
    "plt.axvline(xenium_transcripts.mean() - xenium_transcripts.std(), color = 'green', linestyle = 'dashed', label = '-1 SD')\n",
    "plt.text(380, 25000, f'SD: {int(xenium_transcripts.std())}', color = 'green')\n",
    "plt.axvline(xenium_transcripts.mean() + xenium_transcripts.std(), color = 'green', linestyle = 'dashed', label = '+1 SD')\n",
    "plt.title('Xenium - Number of transcripts per cell')"
   ]
  },
  {
   "cell_type": "markdown",
   "id": "b8a5be07",
   "metadata": {},
   "source": [
    "# Cosmx analysis"
   ]
  },
  {
   "cell_type": "code",
   "execution_count": 66,
   "id": "db56a927",
   "metadata": {
    "scrolled": false
   },
   "outputs": [
    {
     "data": {
      "text/html": [
       "<div>\n",
       "<style scoped>\n",
       "    .dataframe tbody tr th:only-of-type {\n",
       "        vertical-align: middle;\n",
       "    }\n",
       "\n",
       "    .dataframe tbody tr th {\n",
       "        vertical-align: top;\n",
       "    }\n",
       "\n",
       "    .dataframe thead th {\n",
       "        text-align: right;\n",
       "    }\n",
       "</style>\n",
       "<table border=\"1\" class=\"dataframe\">\n",
       "  <thead>\n",
       "    <tr style=\"text-align: right;\">\n",
       "      <th></th>\n",
       "      <th>Chrna4</th>\n",
       "      <th>Slc6a1</th>\n",
       "      <th>Cd109</th>\n",
       "      <th>Ldha</th>\n",
       "      <th>Aldoc</th>\n",
       "      <th>Drd1</th>\n",
       "      <th>Tank</th>\n",
       "      <th>Rit2</th>\n",
       "      <th>Prkag2</th>\n",
       "      <th>Lpar3</th>\n",
       "      <th>...</th>\n",
       "      <th>NegPrb1</th>\n",
       "      <th>NegPrb2</th>\n",
       "      <th>NegPrb3</th>\n",
       "      <th>NegPrb4</th>\n",
       "      <th>NegPrb5</th>\n",
       "      <th>NegPrb6</th>\n",
       "      <th>NegPrb7</th>\n",
       "      <th>NegPrb8</th>\n",
       "      <th>NegPrb9</th>\n",
       "      <th>NegPrb10</th>\n",
       "    </tr>\n",
       "  </thead>\n",
       "  <tbody>\n",
       "    <tr>\n",
       "      <th>0</th>\n",
       "      <td>6</td>\n",
       "      <td>19</td>\n",
       "      <td>11</td>\n",
       "      <td>27</td>\n",
       "      <td>106</td>\n",
       "      <td>17</td>\n",
       "      <td>15</td>\n",
       "      <td>14</td>\n",
       "      <td>6</td>\n",
       "      <td>8</td>\n",
       "      <td>...</td>\n",
       "      <td>3</td>\n",
       "      <td>1</td>\n",
       "      <td>6</td>\n",
       "      <td>6</td>\n",
       "      <td>7</td>\n",
       "      <td>14</td>\n",
       "      <td>1</td>\n",
       "      <td>8</td>\n",
       "      <td>5</td>\n",
       "      <td>6</td>\n",
       "    </tr>\n",
       "    <tr>\n",
       "      <th>1</th>\n",
       "      <td>0</td>\n",
       "      <td>0</td>\n",
       "      <td>0</td>\n",
       "      <td>0</td>\n",
       "      <td>0</td>\n",
       "      <td>0</td>\n",
       "      <td>0</td>\n",
       "      <td>0</td>\n",
       "      <td>0</td>\n",
       "      <td>0</td>\n",
       "      <td>...</td>\n",
       "      <td>0</td>\n",
       "      <td>0</td>\n",
       "      <td>0</td>\n",
       "      <td>0</td>\n",
       "      <td>0</td>\n",
       "      <td>0</td>\n",
       "      <td>0</td>\n",
       "      <td>0</td>\n",
       "      <td>0</td>\n",
       "      <td>0</td>\n",
       "    </tr>\n",
       "    <tr>\n",
       "      <th>2</th>\n",
       "      <td>0</td>\n",
       "      <td>0</td>\n",
       "      <td>0</td>\n",
       "      <td>0</td>\n",
       "      <td>0</td>\n",
       "      <td>0</td>\n",
       "      <td>0</td>\n",
       "      <td>0</td>\n",
       "      <td>0</td>\n",
       "      <td>0</td>\n",
       "      <td>...</td>\n",
       "      <td>0</td>\n",
       "      <td>0</td>\n",
       "      <td>0</td>\n",
       "      <td>0</td>\n",
       "      <td>0</td>\n",
       "      <td>0</td>\n",
       "      <td>0</td>\n",
       "      <td>0</td>\n",
       "      <td>0</td>\n",
       "      <td>0</td>\n",
       "    </tr>\n",
       "    <tr>\n",
       "      <th>3</th>\n",
       "      <td>0</td>\n",
       "      <td>0</td>\n",
       "      <td>0</td>\n",
       "      <td>0</td>\n",
       "      <td>0</td>\n",
       "      <td>0</td>\n",
       "      <td>0</td>\n",
       "      <td>0</td>\n",
       "      <td>0</td>\n",
       "      <td>0</td>\n",
       "      <td>...</td>\n",
       "      <td>0</td>\n",
       "      <td>0</td>\n",
       "      <td>0</td>\n",
       "      <td>0</td>\n",
       "      <td>0</td>\n",
       "      <td>0</td>\n",
       "      <td>0</td>\n",
       "      <td>0</td>\n",
       "      <td>0</td>\n",
       "      <td>0</td>\n",
       "    </tr>\n",
       "    <tr>\n",
       "      <th>4</th>\n",
       "      <td>0</td>\n",
       "      <td>0</td>\n",
       "      <td>0</td>\n",
       "      <td>0</td>\n",
       "      <td>0</td>\n",
       "      <td>0</td>\n",
       "      <td>0</td>\n",
       "      <td>0</td>\n",
       "      <td>0</td>\n",
       "      <td>0</td>\n",
       "      <td>...</td>\n",
       "      <td>0</td>\n",
       "      <td>0</td>\n",
       "      <td>0</td>\n",
       "      <td>0</td>\n",
       "      <td>0</td>\n",
       "      <td>0</td>\n",
       "      <td>0</td>\n",
       "      <td>0</td>\n",
       "      <td>0</td>\n",
       "      <td>0</td>\n",
       "    </tr>\n",
       "    <tr>\n",
       "      <th>...</th>\n",
       "      <td>...</td>\n",
       "      <td>...</td>\n",
       "      <td>...</td>\n",
       "      <td>...</td>\n",
       "      <td>...</td>\n",
       "      <td>...</td>\n",
       "      <td>...</td>\n",
       "      <td>...</td>\n",
       "      <td>...</td>\n",
       "      <td>...</td>\n",
       "      <td>...</td>\n",
       "      <td>...</td>\n",
       "      <td>...</td>\n",
       "      <td>...</td>\n",
       "      <td>...</td>\n",
       "      <td>...</td>\n",
       "      <td>...</td>\n",
       "      <td>...</td>\n",
       "      <td>...</td>\n",
       "      <td>...</td>\n",
       "      <td>...</td>\n",
       "    </tr>\n",
       "    <tr>\n",
       "      <th>134768</th>\n",
       "      <td>0</td>\n",
       "      <td>0</td>\n",
       "      <td>0</td>\n",
       "      <td>0</td>\n",
       "      <td>1</td>\n",
       "      <td>0</td>\n",
       "      <td>0</td>\n",
       "      <td>0</td>\n",
       "      <td>0</td>\n",
       "      <td>0</td>\n",
       "      <td>...</td>\n",
       "      <td>0</td>\n",
       "      <td>0</td>\n",
       "      <td>0</td>\n",
       "      <td>0</td>\n",
       "      <td>0</td>\n",
       "      <td>0</td>\n",
       "      <td>0</td>\n",
       "      <td>0</td>\n",
       "      <td>0</td>\n",
       "      <td>0</td>\n",
       "    </tr>\n",
       "    <tr>\n",
       "      <th>134769</th>\n",
       "      <td>0</td>\n",
       "      <td>0</td>\n",
       "      <td>0</td>\n",
       "      <td>0</td>\n",
       "      <td>0</td>\n",
       "      <td>0</td>\n",
       "      <td>0</td>\n",
       "      <td>0</td>\n",
       "      <td>0</td>\n",
       "      <td>0</td>\n",
       "      <td>...</td>\n",
       "      <td>0</td>\n",
       "      <td>0</td>\n",
       "      <td>0</td>\n",
       "      <td>0</td>\n",
       "      <td>0</td>\n",
       "      <td>0</td>\n",
       "      <td>0</td>\n",
       "      <td>0</td>\n",
       "      <td>0</td>\n",
       "      <td>0</td>\n",
       "    </tr>\n",
       "    <tr>\n",
       "      <th>134770</th>\n",
       "      <td>0</td>\n",
       "      <td>1</td>\n",
       "      <td>0</td>\n",
       "      <td>0</td>\n",
       "      <td>3</td>\n",
       "      <td>0</td>\n",
       "      <td>1</td>\n",
       "      <td>0</td>\n",
       "      <td>0</td>\n",
       "      <td>2</td>\n",
       "      <td>...</td>\n",
       "      <td>0</td>\n",
       "      <td>0</td>\n",
       "      <td>0</td>\n",
       "      <td>0</td>\n",
       "      <td>0</td>\n",
       "      <td>0</td>\n",
       "      <td>0</td>\n",
       "      <td>0</td>\n",
       "      <td>0</td>\n",
       "      <td>0</td>\n",
       "    </tr>\n",
       "    <tr>\n",
       "      <th>134771</th>\n",
       "      <td>0</td>\n",
       "      <td>0</td>\n",
       "      <td>1</td>\n",
       "      <td>0</td>\n",
       "      <td>0</td>\n",
       "      <td>0</td>\n",
       "      <td>0</td>\n",
       "      <td>0</td>\n",
       "      <td>0</td>\n",
       "      <td>0</td>\n",
       "      <td>...</td>\n",
       "      <td>0</td>\n",
       "      <td>0</td>\n",
       "      <td>0</td>\n",
       "      <td>0</td>\n",
       "      <td>0</td>\n",
       "      <td>0</td>\n",
       "      <td>0</td>\n",
       "      <td>0</td>\n",
       "      <td>0</td>\n",
       "      <td>0</td>\n",
       "    </tr>\n",
       "    <tr>\n",
       "      <th>134772</th>\n",
       "      <td>0</td>\n",
       "      <td>0</td>\n",
       "      <td>0</td>\n",
       "      <td>0</td>\n",
       "      <td>0</td>\n",
       "      <td>0</td>\n",
       "      <td>0</td>\n",
       "      <td>0</td>\n",
       "      <td>0</td>\n",
       "      <td>0</td>\n",
       "      <td>...</td>\n",
       "      <td>0</td>\n",
       "      <td>0</td>\n",
       "      <td>0</td>\n",
       "      <td>0</td>\n",
       "      <td>0</td>\n",
       "      <td>0</td>\n",
       "      <td>0</td>\n",
       "      <td>0</td>\n",
       "      <td>0</td>\n",
       "      <td>0</td>\n",
       "    </tr>\n",
       "  </tbody>\n",
       "</table>\n",
       "<p>134773 rows × 960 columns</p>\n",
       "</div>"
      ],
      "text/plain": [
       "        Chrna4  Slc6a1  Cd109  Ldha  Aldoc  Drd1  Tank  Rit2  Prkag2  Lpar3  \\\n",
       "0            6      19     11    27    106    17    15    14       6      8   \n",
       "1            0       0      0     0      0     0     0     0       0      0   \n",
       "2            0       0      0     0      0     0     0     0       0      0   \n",
       "3            0       0      0     0      0     0     0     0       0      0   \n",
       "4            0       0      0     0      0     0     0     0       0      0   \n",
       "...        ...     ...    ...   ...    ...   ...   ...   ...     ...    ...   \n",
       "134768       0       0      0     0      1     0     0     0       0      0   \n",
       "134769       0       0      0     0      0     0     0     0       0      0   \n",
       "134770       0       1      0     0      3     0     1     0       0      2   \n",
       "134771       0       0      1     0      0     0     0     0       0      0   \n",
       "134772       0       0      0     0      0     0     0     0       0      0   \n",
       "\n",
       "        ...  NegPrb1  NegPrb2  NegPrb3  NegPrb4  NegPrb5  NegPrb6  NegPrb7  \\\n",
       "0       ...        3        1        6        6        7       14        1   \n",
       "1       ...        0        0        0        0        0        0        0   \n",
       "2       ...        0        0        0        0        0        0        0   \n",
       "3       ...        0        0        0        0        0        0        0   \n",
       "4       ...        0        0        0        0        0        0        0   \n",
       "...     ...      ...      ...      ...      ...      ...      ...      ...   \n",
       "134768  ...        0        0        0        0        0        0        0   \n",
       "134769  ...        0        0        0        0        0        0        0   \n",
       "134770  ...        0        0        0        0        0        0        0   \n",
       "134771  ...        0        0        0        0        0        0        0   \n",
       "134772  ...        0        0        0        0        0        0        0   \n",
       "\n",
       "        NegPrb8  NegPrb9  NegPrb10  \n",
       "0             8        5         6  \n",
       "1             0        0         0  \n",
       "2             0        0         0  \n",
       "3             0        0         0  \n",
       "4             0        0         0  \n",
       "...         ...      ...       ...  \n",
       "134768        0        0         0  \n",
       "134769        0        0         0  \n",
       "134770        0        0         0  \n",
       "134771        0        0         0  \n",
       "134772        0        0         0  \n",
       "\n",
       "[134773 rows x 960 columns]"
      ]
     },
     "execution_count": 66,
     "metadata": {},
     "output_type": "execute_result"
    }
   ],
   "source": [
    "cosmx_gene_exp = pd.read_csv(r\"D:\\SMI-0214_DonCleveland_UCSD\\SMI-0214_DonCleveland_UCSD\\5 Raw data\\MsBrain_exprMat_file.csv\")\n",
    "cosmx_gene_exp = cosmx_gene_exp.drop(columns = ['fov', 'cell_ID'])\n",
    "cosmx_gene_exp"
   ]
  },
  {
   "cell_type": "code",
   "execution_count": 71,
   "id": "4b03daaa",
   "metadata": {
    "scrolled": true
   },
   "outputs": [
    {
     "data": {
      "text/plain": [
       "0         17818\n",
       "1             0\n",
       "2            14\n",
       "3            26\n",
       "4            12\n",
       "          ...  \n",
       "134768       60\n",
       "134769       42\n",
       "134770      308\n",
       "134771      108\n",
       "134772      200\n",
       "Length: 134773, dtype: int64"
      ]
     },
     "execution_count": 71,
     "metadata": {},
     "output_type": "execute_result"
    }
   ],
   "source": [
    "cosmx_gene_exp_revised = cosmx_gene_exp.iloc[:, :-10]\n",
    "cosmx_transcript_counts = cosmx_gene_exp_revised.sum(axis = 1)\n",
    "cosmx_transcript_counts"
   ]
  },
  {
   "cell_type": "code",
   "execution_count": 110,
   "id": "c5fb6493",
   "metadata": {
    "scrolled": true
   },
   "outputs": [
    {
     "name": "stdout",
     "output_type": "stream",
     "text": [
      "Cosmx mean transcript count: 524.3128445608542\n",
      "Cosmx standard deviation transcript count: 2338.775609728052\n",
      "Cosmx max transcript count: 129447\n"
     ]
    }
   ],
   "source": [
    "print(f'Cosmx mean transcript count: {cosmx_transcript_counts.mean()}')\n",
    "print(f'Cosmx standard deviation transcript count: {cosmx_transcript_counts.std()}')\n",
    "print(f'Cosmx max transcript count: {cosmx_transcript_counts.max()}')"
   ]
  },
  {
   "cell_type": "code",
   "execution_count": 111,
   "id": "f351736a",
   "metadata": {},
   "outputs": [
    {
     "data": {
      "text/plain": [
       "Text(0.5, 1.0, 'Cosmx - Number of transcripts per cell')"
      ]
     },
     "execution_count": 111,
     "metadata": {},
     "output_type": "execute_result"
    },
    {
     "data": {
      "image/png": "[encoded data removed]",
      "text/plain": [
       "<Figure size 640x480 with 1 Axes>"
      ]
     },
     "metadata": {},
     "output_type": "display_data"
    }
   ],
   "source": [
    "plt.hist(cosmx_transcript_counts, bins = 100, range = (0, 6000))\n",
    "plt.axvline(cosmx_transcript_counts.mean(), color = 'red', linestyle = 'dashed', label = 'Mean')\n",
    "plt.text(600, 14000, f'Mean: {int(cosmx_transcript_counts.mean())}', color = 'red')\n",
    "#plt.axvline(cosmx_transcript_counts.mean() - cosmx_transcript_counts.std(), color = 'green', linestyle = 'dashed', label = '-1 SD')\n",
    "plt.text(3000, 12000, f'SD: {int(cosmx_transcript_counts.std())}', color = 'green')\n",
    "plt.axvline(cosmx_transcript_counts.mean() + cosmx_transcript_counts.std(), color = 'green', linestyle = 'dashed', label = '+1 SD')\n",
    "plt.title('Cosmx - Number of transcripts per cell')"
   ]
  },
  {
   "cell_type": "markdown",
   "id": "4bfbec49",
   "metadata": {},
   "source": [
    "# Vizgen analysis"
   ]
  },
  {
   "cell_type": "code",
   "execution_count": 122,
   "id": "8c20fa11",
   "metadata": {},
   "outputs": [],
   "source": [
    "region_list = ['Region 0', 'Region 1', 'Region 2', 'Region 3']"
   ]
  },
  {
   "cell_type": "code",
   "execution_count": 124,
   "id": "b00a8444",
   "metadata": {},
   "outputs": [],
   "source": [
    "vizgen_concat = pd.DataFrame()\n",
    "for region in region_list:\n",
    "    df = pd.read_csv(rf\"D:\\SMI-0214_DonCleveland_UCSD\\SMI-0214_DonCleveland_UCSD\\Vizgen Analysis\\{region}\\detected_transcripts.csv\")\n",
    "    df['sample_id'] = region\n",
    "    df_revised = df[df['cell_id'] != -1]\n",
    "    df_revised1 = df_revised.groupby(['cell_id','gene']).count()[['transcript_id']].reset_index()\n",
    "    gene_exp = df_revised1.pivot_table(index='cell_id', columns='gene', values='transcript_id', fill_value=0)\n",
    "    vizgen_concat = pd.concat([vizgen_concat, gene_exp])"
   ]
  },
  {
   "cell_type": "code",
   "execution_count": 129,
   "id": "707d5c39",
   "metadata": {},
   "outputs": [
    {
     "data": {
      "text/plain": [
       "cell_id\n",
       "4407145100026100001     2\n",
       "4407145100026100002     3\n",
       "4407145100026100003    26\n",
       "4407145100026100012     2\n",
       "4407145100026100014     1\n",
       "                       ..\n",
       "4407145601700100052     1\n",
       "4407145601700100065     1\n",
       "4407145601701100007     1\n",
       "4407145601703100144     1\n",
       "4407145601704100128     1\n",
       "Length: 395424, dtype: int64"
      ]
     },
     "execution_count": 129,
     "metadata": {},
     "output_type": "execute_result"
    }
   ],
   "source": [
    "vizgen_transcript_counts = vizgen_concat.sum(axis=1)\n",
    "vizgen_transcript_counts"
   ]
  },
  {
   "cell_type": "code",
   "execution_count": 130,
   "id": "4af441b8",
   "metadata": {},
   "outputs": [
    {
     "name": "stdout",
     "output_type": "stream",
     "text": [
      "Vizgen mean transcript count: 151.59098587844946\n",
      "Vizgen standard deviation transcript count: 258.38750025655287\n",
      "Vizgen max transcript count: 9458\n"
     ]
    }
   ],
   "source": [
    "print(f'Vizgen mean transcript count: {vizgen_transcript_counts.mean()}')\n",
    "print(f'Vizgen standard deviation transcript count: {vizgen_transcript_counts.std()}')\n",
    "print(f'Vizgen max transcript count: {vizgen_transcript_counts.max()}')"
   ]
  },
  {
   "cell_type": "code",
   "execution_count": 135,
   "id": "30baabfc",
   "metadata": {
    "scrolled": true
   },
   "outputs": [
    {
     "data": {
      "text/plain": [
       "Text(0.5, 1.0, 'Vizgen - Number of transcripts per cell')"
      ]
     },
     "execution_count": 135,
     "metadata": {},
     "output_type": "execute_result"
    },
    {
     "data": {
      "image/png": "[encoded data removed]",
      "text/plain": [
       "<Figure size 640x480 with 1 Axes>"
      ]
     },
     "metadata": {},
     "output_type": "display_data"
    }
   ],
   "source": [
    "plt.hist(vizgen_transcript_counts, bins = 100, range = (0,1500))\n",
    "plt.axvline(vizgen_transcript_counts.mean(), color = 'red', linestyle = 'dashed', label = 'Mean')\n",
    "plt.text(160, 110000, f'Mean: {int(vizgen_transcript_counts.mean())}', color = 'red')\n",
    "#plt.axvline(vizgen_transcript_counts.mean() - vizgen_transcript_counts.std(), color = 'green', linestyle = 'dashed', label = '-1 SD')\n",
    "plt.text(420, 100000, f'SD: {int(vizgen_transcript_counts.std())}', color = 'green')\n",
    "plt.axvline(vizgen_transcript_counts.mean() + vizgen_transcript_counts.std(), color = 'green', linestyle = 'dashed', label = '+1 SD')\n",
    "plt.title('Vizgen - Number of transcripts per cell')"
   ]
  },
  {
   "cell_type": "markdown",
   "id": "95fc69dd",
   "metadata": {},
   "source": [
    "# Cbm2 analysis"
   ]
  },
  {
   "cell_type": "code",
   "execution_count": 176,
   "id": "480ad684",
   "metadata": {
    "scrolled": true
   },
   "outputs": [
    {
     "data": {
      "text/plain": [
       "AnnData object with n_obs × n_vars = 57489 × 223\n",
       "    obs: 'n_genes', 'n_genes_by_counts', 'log1p_n_genes_by_counts', 'total_counts', 'log1p_total_counts', 'leiden', 'Experiment', 'Age', 'Mouse', 'Section', 'Treatment', 'celltype', 'MERFISH celltype'\n",
       "    var: 'n_cells_by_counts', 'mean_counts', 'log1p_mean_counts', 'pct_dropout_by_counts', 'total_counts', 'log1p_total_counts'\n",
       "    uns: 'leiden', 'leiden_colors', 'neighbors', 'umap'\n",
       "    obsm: 'X_pca', 'X_spatial', 'X_umap'\n",
       "    obsp: 'connectivities', 'distances'"
      ]
     },
     "execution_count": 176,
     "metadata": {},
     "output_type": "execute_result"
    }
   ],
   "source": [
    "cbm2_scdata = sc.read_h5ad(r\"C:\\Users\\krist\\Cleveland Lab Group\\activation_of_quiescent_neurogenic_niches_of_aging_brain\\CBM2_new_immmature_dg.h5ad\")\n",
    "cbm2_scdata"
   ]
  },
  {
   "cell_type": "code",
   "execution_count": 180,
   "id": "397b6a77",
   "metadata": {
    "scrolled": true
   },
   "outputs": [
    {
     "data": {
      "text/plain": [
       "cell_id\n",
       "2          1788.0\n",
       "4          1018.0\n",
       "10          959.0\n",
       "12         3963.0\n",
       "14         2720.0\n",
       "            ...  \n",
       "4840191     160.0\n",
       "4840192     297.0\n",
       "4840193     125.0\n",
       "4840194     114.0\n",
       "4840197      76.0\n",
       "Name: total_counts, Length: 57489, dtype: float32"
      ]
     },
     "execution_count": 180,
     "metadata": {},
     "output_type": "execute_result"
    }
   ],
   "source": [
    "cbm2_transcript_counts = cbm2_scdata.obs['total_counts']\n",
    "cbm2_transcript_counts"
   ]
  },
  {
   "cell_type": "code",
   "execution_count": 182,
   "id": "23d5f2cc",
   "metadata": {
    "scrolled": true
   },
   "outputs": [
    {
     "name": "stdout",
     "output_type": "stream",
     "text": [
      "Cbm2 mean transcript count: 1397.2408447265625\n",
      "Cbm2 standard deviation transcript count: 1131.2724609375\n",
      "Cbm2 max transcript count: 8552.0\n"
     ]
    }
   ],
   "source": [
    "print(f'Cbm2 mean transcript count: {cbm2_transcript_counts.mean()}')\n",
    "print(f'Cbm2 standard deviation transcript count: {cbm2_transcript_counts.std()}')\n",
    "print(f'Cbm2 max transcript count: {cbm2_transcript_counts.max()}')"
   ]
  },
  {
   "cell_type": "code",
   "execution_count": 192,
   "id": "e01c1791",
   "metadata": {},
   "outputs": [
    {
     "data": {
      "text/plain": [
       "Text(0.5, 1.0, 'Cbm2 - Number of transcripts per cell')"
      ]
     },
     "execution_count": 192,
     "metadata": {},
     "output_type": "execute_result"
    },
    {
     "data": {
      "image/png": "[encoded data removed]",
      "text/plain": [
       "<Figure size 640x480 with 1 Axes>"
      ]
     },
     "metadata": {},
     "output_type": "display_data"
    }
   ],
   "source": [
    "plt.hist(cbm2_transcript_counts, bins = 100)\n",
    "plt.axvline(cbm2_transcript_counts.mean(), color = 'red', linestyle = 'dashed', label = 'Mean')\n",
    "plt.text(1450, 4000, f'Mean: {int(cbm2_transcript_counts.mean())}', color = 'red')\n",
    "plt.axvline(cbm2_transcript_counts.mean() - cbm2_transcript_counts.std(), color = 'green', linestyle = 'dashed', label = '-1 SD')\n",
    "plt.text(2570, 3500, f'SD: {int(cbm2_transcript_counts.std())}', color = 'green')\n",
    "plt.axvline(cbm2_transcript_counts.mean() + cbm2_transcript_counts.std(), color = 'green', linestyle = 'dashed', label = '+1 SD')\n",
    "plt.title('Cbm2 - Number of transcripts per cell')"
   ]
  },
  {
   "cell_type": "markdown",
   "id": "a076735f",
   "metadata": {},
   "source": [
    "# Number of genes in each method"
   ]
  },
  {
   "cell_type": "code",
   "execution_count": 141,
   "id": "4b2e2f06",
   "metadata": {
    "scrolled": true
   },
   "outputs": [
    {
     "data": {
      "text/plain": [
       "AnnData object with n_obs × n_vars = 547139 × 248\n",
       "    obs: 'cell_id', 'Sample ID', 'Number of genes', 'Number of transcripts', 'leiden', 'cluster_names'\n",
       "    uns: 'Sample ID_colors', 'cell_id_colors', 'cluster_names_colors', 'leiden', 'leiden_colors', 'neighbors', 'pca', 'rank_genes_groups'\n",
       "    obsm: 'X_pca', 'X_spatial', 'X_spatial_rescaled', 'X_spatial_rescaled_flipped', 'X_umap'\n",
       "    varm: 'PCs'\n",
       "    obsp: 'connectivities', 'distances'"
      ]
     },
     "execution_count": 141,
     "metadata": {},
     "output_type": "execute_result"
    }
   ],
   "source": [
    "xenium_scdata = sc.read_h5ad(r\"D:\\SMI-0214_DonCleveland_UCSD\\SMI-0214_DonCleveland_UCSD\\Xenium_mouse_filtered.h5ad\")\n",
    "xenium_scdata"
   ]
  },
  {
   "cell_type": "code",
   "execution_count": 181,
   "id": "ad656c52",
   "metadata": {
    "scrolled": true
   },
   "outputs": [
    {
     "data": {
      "text/plain": [
       "AnnData object with n_obs × n_vars = 57489 × 223\n",
       "    obs: 'n_genes', 'n_genes_by_counts', 'log1p_n_genes_by_counts', 'total_counts', 'log1p_total_counts', 'leiden', 'Experiment', 'Age', 'Mouse', 'Section', 'Treatment', 'celltype', 'MERFISH celltype'\n",
       "    var: 'n_cells_by_counts', 'mean_counts', 'log1p_mean_counts', 'pct_dropout_by_counts', 'total_counts', 'log1p_total_counts'\n",
       "    uns: 'leiden', 'leiden_colors', 'neighbors', 'umap'\n",
       "    obsm: 'X_pca', 'X_spatial', 'X_umap'\n",
       "    obsp: 'connectivities', 'distances'"
      ]
     },
     "execution_count": 181,
     "metadata": {},
     "output_type": "execute_result"
    }
   ],
   "source": [
    "cbm2_scdata"
   ]
  },
  {
   "cell_type": "code",
   "execution_count": 159,
   "id": "075994e3",
   "metadata": {
    "scrolled": true
   },
   "outputs": [
    {
     "name": "stdout",
     "output_type": "stream",
     "text": [
      "Xenium gene panel size: 248\n",
      "Cosmx gene panel size: 950\n",
      "Vizgen gene panel size: 550\n",
      "Cbm2 gene panel size: 223\n"
     ]
    }
   ],
   "source": [
    "print (f'Xenium gene panel size: {len(xenium_scdata.var)}')\n",
    "print (f'Cosmx gene panel size: {cosmx_gene_exp_revised.shape[1]}')\n",
    "print (f'Vizgen gene panel size: {vizgen_concat.shape[1]}')\n",
    "print (f'Cbm2 gene panel size: {len(cbm2_scdata.var)}')"
   ]
  },
  {
   "cell_type": "markdown",
   "id": "b994dd7b",
   "metadata": {},
   "source": [
    "### Gene overlap panel"
   ]
  },
  {
   "cell_type": "code",
   "execution_count": 161,
   "id": "5a527b97",
   "metadata": {},
   "outputs": [],
   "source": [
    "xenium_gene_df = pd.DataFrame({'genes': xenium_scdata.var.index})\n",
    "cosmx_gene_df = pd.DataFrame({'genes': cosmx_gene_exp_revised.columns})\n",
    "vizgen_gene_df = pd.DataFrame({'genes': vizgen_concat.columns})\n",
    "cbm2_gene_df = pd.DataFrame({'genes': cbm2_scdata.var.index})"
   ]
  },
  {
   "cell_type": "code",
   "execution_count": 173,
   "id": "b6fdf686",
   "metadata": {
    "scrolled": true
   },
   "outputs": [
    {
     "data": {
      "text/html": [
       "<div>\n",
       "<style scoped>\n",
       "    .dataframe tbody tr th:only-of-type {\n",
       "        vertical-align: middle;\n",
       "    }\n",
       "\n",
       "    .dataframe tbody tr th {\n",
       "        vertical-align: top;\n",
       "    }\n",
       "\n",
       "    .dataframe thead th {\n",
       "        text-align: right;\n",
       "    }\n",
       "</style>\n",
       "<table border=\"1\" class=\"dataframe\">\n",
       "  <thead>\n",
       "    <tr style=\"text-align: right;\">\n",
       "      <th></th>\n",
       "      <th>genes</th>\n",
       "    </tr>\n",
       "  </thead>\n",
       "  <tbody>\n",
       "    <tr>\n",
       "      <th>0</th>\n",
       "      <td>Acta2</td>\n",
       "    </tr>\n",
       "    <tr>\n",
       "      <th>1</th>\n",
       "      <td>Aqp4</td>\n",
       "    </tr>\n",
       "    <tr>\n",
       "      <th>2</th>\n",
       "      <td>Bdnf</td>\n",
       "    </tr>\n",
       "    <tr>\n",
       "      <th>3</th>\n",
       "      <td>Calb1</td>\n",
       "    </tr>\n",
       "    <tr>\n",
       "      <th>4</th>\n",
       "      <td>Cldn5</td>\n",
       "    </tr>\n",
       "    <tr>\n",
       "      <th>5</th>\n",
       "      <td>Fos</td>\n",
       "    </tr>\n",
       "    <tr>\n",
       "      <th>6</th>\n",
       "      <td>Gad1</td>\n",
       "    </tr>\n",
       "    <tr>\n",
       "      <th>7</th>\n",
       "      <td>Gfap</td>\n",
       "    </tr>\n",
       "    <tr>\n",
       "      <th>8</th>\n",
       "      <td>Gpr17</td>\n",
       "    </tr>\n",
       "    <tr>\n",
       "      <th>9</th>\n",
       "      <td>Npy2r</td>\n",
       "    </tr>\n",
       "    <tr>\n",
       "      <th>10</th>\n",
       "      <td>Pdgfra</td>\n",
       "    </tr>\n",
       "    <tr>\n",
       "      <th>11</th>\n",
       "      <td>Vip</td>\n",
       "    </tr>\n",
       "  </tbody>\n",
       "</table>\n",
       "</div>"
      ],
      "text/plain": [
       "     genes\n",
       "0    Acta2\n",
       "1     Aqp4\n",
       "2     Bdnf\n",
       "3    Calb1\n",
       "4    Cldn5\n",
       "5      Fos\n",
       "6     Gad1\n",
       "7     Gfap\n",
       "8    Gpr17\n",
       "9    Npy2r\n",
       "10  Pdgfra\n",
       "11     Vip"
      ]
     },
     "execution_count": 173,
     "metadata": {},
     "output_type": "execute_result"
    }
   ],
   "source": [
    "gene_overlap_df = xenium_gene_df.merge(cosmx_gene_df, on = 'genes').merge(vizgen_gene_df, on = 'genes').merge(cbm2_gene_df, on = 'genes')\n",
    "gene_overlap_df"
   ]
  },
  {
   "cell_type": "markdown",
   "id": "8826025f",
   "metadata": {},
   "source": [
    "### Generate histograms using only overlap"
   ]
  },
  {
   "cell_type": "code",
   "execution_count": 174,
   "id": "213736bf",
   "metadata": {
    "scrolled": true
   },
   "outputs": [
    {
     "data": {
      "text/plain": [
       "['Acta2',\n",
       " 'Aqp4',\n",
       " 'Bdnf',\n",
       " 'Calb1',\n",
       " 'Cldn5',\n",
       " 'Fos',\n",
       " 'Gad1',\n",
       " 'Gfap',\n",
       " 'Gpr17',\n",
       " 'Npy2r',\n",
       " 'Pdgfra',\n",
       " 'Vip']"
      ]
     },
     "execution_count": 174,
     "metadata": {},
     "output_type": "execute_result"
    }
   ],
   "source": [
    "gene_overlap_list = list(gene_overlap_list['genes'])\n",
    "gene_overlap_list"
   ]
  },
  {
   "cell_type": "markdown",
   "id": "d2451f01",
   "metadata": {},
   "source": [
    "##### Xenium overlap histogram"
   ]
  },
  {
   "cell_type": "code",
   "execution_count": 242,
   "id": "e52805ae",
   "metadata": {},
   "outputs": [],
   "source": [
    "xenium_cell_df = pd.DataFrame(columns = xenium_scdata.var.index)\n",
    "for sample in sample_id_list:\n",
    "    mtx = sc.read_10x_h5(rf\"D:\\SMI-0214_DonCleveland_UCSD\\SMI-0214_DonCleveland_UCSD\\xenium_prerelease_molina_mouse_brain_Mar13\\{sample}\\cell_feature_matrix.h5\")\n",
    "    xenium_cell_df = pd.concat([xenium_cell_df, pd.DataFrame(mtx.X.toarray(), columns = xenium_scdata.var.index)], ignore_index = True)"
   ]
  },
  {
   "cell_type": "code",
   "execution_count": 245,
   "id": "b3c15c3e",
   "metadata": {
    "scrolled": true
   },
   "outputs": [
    {
     "data": {
      "text/html": [
       "<div>\n",
       "<style scoped>\n",
       "    .dataframe tbody tr th:only-of-type {\n",
       "        vertical-align: middle;\n",
       "    }\n",
       "\n",
       "    .dataframe tbody tr th {\n",
       "        vertical-align: top;\n",
       "    }\n",
       "\n",
       "    .dataframe thead th {\n",
       "        text-align: right;\n",
       "    }\n",
       "</style>\n",
       "<table border=\"1\" class=\"dataframe\">\n",
       "  <thead>\n",
       "    <tr style=\"text-align: right;\">\n",
       "      <th></th>\n",
       "      <th>Acta2</th>\n",
       "      <th>Aqp4</th>\n",
       "      <th>Bdnf</th>\n",
       "      <th>Calb1</th>\n",
       "      <th>Cldn5</th>\n",
       "      <th>Fos</th>\n",
       "      <th>Gad1</th>\n",
       "      <th>Gfap</th>\n",
       "      <th>Gpr17</th>\n",
       "      <th>Npy2r</th>\n",
       "      <th>Pdgfra</th>\n",
       "      <th>Vip</th>\n",
       "    </tr>\n",
       "  </thead>\n",
       "  <tbody>\n",
       "    <tr>\n",
       "      <th>0</th>\n",
       "      <td>0.0</td>\n",
       "      <td>0.0</td>\n",
       "      <td>0.0</td>\n",
       "      <td>0.0</td>\n",
       "      <td>0.0</td>\n",
       "      <td>0.0</td>\n",
       "      <td>0.0</td>\n",
       "      <td>0.0</td>\n",
       "      <td>0.0</td>\n",
       "      <td>0.0</td>\n",
       "      <td>0.0</td>\n",
       "      <td>0.0</td>\n",
       "    </tr>\n",
       "    <tr>\n",
       "      <th>1</th>\n",
       "      <td>0.0</td>\n",
       "      <td>0.0</td>\n",
       "      <td>0.0</td>\n",
       "      <td>0.0</td>\n",
       "      <td>0.0</td>\n",
       "      <td>0.0</td>\n",
       "      <td>0.0</td>\n",
       "      <td>0.0</td>\n",
       "      <td>0.0</td>\n",
       "      <td>0.0</td>\n",
       "      <td>0.0</td>\n",
       "      <td>0.0</td>\n",
       "    </tr>\n",
       "    <tr>\n",
       "      <th>2</th>\n",
       "      <td>0.0</td>\n",
       "      <td>0.0</td>\n",
       "      <td>0.0</td>\n",
       "      <td>0.0</td>\n",
       "      <td>0.0</td>\n",
       "      <td>0.0</td>\n",
       "      <td>0.0</td>\n",
       "      <td>0.0</td>\n",
       "      <td>0.0</td>\n",
       "      <td>0.0</td>\n",
       "      <td>0.0</td>\n",
       "      <td>0.0</td>\n",
       "    </tr>\n",
       "    <tr>\n",
       "      <th>3</th>\n",
       "      <td>0.0</td>\n",
       "      <td>0.0</td>\n",
       "      <td>0.0</td>\n",
       "      <td>0.0</td>\n",
       "      <td>0.0</td>\n",
       "      <td>0.0</td>\n",
       "      <td>0.0</td>\n",
       "      <td>0.0</td>\n",
       "      <td>0.0</td>\n",
       "      <td>0.0</td>\n",
       "      <td>0.0</td>\n",
       "      <td>0.0</td>\n",
       "    </tr>\n",
       "    <tr>\n",
       "      <th>4</th>\n",
       "      <td>0.0</td>\n",
       "      <td>0.0</td>\n",
       "      <td>0.0</td>\n",
       "      <td>0.0</td>\n",
       "      <td>0.0</td>\n",
       "      <td>0.0</td>\n",
       "      <td>0.0</td>\n",
       "      <td>0.0</td>\n",
       "      <td>0.0</td>\n",
       "      <td>0.0</td>\n",
       "      <td>0.0</td>\n",
       "      <td>0.0</td>\n",
       "    </tr>\n",
       "    <tr>\n",
       "      <th>...</th>\n",
       "      <td>...</td>\n",
       "      <td>...</td>\n",
       "      <td>...</td>\n",
       "      <td>...</td>\n",
       "      <td>...</td>\n",
       "      <td>...</td>\n",
       "      <td>...</td>\n",
       "      <td>...</td>\n",
       "      <td>...</td>\n",
       "      <td>...</td>\n",
       "      <td>...</td>\n",
       "      <td>...</td>\n",
       "    </tr>\n",
       "    <tr>\n",
       "      <th>556338</th>\n",
       "      <td>0.0</td>\n",
       "      <td>0.0</td>\n",
       "      <td>0.0</td>\n",
       "      <td>0.0</td>\n",
       "      <td>0.0</td>\n",
       "      <td>0.0</td>\n",
       "      <td>0.0</td>\n",
       "      <td>0.0</td>\n",
       "      <td>0.0</td>\n",
       "      <td>0.0</td>\n",
       "      <td>0.0</td>\n",
       "      <td>0.0</td>\n",
       "    </tr>\n",
       "    <tr>\n",
       "      <th>556339</th>\n",
       "      <td>0.0</td>\n",
       "      <td>0.0</td>\n",
       "      <td>0.0</td>\n",
       "      <td>0.0</td>\n",
       "      <td>0.0</td>\n",
       "      <td>0.0</td>\n",
       "      <td>0.0</td>\n",
       "      <td>0.0</td>\n",
       "      <td>0.0</td>\n",
       "      <td>0.0</td>\n",
       "      <td>0.0</td>\n",
       "      <td>0.0</td>\n",
       "    </tr>\n",
       "    <tr>\n",
       "      <th>556340</th>\n",
       "      <td>0.0</td>\n",
       "      <td>0.0</td>\n",
       "      <td>0.0</td>\n",
       "      <td>0.0</td>\n",
       "      <td>0.0</td>\n",
       "      <td>0.0</td>\n",
       "      <td>0.0</td>\n",
       "      <td>0.0</td>\n",
       "      <td>0.0</td>\n",
       "      <td>0.0</td>\n",
       "      <td>0.0</td>\n",
       "      <td>0.0</td>\n",
       "    </tr>\n",
       "    <tr>\n",
       "      <th>556341</th>\n",
       "      <td>0.0</td>\n",
       "      <td>0.0</td>\n",
       "      <td>0.0</td>\n",
       "      <td>0.0</td>\n",
       "      <td>0.0</td>\n",
       "      <td>0.0</td>\n",
       "      <td>0.0</td>\n",
       "      <td>0.0</td>\n",
       "      <td>0.0</td>\n",
       "      <td>0.0</td>\n",
       "      <td>0.0</td>\n",
       "      <td>0.0</td>\n",
       "    </tr>\n",
       "    <tr>\n",
       "      <th>556342</th>\n",
       "      <td>0.0</td>\n",
       "      <td>0.0</td>\n",
       "      <td>0.0</td>\n",
       "      <td>0.0</td>\n",
       "      <td>0.0</td>\n",
       "      <td>0.0</td>\n",
       "      <td>0.0</td>\n",
       "      <td>0.0</td>\n",
       "      <td>0.0</td>\n",
       "      <td>0.0</td>\n",
       "      <td>0.0</td>\n",
       "      <td>0.0</td>\n",
       "    </tr>\n",
       "  </tbody>\n",
       "</table>\n",
       "<p>556343 rows × 12 columns</p>\n",
       "</div>"
      ],
      "text/plain": [
       "        Acta2  Aqp4  Bdnf  Calb1  Cldn5  Fos  Gad1  Gfap  Gpr17  Npy2r  \\\n",
       "0         0.0   0.0   0.0    0.0    0.0  0.0   0.0   0.0    0.0    0.0   \n",
       "1         0.0   0.0   0.0    0.0    0.0  0.0   0.0   0.0    0.0    0.0   \n",
       "2         0.0   0.0   0.0    0.0    0.0  0.0   0.0   0.0    0.0    0.0   \n",
       "3         0.0   0.0   0.0    0.0    0.0  0.0   0.0   0.0    0.0    0.0   \n",
       "4         0.0   0.0   0.0    0.0    0.0  0.0   0.0   0.0    0.0    0.0   \n",
       "...       ...   ...   ...    ...    ...  ...   ...   ...    ...    ...   \n",
       "556338    0.0   0.0   0.0    0.0    0.0  0.0   0.0   0.0    0.0    0.0   \n",
       "556339    0.0   0.0   0.0    0.0    0.0  0.0   0.0   0.0    0.0    0.0   \n",
       "556340    0.0   0.0   0.0    0.0    0.0  0.0   0.0   0.0    0.0    0.0   \n",
       "556341    0.0   0.0   0.0    0.0    0.0  0.0   0.0   0.0    0.0    0.0   \n",
       "556342    0.0   0.0   0.0    0.0    0.0  0.0   0.0   0.0    0.0    0.0   \n",
       "\n",
       "        Pdgfra  Vip  \n",
       "0          0.0  0.0  \n",
       "1          0.0  0.0  \n",
       "2          0.0  0.0  \n",
       "3          0.0  0.0  \n",
       "4          0.0  0.0  \n",
       "...        ...  ...  \n",
       "556338     0.0  0.0  \n",
       "556339     0.0  0.0  \n",
       "556340     0.0  0.0  \n",
       "556341     0.0  0.0  \n",
       "556342     0.0  0.0  \n",
       "\n",
       "[556343 rows x 12 columns]"
      ]
     },
     "execution_count": 245,
     "metadata": {},
     "output_type": "execute_result"
    }
   ],
   "source": [
    "xenium_overlap = xenium_cell_df.loc[:, [gene for gene in xenium_cell_df.columns if gene in gene_overlap_list]]\n",
    "xenium_overlap"
   ]
  },
  {
   "cell_type": "code",
   "execution_count": 246,
   "id": "639eb42c",
   "metadata": {
    "scrolled": true
   },
   "outputs": [
    {
     "data": {
      "text/plain": [
       "0         0.0\n",
       "1         0.0\n",
       "2         0.0\n",
       "3         0.0\n",
       "4         0.0\n",
       "         ... \n",
       "556338    0.0\n",
       "556339    0.0\n",
       "556340    0.0\n",
       "556341    0.0\n",
       "556342    0.0\n",
       "Length: 556343, dtype: float32"
      ]
     },
     "execution_count": 246,
     "metadata": {},
     "output_type": "execute_result"
    }
   ],
   "source": [
    "xenium_overlap_transcript_count = xenium_overlap.sum(axis = 1)\n",
    "xenium_overlap_transcript_count"
   ]
  },
  {
   "cell_type": "code",
   "execution_count": 247,
   "id": "d4860eea",
   "metadata": {
    "scrolled": true
   },
   "outputs": [
    {
     "name": "stdout",
     "output_type": "stream",
     "text": [
      "Xenium Overlap mean transcript count: 13.643061637878418\n",
      "Xenium Overlap standard deviation transcript count: 13.672500610351562\n",
      "Xenium Overlap max transcript count: 225.0\n"
     ]
    }
   ],
   "source": [
    "print(f'Xenium Overlap mean transcript count: {xenium_overlap_transcript_count.mean()}')\n",
    "print(f'Xenium Overlap standard deviation transcript count: {xenium_overlap_transcript_count.std()}')\n",
    "print(f'Xenium Overlap max transcript count: {xenium_overlap_transcript_count.max()}')"
   ]
  },
  {
   "cell_type": "code",
   "execution_count": 251,
   "id": "31da2357",
   "metadata": {},
   "outputs": [
    {
     "data": {
      "text/plain": [
       "Text(0.5, 1.0, 'Xenium Overlap - Number of transcripts per cell')"
      ]
     },
     "execution_count": 251,
     "metadata": {},
     "output_type": "execute_result"
    },
    {
     "data": {
      "image/png": "[encoded data removed]",
      "text/plain": [
       "<Figure size 640x480 with 1 Axes>"
      ]
     },
     "metadata": {},
     "output_type": "display_data"
    }
   ],
   "source": [
    "plt.hist(xenium_overlap_transcript_count, bins = 100, range = (0,100))\n",
    "plt.axvline(xenium_overlap_transcript_count.mean(), color = 'red', linestyle = 'dashed', label = 'Mean')\n",
    "plt.text(14, 30000, f'Mean: {int(xenium_overlap_transcript_count.mean())}', color = 'red')\n",
    "plt.axvline(xenium_overlap_transcript_count.mean() - xenium_overlap_transcript_count.std(), color = 'green', linestyle = 'dashed', label = '-1 SD')\n",
    "plt.text(28, 27500, f'SD: {int(xenium_overlap_transcript_count.std())}', color = 'green')\n",
    "plt.axvline(xenium_overlap_transcript_count.mean() + xenium_overlap_transcript_count.std(), color = 'green', linestyle = 'dashed', label = '+1 SD')\n",
    "plt.title('Xenium Overlap - Number of transcripts per cell')"
   ]
  },
  {
   "cell_type": "markdown",
   "id": "875b8ab8",
   "metadata": {},
   "source": [
    "##### Cosmx overlap histogram"
   ]
  },
  {
   "cell_type": "code",
   "execution_count": 194,
   "id": "909334f6",
   "metadata": {},
   "outputs": [
    {
     "data": {
      "text/html": [
       "<div>\n",
       "<style scoped>\n",
       "    .dataframe tbody tr th:only-of-type {\n",
       "        vertical-align: middle;\n",
       "    }\n",
       "\n",
       "    .dataframe tbody tr th {\n",
       "        vertical-align: top;\n",
       "    }\n",
       "\n",
       "    .dataframe thead th {\n",
       "        text-align: right;\n",
       "    }\n",
       "</style>\n",
       "<table border=\"1\" class=\"dataframe\">\n",
       "  <thead>\n",
       "    <tr style=\"text-align: right;\">\n",
       "      <th></th>\n",
       "      <th>Pdgfra</th>\n",
       "      <th>Gad1</th>\n",
       "      <th>Vip</th>\n",
       "      <th>Cldn5</th>\n",
       "      <th>Calb1</th>\n",
       "      <th>Npy2r</th>\n",
       "      <th>Fos</th>\n",
       "      <th>Gpr17</th>\n",
       "      <th>Acta2</th>\n",
       "      <th>Gfap</th>\n",
       "      <th>Bdnf</th>\n",
       "      <th>Aqp4</th>\n",
       "    </tr>\n",
       "  </thead>\n",
       "  <tbody>\n",
       "    <tr>\n",
       "      <th>0</th>\n",
       "      <td>6</td>\n",
       "      <td>22</td>\n",
       "      <td>9</td>\n",
       "      <td>12</td>\n",
       "      <td>14</td>\n",
       "      <td>12</td>\n",
       "      <td>13</td>\n",
       "      <td>18</td>\n",
       "      <td>7</td>\n",
       "      <td>51</td>\n",
       "      <td>15</td>\n",
       "      <td>34</td>\n",
       "    </tr>\n",
       "    <tr>\n",
       "      <th>1</th>\n",
       "      <td>0</td>\n",
       "      <td>0</td>\n",
       "      <td>0</td>\n",
       "      <td>0</td>\n",
       "      <td>0</td>\n",
       "      <td>0</td>\n",
       "      <td>0</td>\n",
       "      <td>0</td>\n",
       "      <td>0</td>\n",
       "      <td>0</td>\n",
       "      <td>0</td>\n",
       "      <td>0</td>\n",
       "    </tr>\n",
       "    <tr>\n",
       "      <th>2</th>\n",
       "      <td>0</td>\n",
       "      <td>0</td>\n",
       "      <td>0</td>\n",
       "      <td>0</td>\n",
       "      <td>0</td>\n",
       "      <td>0</td>\n",
       "      <td>0</td>\n",
       "      <td>0</td>\n",
       "      <td>0</td>\n",
       "      <td>0</td>\n",
       "      <td>0</td>\n",
       "      <td>0</td>\n",
       "    </tr>\n",
       "    <tr>\n",
       "      <th>3</th>\n",
       "      <td>0</td>\n",
       "      <td>0</td>\n",
       "      <td>0</td>\n",
       "      <td>0</td>\n",
       "      <td>0</td>\n",
       "      <td>0</td>\n",
       "      <td>0</td>\n",
       "      <td>0</td>\n",
       "      <td>0</td>\n",
       "      <td>0</td>\n",
       "      <td>0</td>\n",
       "      <td>0</td>\n",
       "    </tr>\n",
       "    <tr>\n",
       "      <th>4</th>\n",
       "      <td>0</td>\n",
       "      <td>0</td>\n",
       "      <td>0</td>\n",
       "      <td>0</td>\n",
       "      <td>0</td>\n",
       "      <td>0</td>\n",
       "      <td>0</td>\n",
       "      <td>0</td>\n",
       "      <td>0</td>\n",
       "      <td>0</td>\n",
       "      <td>0</td>\n",
       "      <td>0</td>\n",
       "    </tr>\n",
       "    <tr>\n",
       "      <th>...</th>\n",
       "      <td>...</td>\n",
       "      <td>...</td>\n",
       "      <td>...</td>\n",
       "      <td>...</td>\n",
       "      <td>...</td>\n",
       "      <td>...</td>\n",
       "      <td>...</td>\n",
       "      <td>...</td>\n",
       "      <td>...</td>\n",
       "      <td>...</td>\n",
       "      <td>...</td>\n",
       "      <td>...</td>\n",
       "    </tr>\n",
       "    <tr>\n",
       "      <th>134768</th>\n",
       "      <td>0</td>\n",
       "      <td>0</td>\n",
       "      <td>0</td>\n",
       "      <td>0</td>\n",
       "      <td>0</td>\n",
       "      <td>0</td>\n",
       "      <td>0</td>\n",
       "      <td>0</td>\n",
       "      <td>0</td>\n",
       "      <td>0</td>\n",
       "      <td>0</td>\n",
       "      <td>0</td>\n",
       "    </tr>\n",
       "    <tr>\n",
       "      <th>134769</th>\n",
       "      <td>0</td>\n",
       "      <td>0</td>\n",
       "      <td>0</td>\n",
       "      <td>0</td>\n",
       "      <td>0</td>\n",
       "      <td>0</td>\n",
       "      <td>0</td>\n",
       "      <td>0</td>\n",
       "      <td>0</td>\n",
       "      <td>0</td>\n",
       "      <td>0</td>\n",
       "      <td>0</td>\n",
       "    </tr>\n",
       "    <tr>\n",
       "      <th>134770</th>\n",
       "      <td>1</td>\n",
       "      <td>0</td>\n",
       "      <td>0</td>\n",
       "      <td>0</td>\n",
       "      <td>0</td>\n",
       "      <td>0</td>\n",
       "      <td>1</td>\n",
       "      <td>0</td>\n",
       "      <td>0</td>\n",
       "      <td>0</td>\n",
       "      <td>0</td>\n",
       "      <td>0</td>\n",
       "    </tr>\n",
       "    <tr>\n",
       "      <th>134771</th>\n",
       "      <td>0</td>\n",
       "      <td>0</td>\n",
       "      <td>0</td>\n",
       "      <td>0</td>\n",
       "      <td>0</td>\n",
       "      <td>0</td>\n",
       "      <td>0</td>\n",
       "      <td>1</td>\n",
       "      <td>0</td>\n",
       "      <td>1</td>\n",
       "      <td>0</td>\n",
       "      <td>0</td>\n",
       "    </tr>\n",
       "    <tr>\n",
       "      <th>134772</th>\n",
       "      <td>0</td>\n",
       "      <td>1</td>\n",
       "      <td>0</td>\n",
       "      <td>0</td>\n",
       "      <td>0</td>\n",
       "      <td>0</td>\n",
       "      <td>1</td>\n",
       "      <td>0</td>\n",
       "      <td>1</td>\n",
       "      <td>0</td>\n",
       "      <td>0</td>\n",
       "      <td>0</td>\n",
       "    </tr>\n",
       "  </tbody>\n",
       "</table>\n",
       "<p>134773 rows × 12 columns</p>\n",
       "</div>"
      ],
      "text/plain": [
       "        Pdgfra  Gad1  Vip  Cldn5  Calb1  Npy2r  Fos  Gpr17  Acta2  Gfap  Bdnf  \\\n",
       "0            6    22    9     12     14     12   13     18      7    51    15   \n",
       "1            0     0    0      0      0      0    0      0      0     0     0   \n",
       "2            0     0    0      0      0      0    0      0      0     0     0   \n",
       "3            0     0    0      0      0      0    0      0      0     0     0   \n",
       "4            0     0    0      0      0      0    0      0      0     0     0   \n",
       "...        ...   ...  ...    ...    ...    ...  ...    ...    ...   ...   ...   \n",
       "134768       0     0    0      0      0      0    0      0      0     0     0   \n",
       "134769       0     0    0      0      0      0    0      0      0     0     0   \n",
       "134770       1     0    0      0      0      0    1      0      0     0     0   \n",
       "134771       0     0    0      0      0      0    0      1      0     1     0   \n",
       "134772       0     1    0      0      0      0    1      0      1     0     0   \n",
       "\n",
       "        Aqp4  \n",
       "0         34  \n",
       "1          0  \n",
       "2          0  \n",
       "3          0  \n",
       "4          0  \n",
       "...      ...  \n",
       "134768     0  \n",
       "134769     0  \n",
       "134770     0  \n",
       "134771     0  \n",
       "134772     0  \n",
       "\n",
       "[134773 rows x 12 columns]"
      ]
     },
     "execution_count": 194,
     "metadata": {},
     "output_type": "execute_result"
    }
   ],
   "source": [
    "cosmx_overlap = cosmx_gene_exp_revised.loc[:, [gene for gene in cosmx_gene_exp_revised.columns if gene in gene_overlap_list]]\n",
    "cosmx_overlap"
   ]
  },
  {
   "cell_type": "code",
   "execution_count": 196,
   "id": "d525dfdd",
   "metadata": {},
   "outputs": [
    {
     "data": {
      "text/plain": [
       "0         213\n",
       "1           0\n",
       "2           0\n",
       "3           0\n",
       "4           0\n",
       "         ... \n",
       "134768      0\n",
       "134769      0\n",
       "134770      2\n",
       "134771      2\n",
       "134772      3\n",
       "Length: 134773, dtype: int64"
      ]
     },
     "execution_count": 196,
     "metadata": {},
     "output_type": "execute_result"
    }
   ],
   "source": [
    "cosmx_overlap_transcript_count = cosmx_overlap.sum(axis = 1)\n",
    "cosmx_overlap_transcript_count"
   ]
  },
  {
   "cell_type": "code",
   "execution_count": 197,
   "id": "291a70f7",
   "metadata": {},
   "outputs": [
    {
     "name": "stdout",
     "output_type": "stream",
     "text": [
      "Cosmx overlap mean transcript count: 3.717309846927797\n",
      "Cosmx overlap standard deviation transcript count: 15.199948721267194\n",
      "Cosmx overlap max transcript count: 1013\n"
     ]
    }
   ],
   "source": [
    "print(f'Cosmx overlap mean transcript count: {cosmx_overlap_transcript_count.mean()}')\n",
    "print(f'Cosmx overlap standard deviation transcript count: {cosmx_overlap_transcript_count.std()}')\n",
    "print(f'Cosmx overlap max transcript count: {cosmx_overlap_transcript_count.max()}')"
   ]
  },
  {
   "cell_type": "code",
   "execution_count": 206,
   "id": "d6ce890f",
   "metadata": {},
   "outputs": [
    {
     "data": {
      "text/plain": [
       "Text(0.5, 1.0, 'Cosmx Overlap - Number of transcripts per cell')"
      ]
     },
     "execution_count": 206,
     "metadata": {},
     "output_type": "execute_result"
    },
    {
     "data": {
      "image/png": "[encoded data removed]",
      "text/plain": [
       "<Figure size 640x480 with 1 Axes>"
      ]
     },
     "metadata": {},
     "output_type": "display_data"
    }
   ],
   "source": [
    "plt.hist(cosmx_overlap_transcript_count, bins = 30, range = (0,30))\n",
    "plt.axvline(cosmx_overlap_transcript_count.mean(), color = 'red', linestyle = 'dashed', label = 'Mean')\n",
    "plt.text(4, 27500, f'Mean: {int(cosmx_overlap_transcript_count.mean())}', color = 'red')\n",
    "#plt.axvline(cosmx_overlap_transcript_count.mean() - cosmx_overlap_transcript_count.std(), color = 'green', linestyle = 'dashed', label = '-1 SD')\n",
    "plt.text(19, 25000, f'SD: {int(cosmx_overlap_transcript_count.std())}', color = 'green')\n",
    "plt.axvline(cosmx_overlap_transcript_count.mean() + cosmx_overlap_transcript_count.std(), color = 'green', linestyle = 'dashed', label = '+1 SD')\n",
    "plt.title('Cosmx Overlap - Number of transcripts per cell')"
   ]
  },
  {
   "cell_type": "markdown",
   "id": "5ab5d69b",
   "metadata": {},
   "source": [
    "##### Vizgen overlap histogram"
   ]
  },
  {
   "cell_type": "code",
   "execution_count": 210,
   "id": "6856505f",
   "metadata": {},
   "outputs": [
    {
     "data": {
      "text/html": [
       "<div>\n",
       "<style scoped>\n",
       "    .dataframe tbody tr th:only-of-type {\n",
       "        vertical-align: middle;\n",
       "    }\n",
       "\n",
       "    .dataframe tbody tr th {\n",
       "        vertical-align: top;\n",
       "    }\n",
       "\n",
       "    .dataframe thead th {\n",
       "        text-align: right;\n",
       "    }\n",
       "</style>\n",
       "<table border=\"1\" class=\"dataframe\">\n",
       "  <thead>\n",
       "    <tr style=\"text-align: right;\">\n",
       "      <th>gene</th>\n",
       "      <th>Acta2</th>\n",
       "      <th>Aqp4</th>\n",
       "      <th>Bdnf</th>\n",
       "      <th>Calb1</th>\n",
       "      <th>Cldn5</th>\n",
       "      <th>Fos</th>\n",
       "      <th>Gad1</th>\n",
       "      <th>Gfap</th>\n",
       "      <th>Gpr17</th>\n",
       "      <th>Npy2r</th>\n",
       "      <th>Pdgfra</th>\n",
       "      <th>Vip</th>\n",
       "    </tr>\n",
       "    <tr>\n",
       "      <th>cell_id</th>\n",
       "      <th></th>\n",
       "      <th></th>\n",
       "      <th></th>\n",
       "      <th></th>\n",
       "      <th></th>\n",
       "      <th></th>\n",
       "      <th></th>\n",
       "      <th></th>\n",
       "      <th></th>\n",
       "      <th></th>\n",
       "      <th></th>\n",
       "      <th></th>\n",
       "    </tr>\n",
       "  </thead>\n",
       "  <tbody>\n",
       "    <tr>\n",
       "      <th>4407145100026100001</th>\n",
       "      <td>0</td>\n",
       "      <td>0</td>\n",
       "      <td>0</td>\n",
       "      <td>0</td>\n",
       "      <td>0</td>\n",
       "      <td>0</td>\n",
       "      <td>0</td>\n",
       "      <td>0</td>\n",
       "      <td>0</td>\n",
       "      <td>0</td>\n",
       "      <td>0</td>\n",
       "      <td>0</td>\n",
       "    </tr>\n",
       "    <tr>\n",
       "      <th>4407145100026100002</th>\n",
       "      <td>0</td>\n",
       "      <td>0</td>\n",
       "      <td>0</td>\n",
       "      <td>0</td>\n",
       "      <td>0</td>\n",
       "      <td>0</td>\n",
       "      <td>0</td>\n",
       "      <td>0</td>\n",
       "      <td>0</td>\n",
       "      <td>0</td>\n",
       "      <td>0</td>\n",
       "      <td>0</td>\n",
       "    </tr>\n",
       "    <tr>\n",
       "      <th>4407145100026100003</th>\n",
       "      <td>0</td>\n",
       "      <td>0</td>\n",
       "      <td>0</td>\n",
       "      <td>0</td>\n",
       "      <td>0</td>\n",
       "      <td>0</td>\n",
       "      <td>0</td>\n",
       "      <td>0</td>\n",
       "      <td>0</td>\n",
       "      <td>0</td>\n",
       "      <td>0</td>\n",
       "      <td>0</td>\n",
       "    </tr>\n",
       "    <tr>\n",
       "      <th>4407145100026100012</th>\n",
       "      <td>0</td>\n",
       "      <td>0</td>\n",
       "      <td>0</td>\n",
       "      <td>0</td>\n",
       "      <td>0</td>\n",
       "      <td>0</td>\n",
       "      <td>0</td>\n",
       "      <td>0</td>\n",
       "      <td>0</td>\n",
       "      <td>0</td>\n",
       "      <td>0</td>\n",
       "      <td>0</td>\n",
       "    </tr>\n",
       "    <tr>\n",
       "      <th>4407145100026100014</th>\n",
       "      <td>0</td>\n",
       "      <td>0</td>\n",
       "      <td>0</td>\n",
       "      <td>0</td>\n",
       "      <td>0</td>\n",
       "      <td>0</td>\n",
       "      <td>0</td>\n",
       "      <td>0</td>\n",
       "      <td>0</td>\n",
       "      <td>0</td>\n",
       "      <td>0</td>\n",
       "      <td>0</td>\n",
       "    </tr>\n",
       "    <tr>\n",
       "      <th>...</th>\n",
       "      <td>...</td>\n",
       "      <td>...</td>\n",
       "      <td>...</td>\n",
       "      <td>...</td>\n",
       "      <td>...</td>\n",
       "      <td>...</td>\n",
       "      <td>...</td>\n",
       "      <td>...</td>\n",
       "      <td>...</td>\n",
       "      <td>...</td>\n",
       "      <td>...</td>\n",
       "      <td>...</td>\n",
       "    </tr>\n",
       "    <tr>\n",
       "      <th>4407145601700100052</th>\n",
       "      <td>0</td>\n",
       "      <td>0</td>\n",
       "      <td>0</td>\n",
       "      <td>0</td>\n",
       "      <td>0</td>\n",
       "      <td>0</td>\n",
       "      <td>0</td>\n",
       "      <td>0</td>\n",
       "      <td>0</td>\n",
       "      <td>0</td>\n",
       "      <td>0</td>\n",
       "      <td>0</td>\n",
       "    </tr>\n",
       "    <tr>\n",
       "      <th>4407145601700100065</th>\n",
       "      <td>0</td>\n",
       "      <td>0</td>\n",
       "      <td>0</td>\n",
       "      <td>0</td>\n",
       "      <td>0</td>\n",
       "      <td>0</td>\n",
       "      <td>0</td>\n",
       "      <td>0</td>\n",
       "      <td>0</td>\n",
       "      <td>0</td>\n",
       "      <td>0</td>\n",
       "      <td>0</td>\n",
       "    </tr>\n",
       "    <tr>\n",
       "      <th>4407145601701100007</th>\n",
       "      <td>0</td>\n",
       "      <td>0</td>\n",
       "      <td>0</td>\n",
       "      <td>0</td>\n",
       "      <td>0</td>\n",
       "      <td>0</td>\n",
       "      <td>0</td>\n",
       "      <td>0</td>\n",
       "      <td>0</td>\n",
       "      <td>0</td>\n",
       "      <td>0</td>\n",
       "      <td>0</td>\n",
       "    </tr>\n",
       "    <tr>\n",
       "      <th>4407145601703100144</th>\n",
       "      <td>0</td>\n",
       "      <td>0</td>\n",
       "      <td>0</td>\n",
       "      <td>0</td>\n",
       "      <td>0</td>\n",
       "      <td>0</td>\n",
       "      <td>0</td>\n",
       "      <td>0</td>\n",
       "      <td>0</td>\n",
       "      <td>0</td>\n",
       "      <td>0</td>\n",
       "      <td>0</td>\n",
       "    </tr>\n",
       "    <tr>\n",
       "      <th>4407145601704100128</th>\n",
       "      <td>0</td>\n",
       "      <td>0</td>\n",
       "      <td>0</td>\n",
       "      <td>0</td>\n",
       "      <td>0</td>\n",
       "      <td>0</td>\n",
       "      <td>0</td>\n",
       "      <td>0</td>\n",
       "      <td>0</td>\n",
       "      <td>0</td>\n",
       "      <td>0</td>\n",
       "      <td>0</td>\n",
       "    </tr>\n",
       "  </tbody>\n",
       "</table>\n",
       "<p>395424 rows × 12 columns</p>\n",
       "</div>"
      ],
      "text/plain": [
       "gene                 Acta2  Aqp4  Bdnf  Calb1  Cldn5  Fos  Gad1  Gfap  Gpr17  \\\n",
       "cell_id                                                                        \n",
       "4407145100026100001      0     0     0      0      0    0     0     0      0   \n",
       "4407145100026100002      0     0     0      0      0    0     0     0      0   \n",
       "4407145100026100003      0     0     0      0      0    0     0     0      0   \n",
       "4407145100026100012      0     0     0      0      0    0     0     0      0   \n",
       "4407145100026100014      0     0     0      0      0    0     0     0      0   \n",
       "...                    ...   ...   ...    ...    ...  ...   ...   ...    ...   \n",
       "4407145601700100052      0     0     0      0      0    0     0     0      0   \n",
       "4407145601700100065      0     0     0      0      0    0     0     0      0   \n",
       "4407145601701100007      0     0     0      0      0    0     0     0      0   \n",
       "4407145601703100144      0     0     0      0      0    0     0     0      0   \n",
       "4407145601704100128      0     0     0      0      0    0     0     0      0   \n",
       "\n",
       "gene                 Npy2r  Pdgfra  Vip  \n",
       "cell_id                                  \n",
       "4407145100026100001      0       0    0  \n",
       "4407145100026100002      0       0    0  \n",
       "4407145100026100003      0       0    0  \n",
       "4407145100026100012      0       0    0  \n",
       "4407145100026100014      0       0    0  \n",
       "...                    ...     ...  ...  \n",
       "4407145601700100052      0       0    0  \n",
       "4407145601700100065      0       0    0  \n",
       "4407145601701100007      0       0    0  \n",
       "4407145601703100144      0       0    0  \n",
       "4407145601704100128      0       0    0  \n",
       "\n",
       "[395424 rows x 12 columns]"
      ]
     },
     "execution_count": 210,
     "metadata": {},
     "output_type": "execute_result"
    }
   ],
   "source": [
    "vizgen_overlap = vizgen_concat.loc[:, [gene for gene in vizgen_concat.columns if gene in gene_overlap_list]]\n",
    "vizgen_overlap"
   ]
  },
  {
   "cell_type": "code",
   "execution_count": 211,
   "id": "1c76457d",
   "metadata": {},
   "outputs": [
    {
     "data": {
      "text/plain": [
       "cell_id\n",
       "4407145100026100001    0\n",
       "4407145100026100002    0\n",
       "4407145100026100003    0\n",
       "4407145100026100012    0\n",
       "4407145100026100014    0\n",
       "                      ..\n",
       "4407145601700100052    0\n",
       "4407145601700100065    0\n",
       "4407145601701100007    0\n",
       "4407145601703100144    0\n",
       "4407145601704100128    0\n",
       "Length: 395424, dtype: int64"
      ]
     },
     "execution_count": 211,
     "metadata": {},
     "output_type": "execute_result"
    }
   ],
   "source": [
    "vizgen_overlap_transcript_counts = vizgen_overlap.sum(axis = 1)\n",
    "vizgen_overlap_transcript_counts"
   ]
  },
  {
   "cell_type": "code",
   "execution_count": 212,
   "id": "076da978",
   "metadata": {},
   "outputs": [
    {
     "name": "stdout",
     "output_type": "stream",
     "text": [
      "Vizgen overlap mean transcript count: 7.130859533058185\n",
      "Vizgen overlap standard deviation transcript count: 19.627672457941614\n",
      "Vizgen overlap max transcript count: 721\n"
     ]
    }
   ],
   "source": [
    "print(f'Vizgen overlap mean transcript count: {vizgen_overlap_transcript_counts.mean()}')\n",
    "print(f'Vizgen overlap standard deviation transcript count: {vizgen_overlap_transcript_counts.std()}')\n",
    "print(f'Vizgen overlap max transcript count: {vizgen_overlap_transcript_counts.max()}')"
   ]
  },
  {
   "cell_type": "code",
   "execution_count": 217,
   "id": "b7c37c3c",
   "metadata": {},
   "outputs": [
    {
     "data": {
      "text/plain": [
       "Text(0.5, 1.0, 'Vizgen Overlap - Number of transcripts per cell')"
      ]
     },
     "execution_count": 217,
     "metadata": {},
     "output_type": "execute_result"
    },
    {
     "data": {
      "image/png": "[encoded data removed]",
      "text/plain": [
       "<Figure size 640x480 with 1 Axes>"
      ]
     },
     "metadata": {},
     "output_type": "display_data"
    }
   ],
   "source": [
    "plt.hist(vizgen_overlap_transcript_counts, bins = 60, range = (0,60))\n",
    "plt.axvline(vizgen_overlap_transcript_counts.mean(), color = 'red', linestyle = 'dashed', label = 'Mean')\n",
    "plt.text(8, 140000, f'Mean: {int(vizgen_overlap_transcript_counts.mean())}', color = 'red')\n",
    "#plt.axvline(vizgen_overlap_transcript_counts.mean() - vizgen_overlap_transcript_counts.std(), color = 'green', linestyle = 'dashed', label = '-1 SD')\n",
    "plt.text(28, 130000, f'SD: {int(vizgen_overlap_transcript_counts.std())}', color = 'green')\n",
    "plt.axvline(vizgen_overlap_transcript_counts.mean() + vizgen_overlap_transcript_counts.std(), color = 'green', linestyle = 'dashed', label = '+1 SD')\n",
    "plt.title('Vizgen Overlap - Number of transcripts per cell')"
   ]
  },
  {
   "cell_type": "markdown",
   "id": "8ba32c97",
   "metadata": {},
   "source": [
    "##### Cbm2 overlap histogram"
   ]
  },
  {
   "cell_type": "code",
   "execution_count": 261,
   "id": "5f1d5969",
   "metadata": {
    "scrolled": false
   },
   "outputs": [
    {
     "data": {
      "text/html": [
       "<div>\n",
       "<style scoped>\n",
       "    .dataframe tbody tr th:only-of-type {\n",
       "        vertical-align: middle;\n",
       "    }\n",
       "\n",
       "    .dataframe tbody tr th {\n",
       "        vertical-align: top;\n",
       "    }\n",
       "\n",
       "    .dataframe thead th {\n",
       "        text-align: right;\n",
       "    }\n",
       "</style>\n",
       "<table border=\"1\" class=\"dataframe\">\n",
       "  <thead>\n",
       "    <tr style=\"text-align: right;\">\n",
       "      <th></th>\n",
       "      <th>cell_id</th>\n",
       "      <th>4930570B17Rik</th>\n",
       "      <th>Abhd2</th>\n",
       "      <th>Acer3</th>\n",
       "      <th>Acta2</th>\n",
       "      <th>Adcy1</th>\n",
       "      <th>Adcy2</th>\n",
       "      <th>Adgrl3</th>\n",
       "      <th>Agt</th>\n",
       "      <th>Ahcyl2</th>\n",
       "      <th>...</th>\n",
       "      <th>Unc13b</th>\n",
       "      <th>Unc13c</th>\n",
       "      <th>Unc5c</th>\n",
       "      <th>Vim</th>\n",
       "      <th>Vip</th>\n",
       "      <th>Vps13c</th>\n",
       "      <th>Wdr17</th>\n",
       "      <th>Wfs1</th>\n",
       "      <th>Wipf3</th>\n",
       "      <th>Zfp36l1</th>\n",
       "    </tr>\n",
       "  </thead>\n",
       "  <tbody>\n",
       "    <tr>\n",
       "      <th>0</th>\n",
       "      <td>2</td>\n",
       "      <td>0</td>\n",
       "      <td>0</td>\n",
       "      <td>5</td>\n",
       "      <td>6</td>\n",
       "      <td>17</td>\n",
       "      <td>2</td>\n",
       "      <td>6</td>\n",
       "      <td>83</td>\n",
       "      <td>5</td>\n",
       "      <td>...</td>\n",
       "      <td>0</td>\n",
       "      <td>5</td>\n",
       "      <td>0</td>\n",
       "      <td>0</td>\n",
       "      <td>0</td>\n",
       "      <td>3</td>\n",
       "      <td>0</td>\n",
       "      <td>3</td>\n",
       "      <td>4</td>\n",
       "      <td>17</td>\n",
       "    </tr>\n",
       "    <tr>\n",
       "      <th>1</th>\n",
       "      <td>4</td>\n",
       "      <td>0</td>\n",
       "      <td>0</td>\n",
       "      <td>1</td>\n",
       "      <td>0</td>\n",
       "      <td>5</td>\n",
       "      <td>0</td>\n",
       "      <td>11</td>\n",
       "      <td>0</td>\n",
       "      <td>12</td>\n",
       "      <td>...</td>\n",
       "      <td>0</td>\n",
       "      <td>1</td>\n",
       "      <td>9</td>\n",
       "      <td>0</td>\n",
       "      <td>0</td>\n",
       "      <td>7</td>\n",
       "      <td>0</td>\n",
       "      <td>6</td>\n",
       "      <td>0</td>\n",
       "      <td>6</td>\n",
       "    </tr>\n",
       "    <tr>\n",
       "      <th>2</th>\n",
       "      <td>10</td>\n",
       "      <td>0</td>\n",
       "      <td>28</td>\n",
       "      <td>0</td>\n",
       "      <td>2</td>\n",
       "      <td>0</td>\n",
       "      <td>0</td>\n",
       "      <td>4</td>\n",
       "      <td>7</td>\n",
       "      <td>2</td>\n",
       "      <td>...</td>\n",
       "      <td>0</td>\n",
       "      <td>5</td>\n",
       "      <td>0</td>\n",
       "      <td>10</td>\n",
       "      <td>0</td>\n",
       "      <td>0</td>\n",
       "      <td>0</td>\n",
       "      <td>1</td>\n",
       "      <td>0</td>\n",
       "      <td>14</td>\n",
       "    </tr>\n",
       "    <tr>\n",
       "      <th>3</th>\n",
       "      <td>12</td>\n",
       "      <td>0</td>\n",
       "      <td>7</td>\n",
       "      <td>8</td>\n",
       "      <td>5</td>\n",
       "      <td>12</td>\n",
       "      <td>1</td>\n",
       "      <td>42</td>\n",
       "      <td>31</td>\n",
       "      <td>16</td>\n",
       "      <td>...</td>\n",
       "      <td>3</td>\n",
       "      <td>3</td>\n",
       "      <td>8</td>\n",
       "      <td>2</td>\n",
       "      <td>0</td>\n",
       "      <td>33</td>\n",
       "      <td>4</td>\n",
       "      <td>15</td>\n",
       "      <td>6</td>\n",
       "      <td>2</td>\n",
       "    </tr>\n",
       "    <tr>\n",
       "      <th>4</th>\n",
       "      <td>14</td>\n",
       "      <td>0</td>\n",
       "      <td>15</td>\n",
       "      <td>7</td>\n",
       "      <td>2</td>\n",
       "      <td>10</td>\n",
       "      <td>4</td>\n",
       "      <td>28</td>\n",
       "      <td>0</td>\n",
       "      <td>16</td>\n",
       "      <td>...</td>\n",
       "      <td>9</td>\n",
       "      <td>0</td>\n",
       "      <td>8</td>\n",
       "      <td>3</td>\n",
       "      <td>0</td>\n",
       "      <td>45</td>\n",
       "      <td>5</td>\n",
       "      <td>11</td>\n",
       "      <td>8</td>\n",
       "      <td>1</td>\n",
       "    </tr>\n",
       "    <tr>\n",
       "      <th>...</th>\n",
       "      <td>...</td>\n",
       "      <td>...</td>\n",
       "      <td>...</td>\n",
       "      <td>...</td>\n",
       "      <td>...</td>\n",
       "      <td>...</td>\n",
       "      <td>...</td>\n",
       "      <td>...</td>\n",
       "      <td>...</td>\n",
       "      <td>...</td>\n",
       "      <td>...</td>\n",
       "      <td>...</td>\n",
       "      <td>...</td>\n",
       "      <td>...</td>\n",
       "      <td>...</td>\n",
       "      <td>...</td>\n",
       "      <td>...</td>\n",
       "      <td>...</td>\n",
       "      <td>...</td>\n",
       "      <td>...</td>\n",
       "      <td>...</td>\n",
       "    </tr>\n",
       "    <tr>\n",
       "      <th>58187</th>\n",
       "      <td>4840191</td>\n",
       "      <td>0</td>\n",
       "      <td>3</td>\n",
       "      <td>0</td>\n",
       "      <td>0</td>\n",
       "      <td>0</td>\n",
       "      <td>0</td>\n",
       "      <td>0</td>\n",
       "      <td>6</td>\n",
       "      <td>0</td>\n",
       "      <td>...</td>\n",
       "      <td>0</td>\n",
       "      <td>0</td>\n",
       "      <td>0</td>\n",
       "      <td>0</td>\n",
       "      <td>0</td>\n",
       "      <td>0</td>\n",
       "      <td>0</td>\n",
       "      <td>0</td>\n",
       "      <td>0</td>\n",
       "      <td>0</td>\n",
       "    </tr>\n",
       "    <tr>\n",
       "      <th>58188</th>\n",
       "      <td>4840192</td>\n",
       "      <td>0</td>\n",
       "      <td>0</td>\n",
       "      <td>0</td>\n",
       "      <td>0</td>\n",
       "      <td>1</td>\n",
       "      <td>3</td>\n",
       "      <td>0</td>\n",
       "      <td>12</td>\n",
       "      <td>0</td>\n",
       "      <td>...</td>\n",
       "      <td>0</td>\n",
       "      <td>0</td>\n",
       "      <td>0</td>\n",
       "      <td>0</td>\n",
       "      <td>0</td>\n",
       "      <td>0</td>\n",
       "      <td>0</td>\n",
       "      <td>4</td>\n",
       "      <td>0</td>\n",
       "      <td>0</td>\n",
       "    </tr>\n",
       "    <tr>\n",
       "      <th>58189</th>\n",
       "      <td>4840193</td>\n",
       "      <td>0</td>\n",
       "      <td>1</td>\n",
       "      <td>0</td>\n",
       "      <td>0</td>\n",
       "      <td>0</td>\n",
       "      <td>2</td>\n",
       "      <td>1</td>\n",
       "      <td>0</td>\n",
       "      <td>0</td>\n",
       "      <td>...</td>\n",
       "      <td>0</td>\n",
       "      <td>0</td>\n",
       "      <td>0</td>\n",
       "      <td>0</td>\n",
       "      <td>0</td>\n",
       "      <td>2</td>\n",
       "      <td>0</td>\n",
       "      <td>1</td>\n",
       "      <td>0</td>\n",
       "      <td>0</td>\n",
       "    </tr>\n",
       "    <tr>\n",
       "      <th>58190</th>\n",
       "      <td>4840194</td>\n",
       "      <td>0</td>\n",
       "      <td>1</td>\n",
       "      <td>0</td>\n",
       "      <td>7</td>\n",
       "      <td>0</td>\n",
       "      <td>0</td>\n",
       "      <td>0</td>\n",
       "      <td>0</td>\n",
       "      <td>0</td>\n",
       "      <td>...</td>\n",
       "      <td>0</td>\n",
       "      <td>0</td>\n",
       "      <td>0</td>\n",
       "      <td>4</td>\n",
       "      <td>0</td>\n",
       "      <td>0</td>\n",
       "      <td>0</td>\n",
       "      <td>0</td>\n",
       "      <td>0</td>\n",
       "      <td>2</td>\n",
       "    </tr>\n",
       "    <tr>\n",
       "      <th>58191</th>\n",
       "      <td>4840197</td>\n",
       "      <td>0</td>\n",
       "      <td>0</td>\n",
       "      <td>0</td>\n",
       "      <td>0</td>\n",
       "      <td>2</td>\n",
       "      <td>0</td>\n",
       "      <td>0</td>\n",
       "      <td>2</td>\n",
       "      <td>0</td>\n",
       "      <td>...</td>\n",
       "      <td>0</td>\n",
       "      <td>0</td>\n",
       "      <td>0</td>\n",
       "      <td>0</td>\n",
       "      <td>0</td>\n",
       "      <td>0</td>\n",
       "      <td>0</td>\n",
       "      <td>0</td>\n",
       "      <td>0</td>\n",
       "      <td>1</td>\n",
       "    </tr>\n",
       "  </tbody>\n",
       "</table>\n",
       "<p>58192 rows × 224 columns</p>\n",
       "</div>"
      ],
      "text/plain": [
       "       cell_id  4930570B17Rik  Abhd2  Acer3  Acta2  Adcy1  Adcy2  Adgrl3  Agt  \\\n",
       "0            2              0      0      5      6     17      2       6   83   \n",
       "1            4              0      0      1      0      5      0      11    0   \n",
       "2           10              0     28      0      2      0      0       4    7   \n",
       "3           12              0      7      8      5     12      1      42   31   \n",
       "4           14              0     15      7      2     10      4      28    0   \n",
       "...        ...            ...    ...    ...    ...    ...    ...     ...  ...   \n",
       "58187  4840191              0      3      0      0      0      0       0    6   \n",
       "58188  4840192              0      0      0      0      1      3       0   12   \n",
       "58189  4840193              0      1      0      0      0      2       1    0   \n",
       "58190  4840194              0      1      0      7      0      0       0    0   \n",
       "58191  4840197              0      0      0      0      2      0       0    2   \n",
       "\n",
       "       Ahcyl2  ...  Unc13b  Unc13c  Unc5c  Vim  Vip  Vps13c  Wdr17  Wfs1  \\\n",
       "0           5  ...       0       5      0    0    0       3      0     3   \n",
       "1          12  ...       0       1      9    0    0       7      0     6   \n",
       "2           2  ...       0       5      0   10    0       0      0     1   \n",
       "3          16  ...       3       3      8    2    0      33      4    15   \n",
       "4          16  ...       9       0      8    3    0      45      5    11   \n",
       "...       ...  ...     ...     ...    ...  ...  ...     ...    ...   ...   \n",
       "58187       0  ...       0       0      0    0    0       0      0     0   \n",
       "58188       0  ...       0       0      0    0    0       0      0     4   \n",
       "58189       0  ...       0       0      0    0    0       2      0     1   \n",
       "58190       0  ...       0       0      0    4    0       0      0     0   \n",
       "58191       0  ...       0       0      0    0    0       0      0     0   \n",
       "\n",
       "       Wipf3  Zfp36l1  \n",
       "0          4       17  \n",
       "1          0        6  \n",
       "2          0       14  \n",
       "3          6        2  \n",
       "4          8        1  \n",
       "...      ...      ...  \n",
       "58187      0        0  \n",
       "58188      0        0  \n",
       "58189      0        0  \n",
       "58190      0        2  \n",
       "58191      0        1  \n",
       "\n",
       "[58192 rows x 224 columns]"
      ]
     },
     "execution_count": 261,
     "metadata": {},
     "output_type": "execute_result"
    }
   ],
   "source": [
    "cmb2_cell_df = pd.read_csv(r\"D:\\SMI-0214_DonCleveland_UCSD\\SMI-0214_DonCleveland_UCSD\\cbm2_single_cell_raw_counts.csv\")\n",
    "cmb2_cell_df"
   ]
  },
  {
   "cell_type": "code",
   "execution_count": 263,
   "id": "fe78ae01",
   "metadata": {
    "scrolled": true
   },
   "outputs": [
    {
     "data": {
      "text/html": [
       "<div>\n",
       "<style scoped>\n",
       "    .dataframe tbody tr th:only-of-type {\n",
       "        vertical-align: middle;\n",
       "    }\n",
       "\n",
       "    .dataframe tbody tr th {\n",
       "        vertical-align: top;\n",
       "    }\n",
       "\n",
       "    .dataframe thead th {\n",
       "        text-align: right;\n",
       "    }\n",
       "</style>\n",
       "<table border=\"1\" class=\"dataframe\">\n",
       "  <thead>\n",
       "    <tr style=\"text-align: right;\">\n",
       "      <th></th>\n",
       "      <th>Acta2</th>\n",
       "      <th>Aqp4</th>\n",
       "      <th>Bdnf</th>\n",
       "      <th>Calb1</th>\n",
       "      <th>Cldn5</th>\n",
       "      <th>Fos</th>\n",
       "      <th>Gad1</th>\n",
       "      <th>Gfap</th>\n",
       "      <th>Gpr17</th>\n",
       "      <th>Npy2r</th>\n",
       "      <th>Pdgfra</th>\n",
       "      <th>Vip</th>\n",
       "    </tr>\n",
       "  </thead>\n",
       "  <tbody>\n",
       "    <tr>\n",
       "      <th>0</th>\n",
       "      <td>6</td>\n",
       "      <td>17</td>\n",
       "      <td>0</td>\n",
       "      <td>2</td>\n",
       "      <td>0</td>\n",
       "      <td>1</td>\n",
       "      <td>0</td>\n",
       "      <td>0</td>\n",
       "      <td>0</td>\n",
       "      <td>0</td>\n",
       "      <td>0</td>\n",
       "      <td>0</td>\n",
       "    </tr>\n",
       "    <tr>\n",
       "      <th>1</th>\n",
       "      <td>0</td>\n",
       "      <td>0</td>\n",
       "      <td>0</td>\n",
       "      <td>8</td>\n",
       "      <td>0</td>\n",
       "      <td>0</td>\n",
       "      <td>0</td>\n",
       "      <td>0</td>\n",
       "      <td>1</td>\n",
       "      <td>2</td>\n",
       "      <td>0</td>\n",
       "      <td>0</td>\n",
       "    </tr>\n",
       "    <tr>\n",
       "      <th>2</th>\n",
       "      <td>2</td>\n",
       "      <td>1</td>\n",
       "      <td>1</td>\n",
       "      <td>1</td>\n",
       "      <td>40</td>\n",
       "      <td>0</td>\n",
       "      <td>0</td>\n",
       "      <td>1</td>\n",
       "      <td>0</td>\n",
       "      <td>1</td>\n",
       "      <td>0</td>\n",
       "      <td>0</td>\n",
       "    </tr>\n",
       "    <tr>\n",
       "      <th>3</th>\n",
       "      <td>5</td>\n",
       "      <td>3</td>\n",
       "      <td>7</td>\n",
       "      <td>34</td>\n",
       "      <td>1</td>\n",
       "      <td>2</td>\n",
       "      <td>1</td>\n",
       "      <td>2</td>\n",
       "      <td>4</td>\n",
       "      <td>2</td>\n",
       "      <td>3</td>\n",
       "      <td>0</td>\n",
       "    </tr>\n",
       "    <tr>\n",
       "      <th>4</th>\n",
       "      <td>2</td>\n",
       "      <td>0</td>\n",
       "      <td>4</td>\n",
       "      <td>14</td>\n",
       "      <td>0</td>\n",
       "      <td>8</td>\n",
       "      <td>0</td>\n",
       "      <td>1</td>\n",
       "      <td>2</td>\n",
       "      <td>14</td>\n",
       "      <td>2</td>\n",
       "      <td>0</td>\n",
       "    </tr>\n",
       "    <tr>\n",
       "      <th>...</th>\n",
       "      <td>...</td>\n",
       "      <td>...</td>\n",
       "      <td>...</td>\n",
       "      <td>...</td>\n",
       "      <td>...</td>\n",
       "      <td>...</td>\n",
       "      <td>...</td>\n",
       "      <td>...</td>\n",
       "      <td>...</td>\n",
       "      <td>...</td>\n",
       "      <td>...</td>\n",
       "      <td>...</td>\n",
       "    </tr>\n",
       "    <tr>\n",
       "      <th>58187</th>\n",
       "      <td>0</td>\n",
       "      <td>0</td>\n",
       "      <td>0</td>\n",
       "      <td>0</td>\n",
       "      <td>0</td>\n",
       "      <td>0</td>\n",
       "      <td>1</td>\n",
       "      <td>0</td>\n",
       "      <td>1</td>\n",
       "      <td>0</td>\n",
       "      <td>0</td>\n",
       "      <td>0</td>\n",
       "    </tr>\n",
       "    <tr>\n",
       "      <th>58188</th>\n",
       "      <td>0</td>\n",
       "      <td>3</td>\n",
       "      <td>0</td>\n",
       "      <td>3</td>\n",
       "      <td>0</td>\n",
       "      <td>0</td>\n",
       "      <td>0</td>\n",
       "      <td>0</td>\n",
       "      <td>0</td>\n",
       "      <td>0</td>\n",
       "      <td>0</td>\n",
       "      <td>0</td>\n",
       "    </tr>\n",
       "    <tr>\n",
       "      <th>58189</th>\n",
       "      <td>0</td>\n",
       "      <td>0</td>\n",
       "      <td>0</td>\n",
       "      <td>0</td>\n",
       "      <td>0</td>\n",
       "      <td>0</td>\n",
       "      <td>0</td>\n",
       "      <td>0</td>\n",
       "      <td>0</td>\n",
       "      <td>0</td>\n",
       "      <td>0</td>\n",
       "      <td>0</td>\n",
       "    </tr>\n",
       "    <tr>\n",
       "      <th>58190</th>\n",
       "      <td>7</td>\n",
       "      <td>0</td>\n",
       "      <td>0</td>\n",
       "      <td>0</td>\n",
       "      <td>12</td>\n",
       "      <td>0</td>\n",
       "      <td>0</td>\n",
       "      <td>0</td>\n",
       "      <td>0</td>\n",
       "      <td>0</td>\n",
       "      <td>1</td>\n",
       "      <td>0</td>\n",
       "    </tr>\n",
       "    <tr>\n",
       "      <th>58191</th>\n",
       "      <td>0</td>\n",
       "      <td>0</td>\n",
       "      <td>0</td>\n",
       "      <td>0</td>\n",
       "      <td>0</td>\n",
       "      <td>0</td>\n",
       "      <td>0</td>\n",
       "      <td>0</td>\n",
       "      <td>0</td>\n",
       "      <td>0</td>\n",
       "      <td>0</td>\n",
       "      <td>0</td>\n",
       "    </tr>\n",
       "  </tbody>\n",
       "</table>\n",
       "<p>58192 rows × 12 columns</p>\n",
       "</div>"
      ],
      "text/plain": [
       "       Acta2  Aqp4  Bdnf  Calb1  Cldn5  Fos  Gad1  Gfap  Gpr17  Npy2r  Pdgfra  \\\n",
       "0          6    17     0      2      0    1     0     0      0      0       0   \n",
       "1          0     0     0      8      0    0     0     0      1      2       0   \n",
       "2          2     1     1      1     40    0     0     1      0      1       0   \n",
       "3          5     3     7     34      1    2     1     2      4      2       3   \n",
       "4          2     0     4     14      0    8     0     1      2     14       2   \n",
       "...      ...   ...   ...    ...    ...  ...   ...   ...    ...    ...     ...   \n",
       "58187      0     0     0      0      0    0     1     0      1      0       0   \n",
       "58188      0     3     0      3      0    0     0     0      0      0       0   \n",
       "58189      0     0     0      0      0    0     0     0      0      0       0   \n",
       "58190      7     0     0      0     12    0     0     0      0      0       1   \n",
       "58191      0     0     0      0      0    0     0     0      0      0       0   \n",
       "\n",
       "       Vip  \n",
       "0        0  \n",
       "1        0  \n",
       "2        0  \n",
       "3        0  \n",
       "4        0  \n",
       "...    ...  \n",
       "58187    0  \n",
       "58188    0  \n",
       "58189    0  \n",
       "58190    0  \n",
       "58191    0  \n",
       "\n",
       "[58192 rows x 12 columns]"
      ]
     },
     "execution_count": 263,
     "metadata": {},
     "output_type": "execute_result"
    }
   ],
   "source": [
    "cbm2_overlap = cmb2_cell_df.loc[:, [gene for gene in cmb2_cell_df.columns if gene in gene_overlap_list]]\n",
    "cbm2_overlap"
   ]
  },
  {
   "cell_type": "code",
   "execution_count": 264,
   "id": "ca313934",
   "metadata": {
    "scrolled": true
   },
   "outputs": [
    {
     "data": {
      "text/plain": [
       "0        26\n",
       "1        11\n",
       "2        47\n",
       "3        64\n",
       "4        47\n",
       "         ..\n",
       "58187     2\n",
       "58188     6\n",
       "58189     0\n",
       "58190    20\n",
       "58191     0\n",
       "Length: 58192, dtype: int64"
      ]
     },
     "execution_count": 264,
     "metadata": {},
     "output_type": "execute_result"
    }
   ],
   "source": [
    "cbm2_overlap_transcript_counts = cbm2_overlap.sum(axis = 1)\n",
    "cbm2_overlap_transcript_counts"
   ]
  },
  {
   "cell_type": "code",
   "execution_count": 265,
   "id": "52e0703f",
   "metadata": {
    "scrolled": true
   },
   "outputs": [
    {
     "name": "stdout",
     "output_type": "stream",
     "text": [
      "Cbm2 overlap mean transcript count: 48.968122766015945\n",
      "Cbm2 overlap standard deviation transcript count: 89.1659066895679\n",
      "Cbm2 overlap max transcript count: 1559\n"
     ]
    }
   ],
   "source": [
    "print(f'Cbm2 overlap mean transcript count: {cbm2_overlap_transcript_counts.mean()}')\n",
    "print(f'Cbm2 overlap standard deviation transcript count: {cbm2_overlap_transcript_counts.std()}')\n",
    "print(f'Cbm2 overlap max transcript count: {cbm2_overlap_transcript_counts.max()}')"
   ]
  },
  {
   "cell_type": "code",
   "execution_count": 273,
   "id": "4c72f840",
   "metadata": {},
   "outputs": [
    {
     "data": {
      "text/plain": [
       "Text(0.5, 1.0, 'Cbm2 Overlap - Number of transcripts per cell')"
      ]
     },
     "execution_count": 273,
     "metadata": {},
     "output_type": "execute_result"
    },
    {
     "data": {
      "image/png": "[encoded data removed]",
      "text/plain": [
       "<Figure size 640x480 with 1 Axes>"
      ]
     },
     "metadata": {},
     "output_type": "display_data"
    }
   ],
   "source": [
    "plt.hist(cbm2_overlap_transcript_counts, bins = 100, range = (0,500))\n",
    "plt.axvline(cbm2_overlap_transcript_counts.mean(), color = 'red', linestyle = 'dashed', label = 'Mean')\n",
    "plt.text(60, 9000, f'Mean: {int(cbm2_overlap_transcript_counts.mean())}', color = 'red')\n",
    "#plt.axvline(cbm2_overlap_transcript_counts.mean() - cbm2_overlap_transcript_counts.std(), color = 'green', linestyle = 'dashed', label = '-1 SD')\n",
    "plt.text(150, 8000, f'SD: {int(cbm2_overlap_transcript_counts.std())}', color = 'green')\n",
    "plt.axvline(cbm2_overlap_transcript_counts.mean() + cbm2_overlap_transcript_counts.std(), color = 'green', linestyle = 'dashed', label = '+1 SD')\n",
    "plt.title('Cbm2 Overlap - Number of transcripts per cell')"
   ]
  },
  {
   "cell_type": "markdown",
   "id": "48e9b7d3",
   "metadata": {},
   "source": [
    "# Charts without SD"
   ]
  },
  {
   "cell_type": "code",
   "execution_count": 254,
   "id": "8259a5bf",
   "metadata": {},
   "outputs": [
    {
     "data": {
      "text/plain": [
       "Text(0.5, 1.0, 'Xenium - Number of transcripts per cell')"
      ]
     },
     "execution_count": 254,
     "metadata": {},
     "output_type": "execute_result"
    },
    {
     "data": {
      "image/png": "[encoded data removed]",
      "text/plain": [
       "<Figure size 640x480 with 1 Axes>"
      ]
     },
     "metadata": {},
     "output_type": "display_data"
    }
   ],
   "source": [
    "plt.hist(xenium_transcripts, bins = 100)\n",
    "plt.axvline(xenium_transcripts.mean(), color = 'red', linestyle = 'dashed', label = 'Mean')\n",
    "plt.text(220, 30000, f'Mean: {int(xenium_transcripts.mean())}', color = 'red')\n",
    "#plt.axvline(xenium_transcripts.mean() - xenium_transcripts.std(), color = 'green', linestyle = 'dashed', label = '-1 SD')\n",
    "#plt.text(380, 25000, f'SD: {int(xenium_transcripts.std())}', color = 'green')\n",
    "#plt.axvline(xenium_transcripts.mean() + xenium_transcripts.std(), color = 'green', linestyle = 'dashed', label = '+1 SD')\n",
    "plt.title('Xenium - Number of transcripts per cell')"
   ]
  },
  {
   "cell_type": "code",
   "execution_count": 255,
   "id": "127d852d",
   "metadata": {},
   "outputs": [
    {
     "data": {
      "text/plain": [
       "Text(0.5, 1.0, 'Cosmx - Number of transcripts per cell')"
      ]
     },
     "execution_count": 255,
     "metadata": {},
     "output_type": "execute_result"
    },
    {
     "data": {
      "image/png": "[encoded data removed]",
      "text/plain": [
       "<Figure size 640x480 with 1 Axes>"
      ]
     },
     "metadata": {},
     "output_type": "display_data"
    }
   ],
   "source": [
    "plt.hist(cosmx_transcript_counts, bins = 100, range = (0, 6000))\n",
    "plt.axvline(cosmx_transcript_counts.mean(), color = 'red', linestyle = 'dashed', label = 'Mean')\n",
    "plt.text(600, 14000, f'Mean: {int(cosmx_transcript_counts.mean())}', color = 'red')\n",
    "#plt.axvline(cosmx_transcript_counts.mean() - cosmx_transcript_counts.std(), color = 'green', linestyle = 'dashed', label = '-1 SD')\n",
    "#plt.text(3000, 12000, f'SD: {int(cosmx_transcript_counts.std())}', color = 'green')\n",
    "#plt.axvline(cosmx_transcript_counts.mean() + cosmx_transcript_counts.std(), color = 'green', linestyle = 'dashed', label = '+1 SD')\n",
    "plt.title('Cosmx - Number of transcripts per cell')"
   ]
  },
  {
   "cell_type": "code",
   "execution_count": 256,
   "id": "baa32f5a",
   "metadata": {},
   "outputs": [
    {
     "data": {
      "text/plain": [
       "Text(0.5, 1.0, 'Vizgen - Number of transcripts per cell')"
      ]
     },
     "execution_count": 256,
     "metadata": {},
     "output_type": "execute_result"
    },
    {
     "data": {
      "image/png": "[encoded data removed]",
      "text/plain": [
       "<Figure size 640x480 with 1 Axes>"
      ]
     },
     "metadata": {},
     "output_type": "display_data"
    }
   ],
   "source": [
    "plt.hist(vizgen_transcript_counts, bins = 100, range = (0,1500))\n",
    "plt.axvline(vizgen_transcript_counts.mean(), color = 'red', linestyle = 'dashed', label = 'Mean')\n",
    "plt.text(160, 110000, f'Mean: {int(vizgen_transcript_counts.mean())}', color = 'red')\n",
    "#plt.axvline(vizgen_transcript_counts.mean() - vizgen_transcript_counts.std(), color = 'green', linestyle = 'dashed', label = '-1 SD')\n",
    "#plt.text(420, 100000, f'SD: {int(vizgen_transcript_counts.std())}', color = 'green')\n",
    "#plt.axvline(vizgen_transcript_counts.mean() + vizgen_transcript_counts.std(), color = 'green', linestyle = 'dashed', label = '+1 SD')\n",
    "plt.title('Vizgen - Number of transcripts per cell')"
   ]
  },
  {
   "cell_type": "code",
   "execution_count": 257,
   "id": "02a1f9a3",
   "metadata": {},
   "outputs": [
    {
     "data": {
      "text/plain": [
       "Text(0.5, 1.0, 'Cbm2 - Number of transcripts per cell')"
      ]
     },
     "execution_count": 257,
     "metadata": {},
     "output_type": "execute_result"
    },
    {
     "data": {
      "image/png": "[encoded data removed]",
      "text/plain": [
       "<Figure size 640x480 with 1 Axes>"
      ]
     },
     "metadata": {},
     "output_type": "display_data"
    }
   ],
   "source": [
    "plt.hist(cbm2_transcript_counts, bins = 100)\n",
    "plt.axvline(cbm2_transcript_counts.mean(), color = 'red', linestyle = 'dashed', label = 'Mean')\n",
    "plt.text(1450, 4000, f'Mean: {int(cbm2_transcript_counts.mean())}', color = 'red')\n",
    "#plt.axvline(cbm2_transcript_counts.mean() - cbm2_transcript_counts.std(), color = 'green', linestyle = 'dashed', label = '-1 SD')\n",
    "#plt.text(2570, 3500, f'SD: {int(cbm2_transcript_counts.std())}', color = 'green')\n",
    "#plt.axvline(cbm2_transcript_counts.mean() + cbm2_transcript_counts.std(), color = 'green', linestyle = 'dashed', label = '+1 SD')\n",
    "plt.title('Cbm2 - Number of transcripts per cell')"
   ]
  },
  {
   "cell_type": "code",
   "execution_count": 258,
   "id": "cef4fb69",
   "metadata": {},
   "outputs": [
    {
     "data": {
      "text/plain": [
       "Text(0.5, 1.0, 'Xenium Overlap - Number of transcripts per cell')"
      ]
     },
     "execution_count": 258,
     "metadata": {},
     "output_type": "execute_result"
    },
    {
     "data": {
      "image/png": "[encoded data removed]",
      "text/plain": [
       "<Figure size 640x480 with 1 Axes>"
      ]
     },
     "metadata": {},
     "output_type": "display_data"
    }
   ],
   "source": [
    "plt.hist(xenium_overlap_transcript_count, bins = 100, range = (0,100))\n",
    "plt.axvline(xenium_overlap_transcript_count.mean(), color = 'red', linestyle = 'dashed', label = 'Mean')\n",
    "plt.text(14, 30000, f'Mean: {int(xenium_overlap_transcript_count.mean())}', color = 'red')\n",
    "#plt.axvline(xenium_overlap_transcript_count.mean() - xenium_overlap_transcript_count.std(), color = 'green', linestyle = 'dashed', label = '-1 SD')\n",
    "#plt.text(28, 27500, f'SD: {int(xenium_overlap_transcript_count.std())}', color = 'green')\n",
    "#plt.axvline(xenium_overlap_transcript_count.mean() + xenium_overlap_transcript_count.std(), color = 'green', linestyle = 'dashed', label = '+1 SD')\n",
    "plt.title('Xenium Overlap - Number of transcripts per cell')"
   ]
  },
  {
   "cell_type": "code",
   "execution_count": 259,
   "id": "05522e80",
   "metadata": {},
   "outputs": [
    {
     "data": {
      "text/plain": [
       "Text(0.5, 1.0, 'Cosmx Overlap - Number of transcripts per cell')"
      ]
     },
     "execution_count": 259,
     "metadata": {},
     "output_type": "execute_result"
    },
    {
     "data": {
      "image/png": "[encoded data removed]",
      "text/plain": [
       "<Figure size 640x480 with 1 Axes>"
      ]
     },
     "metadata": {},
     "output_type": "display_data"
    }
   ],
   "source": [
    "plt.hist(cosmx_overlap_transcript_count, bins = 30, range = (0,30))\n",
    "plt.axvline(cosmx_overlap_transcript_count.mean(), color = 'red', linestyle = 'dashed', label = 'Mean')\n",
    "plt.text(4, 27500, f'Mean: {int(cosmx_overlap_transcript_count.mean())}', color = 'red')\n",
    "#plt.axvline(cosmx_overlap_transcript_count.mean() - cosmx_overlap_transcript_count.std(), color = 'green', linestyle = 'dashed', label = '-1 SD')\n",
    "#plt.text(19, 25000, f'SD: {int(cosmx_overlap_transcript_count.std())}', color = 'green')\n",
    "#plt.axvline(cosmx_overlap_transcript_count.mean() + cosmx_overlap_transcript_count.std(), color = 'green', linestyle = 'dashed', label = '+1 SD')\n",
    "plt.title('Cosmx Overlap - Number of transcripts per cell')"
   ]
  },
  {
   "cell_type": "code",
   "execution_count": 260,
   "id": "4baf7a34",
   "metadata": {},
   "outputs": [
    {
     "data": {
      "text/plain": [
       "Text(0.5, 1.0, 'Vizgen Overlap - Number of transcripts per cell')"
      ]
     },
     "execution_count": 260,
     "metadata": {},
     "output_type": "execute_result"
    },
    {
     "data": {
      "image/png": "[encoded data removed]",
      "text/plain": [
       "<Figure size 640x480 with 1 Axes>"
      ]
     },
     "metadata": {},
     "output_type": "display_data"
    }
   ],
   "source": [
    "plt.hist(vizgen_overlap_transcript_counts, bins = 60, range = (0,60))\n",
    "plt.axvline(vizgen_overlap_transcript_counts.mean(), color = 'red', linestyle = 'dashed', label = 'Mean')\n",
    "plt.text(8, 140000, f'Mean: {int(vizgen_overlap_transcript_counts.mean())}', color = 'red')\n",
    "#plt.axvline(vizgen_overlap_transcript_counts.mean() - vizgen_overlap_transcript_counts.std(), color = 'green', linestyle = 'dashed', label = '-1 SD')\n",
    "#plt.text(28, 130000, f'SD: {int(vizgen_overlap_transcript_counts.std())}', color = 'green')\n",
    "#plt.axvline(vizgen_overlap_transcript_counts.mean() + vizgen_overlap_transcript_counts.std(), color = 'green', linestyle = 'dashed', label = '+1 SD')\n",
    "plt.title('Vizgen Overlap - Number of transcripts per cell')"
   ]
  },
  {
   "cell_type": "code",
   "execution_count": 274,
   "id": "ecd561e3",
   "metadata": {},
   "outputs": [
    {
     "data": {
      "text/plain": [
       "Text(0.5, 1.0, 'Cbm2 Overlap - Number of transcripts per cell')"
      ]
     },
     "execution_count": 274,
     "metadata": {},
     "output_type": "execute_result"
    },
    {
     "data": {
      "image/png": "[encoded data removed]",
      "text/plain": [
       "<Figure size 640x480 with 1 Axes>"
      ]
     },
     "metadata": {},
     "output_type": "display_data"
    }
   ],
   "source": [
    "plt.hist(cbm2_overlap_transcript_counts, bins = 100, range = (0,500))\n",
    "plt.axvline(cbm2_overlap_transcript_counts.mean(), color = 'red', linestyle = 'dashed', label = 'Mean')\n",
    "plt.text(60, 9000, f'Mean: {int(cbm2_overlap_transcript_counts.mean())}', color = 'red')\n",
    "#plt.axvline(cbm2_overlap_transcript_counts.mean() - cbm2_overlap_transcript_counts.std(), color = 'green', linestyle = 'dashed', label = '-1 SD')\n",
    "#plt.text(150, 8000, f'SD: {int(cbm2_overlap_transcript_counts.std())}', color = 'green')\n",
    "#plt.axvline(cbm2_overlap_transcript_counts.mean() + cbm2_overlap_transcript_counts.std(), color = 'green', linestyle = 'dashed', label = '+1 SD')\n",
    "plt.title('Cbm2 Overlap - Number of transcripts per cell')"
   ]
  },
  {
   "cell_type": "code",
   "execution_count": null,
   "id": "4915a5bc",
   "metadata": {},
   "outputs": [],
   "source": []
  }
 ],
 "metadata": {
  "kernelspec": {
   "display_name": "Python 3 (ipykernel)",
   "language": "python",
   "name": "python3"
  },
  "language_info": {
   "codemirror_mode": {
    "name": "ipython",
    "version": 3
   },
   "file_extension": ".py",
   "mimetype": "text/x-python",
   "name": "python",
   "nbconvert_exporter": "python",
   "pygments_lexer": "ipython3",
   "version": "3.11.4"
  }
 },
 "nbformat": 4,
 "nbformat_minor": 5
}
