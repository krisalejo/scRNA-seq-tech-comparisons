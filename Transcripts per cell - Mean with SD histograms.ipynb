{
 "cells": [
  {
   "cell_type": "code",
   "execution_count": 22,
   "id": "501af690",
   "metadata": {},
   "outputs": [],
   "source": [
    "import pandas as pd\n",
    "import numpy as np\n",
    "import matplotlib.pyplot as plt\n",
    "import scanpy as sc\n",
    "import anndata\n",
    "import umap.umap_ as umap\n",
    "import leidenalg\n",
    "from mpl_toolkits.mplot3d import Axes3D\n",
    "import seaborn as sns\n",
    "from sklearn.cluster import KMeans\n",
    "from scipy.spatial.distance import pdist, squareform\n",
    "from sklearn.metrics import pairwise_distances\n",
    "from scipy.stats import zscore\n",
    "from matplotlib.colorbar import ColorbarBase\n",
    "import matplotlib.colors as mcolors\n",
    "\n",
    "%matplotlib inline"
   ]
  },
  {
   "cell_type": "code",
   "execution_count": 2,
   "id": "84ae4b6e",
   "metadata": {},
   "outputs": [],
   "source": [
    "plt.style.use('dark_background')"
   ]
  },
  {
   "cell_type": "code",
   "execution_count": 18,
   "id": "ed66146b",
   "metadata": {},
   "outputs": [],
   "source": [
    "plt.style.use('default')"
   ]
  },
  {
   "cell_type": "markdown",
   "id": "ee2c04df",
   "metadata": {},
   "source": [
    "# Xenium Analysis"
   ]
  },
  {
   "cell_type": "code",
   "execution_count": 23,
   "id": "9c771e8d",
   "metadata": {
    "scrolled": true
   },
   "outputs": [
    {
     "data": {
      "text/html": [
       "<div>\n",
       "<style scoped>\n",
       "    .dataframe tbody tr th:only-of-type {\n",
       "        vertical-align: middle;\n",
       "    }\n",
       "\n",
       "    .dataframe tbody tr th {\n",
       "        vertical-align: top;\n",
       "    }\n",
       "\n",
       "    .dataframe thead th {\n",
       "        text-align: right;\n",
       "    }\n",
       "</style>\n",
       "<table border=\"1\" class=\"dataframe\">\n",
       "  <thead>\n",
       "    <tr style=\"text-align: right;\">\n",
       "      <th></th>\n",
       "      <th>cell_id</th>\n",
       "      <th>x_centroid</th>\n",
       "      <th>y_centroid</th>\n",
       "      <th>transcript_counts</th>\n",
       "      <th>control_probe_counts</th>\n",
       "      <th>control_codeword_counts</th>\n",
       "      <th>unassigned_codeword_counts</th>\n",
       "      <th>total_counts</th>\n",
       "      <th>cell_area</th>\n",
       "      <th>nucleus_area</th>\n",
       "    </tr>\n",
       "  </thead>\n",
       "  <tbody>\n",
       "    <tr>\n",
       "      <th>0</th>\n",
       "      <td>1</td>\n",
       "      <td>1470.409833</td>\n",
       "      <td>4249.051636</td>\n",
       "      <td>4</td>\n",
       "      <td>0</td>\n",
       "      <td>0</td>\n",
       "      <td>0</td>\n",
       "      <td>4</td>\n",
       "      <td>178.186563</td>\n",
       "      <td>44.704687</td>\n",
       "    </tr>\n",
       "    <tr>\n",
       "      <th>1</th>\n",
       "      <td>2</td>\n",
       "      <td>1474.557941</td>\n",
       "      <td>4239.123071</td>\n",
       "      <td>12</td>\n",
       "      <td>0</td>\n",
       "      <td>0</td>\n",
       "      <td>0</td>\n",
       "      <td>12</td>\n",
       "      <td>50.439531</td>\n",
       "      <td>29.487031</td>\n",
       "    </tr>\n",
       "    <tr>\n",
       "      <th>2</th>\n",
       "      <td>3</td>\n",
       "      <td>1474.138440</td>\n",
       "      <td>4230.722266</td>\n",
       "      <td>34</td>\n",
       "      <td>0</td>\n",
       "      <td>0</td>\n",
       "      <td>0</td>\n",
       "      <td>34</td>\n",
       "      <td>251.430000</td>\n",
       "      <td>54.639063</td>\n",
       "    </tr>\n",
       "    <tr>\n",
       "      <th>3</th>\n",
       "      <td>4</td>\n",
       "      <td>1479.313043</td>\n",
       "      <td>4242.560010</td>\n",
       "      <td>3</td>\n",
       "      <td>0</td>\n",
       "      <td>0</td>\n",
       "      <td>0</td>\n",
       "      <td>3</td>\n",
       "      <td>50.665312</td>\n",
       "      <td>23.345781</td>\n",
       "    </tr>\n",
       "    <tr>\n",
       "      <th>4</th>\n",
       "      <td>5</td>\n",
       "      <td>1486.422662</td>\n",
       "      <td>4240.159839</td>\n",
       "      <td>6</td>\n",
       "      <td>0</td>\n",
       "      <td>0</td>\n",
       "      <td>0</td>\n",
       "      <td>6</td>\n",
       "      <td>59.199844</td>\n",
       "      <td>29.712812</td>\n",
       "    </tr>\n",
       "    <tr>\n",
       "      <th>...</th>\n",
       "      <td>...</td>\n",
       "      <td>...</td>\n",
       "      <td>...</td>\n",
       "      <td>...</td>\n",
       "      <td>...</td>\n",
       "      <td>...</td>\n",
       "      <td>...</td>\n",
       "      <td>...</td>\n",
       "      <td>...</td>\n",
       "      <td>...</td>\n",
       "    </tr>\n",
       "    <tr>\n",
       "      <th>52519</th>\n",
       "      <td>52520</td>\n",
       "      <td>5460.260132</td>\n",
       "      <td>4814.415771</td>\n",
       "      <td>51</td>\n",
       "      <td>0</td>\n",
       "      <td>0</td>\n",
       "      <td>0</td>\n",
       "      <td>51</td>\n",
       "      <td>134.114063</td>\n",
       "      <td>14.811250</td>\n",
       "    </tr>\n",
       "    <tr>\n",
       "      <th>52520</th>\n",
       "      <td>52521</td>\n",
       "      <td>5464.195117</td>\n",
       "      <td>4851.216040</td>\n",
       "      <td>196</td>\n",
       "      <td>0</td>\n",
       "      <td>0</td>\n",
       "      <td>0</td>\n",
       "      <td>196</td>\n",
       "      <td>359.443750</td>\n",
       "      <td>47.775313</td>\n",
       "    </tr>\n",
       "    <tr>\n",
       "      <th>52521</th>\n",
       "      <td>52522</td>\n",
       "      <td>5464.681958</td>\n",
       "      <td>4790.854834</td>\n",
       "      <td>430</td>\n",
       "      <td>0</td>\n",
       "      <td>0</td>\n",
       "      <td>1</td>\n",
       "      <td>431</td>\n",
       "      <td>740.065781</td>\n",
       "      <td>47.323750</td>\n",
       "    </tr>\n",
       "    <tr>\n",
       "      <th>52522</th>\n",
       "      <td>52523</td>\n",
       "      <td>5483.099731</td>\n",
       "      <td>4832.196875</td>\n",
       "      <td>161</td>\n",
       "      <td>1</td>\n",
       "      <td>0</td>\n",
       "      <td>0</td>\n",
       "      <td>162</td>\n",
       "      <td>386.221406</td>\n",
       "      <td>17.249688</td>\n",
       "    </tr>\n",
       "    <tr>\n",
       "      <th>52523</th>\n",
       "      <td>52524</td>\n",
       "      <td>5482.334814</td>\n",
       "      <td>4850.725049</td>\n",
       "      <td>348</td>\n",
       "      <td>0</td>\n",
       "      <td>0</td>\n",
       "      <td>0</td>\n",
       "      <td>348</td>\n",
       "      <td>467.999375</td>\n",
       "      <td>67.327969</td>\n",
       "    </tr>\n",
       "  </tbody>\n",
       "</table>\n",
       "<p>52524 rows × 10 columns</p>\n",
       "</div>"
      ],
      "text/plain": [
       "       cell_id   x_centroid   y_centroid  transcript_counts  \\\n",
       "0            1  1470.409833  4249.051636                  4   \n",
       "1            2  1474.557941  4239.123071                 12   \n",
       "2            3  1474.138440  4230.722266                 34   \n",
       "3            4  1479.313043  4242.560010                  3   \n",
       "4            5  1486.422662  4240.159839                  6   \n",
       "...        ...          ...          ...                ...   \n",
       "52519    52520  5460.260132  4814.415771                 51   \n",
       "52520    52521  5464.195117  4851.216040                196   \n",
       "52521    52522  5464.681958  4790.854834                430   \n",
       "52522    52523  5483.099731  4832.196875                161   \n",
       "52523    52524  5482.334814  4850.725049                348   \n",
       "\n",
       "       control_probe_counts  control_codeword_counts  \\\n",
       "0                         0                        0   \n",
       "1                         0                        0   \n",
       "2                         0                        0   \n",
       "3                         0                        0   \n",
       "4                         0                        0   \n",
       "...                     ...                      ...   \n",
       "52519                     0                        0   \n",
       "52520                     0                        0   \n",
       "52521                     0                        0   \n",
       "52522                     1                        0   \n",
       "52523                     0                        0   \n",
       "\n",
       "       unassigned_codeword_counts  total_counts   cell_area  nucleus_area  \n",
       "0                               0             4  178.186563     44.704687  \n",
       "1                               0            12   50.439531     29.487031  \n",
       "2                               0            34  251.430000     54.639063  \n",
       "3                               0             3   50.665312     23.345781  \n",
       "4                               0             6   59.199844     29.712812  \n",
       "...                           ...           ...         ...           ...  \n",
       "52519                           0            51  134.114063     14.811250  \n",
       "52520                           0           196  359.443750     47.775313  \n",
       "52521                           1           431  740.065781     47.323750  \n",
       "52522                           0           162  386.221406     17.249688  \n",
       "52523                           0           348  467.999375     67.327969  \n",
       "\n",
       "[52524 rows x 10 columns]"
      ]
     },
     "execution_count": 23,
     "metadata": {},
     "output_type": "execute_result"
    }
   ],
   "source": [
    "c3m1_cells = pd.read_csv(r\"D:\\SMI-0214_DonCleveland_UCSD\\SMI-0214_DonCleveland_UCSD\\xenium_prerelease_molina_mouse_brain_Mar13\\C3m1\\cells.csv.gz\")\n",
    "c3m1_cells"
   ]
  },
  {
   "cell_type": "code",
   "execution_count": 24,
   "id": "62a8b8c9",
   "metadata": {},
   "outputs": [],
   "source": [
    "sample_id_list = ['C3m1', 'C3m2', 'C3m3', 'C24m1', 'C24m2', 'C24m3', 'HD24m1', 'HD24m2', 'HD24m3', 'R61']"
   ]
  },
  {
   "cell_type": "code",
   "execution_count": 29,
   "id": "b88454a5",
   "metadata": {},
   "outputs": [],
   "source": [
    "concated_cell_csv = pd.DataFrame()\n",
    "for sample_id in sample_id_list:\n",
    "    df = pd.read_csv(rf\"D:\\SMI-0214_DonCleveland_UCSD\\SMI-0214_DonCleveland_UCSD\\xenium_prerelease_molina_mouse_brain_Mar13\\{sample_id}\\cells.csv.gz\")\n",
    "    df['sample_id'] = sample_id\n",
    "    concated_cell_csv = pd.concat([concated_cell_csv, df])"
   ]
  },
  {
   "cell_type": "code",
   "execution_count": 32,
   "id": "533b3cf2",
   "metadata": {},
   "outputs": [
    {
     "data": {
      "text/plain": [
       "0         4\n",
       "1        12\n",
       "2        34\n",
       "3         3\n",
       "4         6\n",
       "         ..\n",
       "62710     4\n",
       "62711     0\n",
       "62712     2\n",
       "62713     1\n",
       "62714     2\n",
       "Name: total_counts, Length: 556343, dtype: int64"
      ]
     },
     "execution_count": 32,
     "metadata": {},
     "output_type": "execute_result"
    }
   ],
   "source": [
    "xenium_transcripts = concated_cell_csv['total_counts']\n",
    "xenium_transcripts"
   ]
  },
  {
   "cell_type": "code",
   "execution_count": 109,
   "id": "3d359305",
   "metadata": {},
   "outputs": [
    {
     "name": "stdout",
     "output_type": "stream",
     "text": [
      "Xenium mean transcript count: 207.7140433150053\n",
      "Xenium standard deviation transcript count: 138.7766112726301\n",
      "Xenium max transcript count: 1529\n"
     ]
    }
   ],
   "source": [
    "print(f'Xenium mean transcript count: {xenium_transcripts.mean()}')\n",
    "print(f'Xenium standard deviation transcript count: {xenium_transcripts.std()}')\n",
    "print(f'Xenium max transcript count: {xenium_transcripts.max()}')"
   ]
  },
  {
   "cell_type": "code",
   "execution_count": 34,
   "id": "a5b48ec8",
   "metadata": {
    "scrolled": true
   },
   "outputs": [
    {
     "data": {
      "text/plain": [
       "Text(0.5, 1.0, 'Xenium - Number of transcripts per cell')"
      ]
     },
     "execution_count": 34,
     "metadata": {},
     "output_type": "execute_result"
    },
    {
     "data": {
      "image/png": "[encoded data removed]",
      "text/plain": [
       "<Figure size 640x480 with 1 Axes>"
      ]
     },
     "metadata": {},
     "output_type": "display_data"
    }
   ],
   "source": [
    "plt.hist(xenium_transcripts, bins = 100)\n",
    "plt.axvline(xenium_transcripts.mean(), color = 'red', linestyle = 'dashed', label = 'Mean')\n",
    "plt.text(220, 30000, f'Mean: {int(xenium_transcripts.mean())}', color = 'red')\n",
    "plt.axvline(xenium_transcripts.mean() - xenium_transcripts.std(), color = 'green', linestyle = 'dashed', label = '-1 SD')\n",
    "plt.text(380, 25000, f'SD: {int(xenium_transcripts.std())}', color = 'green')\n",
    "plt.axvline(xenium_transcripts.mean() + xenium_transcripts.std(), color = 'green', linestyle = 'dashed', label = '+1 SD')\n",
    "plt.title('Xenium - Number of transcripts per cell')"
   ]
  },
  {
   "cell_type": "markdown",
   "id": "b8a5be07",
   "metadata": {},
   "source": [
    "# Cosmx analysis"
   ]
  },
  {
   "cell_type": "code",
   "execution_count": 66,
   "id": "db56a927",
   "metadata": {
    "scrolled": false
   },
   "outputs": [
    {
     "data": {
      "text/html": [
       "<div>\n",
       "<style scoped>\n",
       "    .dataframe tbody tr th:only-of-type {\n",
       "        vertical-align: middle;\n",
       "    }\n",
       "\n",
       "    .dataframe tbody tr th {\n",
       "        vertical-align: top;\n",
       "    }\n",
       "\n",
       "    .dataframe thead th {\n",
       "        text-align: right;\n",
       "    }\n",
       "</style>\n",
       "<table border=\"1\" class=\"dataframe\">\n",
       "  <thead>\n",
       "    <tr style=\"text-align: right;\">\n",
       "      <th></th>\n",
       "      <th>Chrna4</th>\n",
       "      <th>Slc6a1</th>\n",
       "      <th>Cd109</th>\n",
       "      <th>Ldha</th>\n",
       "      <th>Aldoc</th>\n",
       "      <th>Drd1</th>\n",
       "      <th>Tank</th>\n",
       "      <th>Rit2</th>\n",
       "      <th>Prkag2</th>\n",
       "      <th>Lpar3</th>\n",
       "      <th>...</th>\n",
       "      <th>NegPrb1</th>\n",
       "      <th>NegPrb2</th>\n",
       "      <th>NegPrb3</th>\n",
       "      <th>NegPrb4</th>\n",
       "      <th>NegPrb5</th>\n",
       "      <th>NegPrb6</th>\n",
       "      <th>NegPrb7</th>\n",
       "      <th>NegPrb8</th>\n",
       "      <th>NegPrb9</th>\n",
       "      <th>NegPrb10</th>\n",
       "    </tr>\n",
       "  </thead>\n",
       "  <tbody>\n",
       "    <tr>\n",
       "      <th>0</th>\n",
       "      <td>6</td>\n",
       "      <td>19</td>\n",
       "      <td>11</td>\n",
       "      <td>27</td>\n",
       "      <td>106</td>\n",
       "      <td>17</td>\n",
       "      <td>15</td>\n",
       "      <td>14</td>\n",
       "      <td>6</td>\n",
       "      <td>8</td>\n",
       "      <td>...</td>\n",
       "      <td>3</td>\n",
       "      <td>1</td>\n",
       "      <td>6</td>\n",
       "      <td>6</td>\n",
       "      <td>7</td>\n",
       "      <td>14</td>\n",
       "      <td>1</td>\n",
       "      <td>8</td>\n",
       "      <td>5</td>\n",
       "      <td>6</td>\n",
       "    </tr>\n",
       "    <tr>\n",
       "      <th>1</th>\n",
       "      <td>0</td>\n",
       "      <td>0</td>\n",
       "      <td>0</td>\n",
       "      <td>0</td>\n",
       "      <td>0</td>\n",
       "      <td>0</td>\n",
       "      <td>0</td>\n",
       "      <td>0</td>\n",
       "      <td>0</td>\n",
       "      <td>0</td>\n",
       "      <td>...</td>\n",
       "      <td>0</td>\n",
       "      <td>0</td>\n",
       "      <td>0</td>\n",
       "      <td>0</td>\n",
       "      <td>0</td>\n",
       "      <td>0</td>\n",
       "      <td>0</td>\n",
       "      <td>0</td>\n",
       "      <td>0</td>\n",
       "      <td>0</td>\n",
       "    </tr>\n",
       "    <tr>\n",
       "      <th>2</th>\n",
       "      <td>0</td>\n",
       "      <td>0</td>\n",
       "      <td>0</td>\n",
       "      <td>0</td>\n",
       "      <td>0</td>\n",
       "      <td>0</td>\n",
       "      <td>0</td>\n",
       "      <td>0</td>\n",
       "      <td>0</td>\n",
       "      <td>0</td>\n",
       "      <td>...</td>\n",
       "      <td>0</td>\n",
       "      <td>0</td>\n",
       "      <td>0</td>\n",
       "      <td>0</td>\n",
       "      <td>0</td>\n",
       "      <td>0</td>\n",
       "      <td>0</td>\n",
       "      <td>0</td>\n",
       "      <td>0</td>\n",
       "      <td>0</td>\n",
       "    </tr>\n",
       "    <tr>\n",
       "      <th>3</th>\n",
       "      <td>0</td>\n",
       "      <td>0</td>\n",
       "      <td>0</td>\n",
       "      <td>0</td>\n",
       "      <td>0</td>\n",
       "      <td>0</td>\n",
       "      <td>0</td>\n",
       "      <td>0</td>\n",
       "      <td>0</td>\n",
       "      <td>0</td>\n",
       "      <td>...</td>\n",
       "      <td>0</td>\n",
       "      <td>0</td>\n",
       "      <td>0</td>\n",
       "      <td>0</td>\n",
       "      <td>0</td>\n",
       "      <td>0</td>\n",
       "      <td>0</td>\n",
       "      <td>0</td>\n",
       "      <td>0</td>\n",
       "      <td>0</td>\n",
       "    </tr>\n",
       "    <tr>\n",
       "      <th>4</th>\n",
       "      <td>0</td>\n",
       "      <td>0</td>\n",
       "      <td>0</td>\n",
       "      <td>0</td>\n",
       "      <td>0</td>\n",
       "      <td>0</td>\n",
       "      <td>0</td>\n",
       "      <td>0</td>\n",
       "      <td>0</td>\n",
       "      <td>0</td>\n",
       "      <td>...</td>\n",
       "      <td>0</td>\n",
       "      <td>0</td>\n",
       "      <td>0</td>\n",
       "      <td>0</td>\n",
       "      <td>0</td>\n",
       "      <td>0</td>\n",
       "      <td>0</td>\n",
       "      <td>0</td>\n",
       "      <td>0</td>\n",
       "      <td>0</td>\n",
       "    </tr>\n",
       "    <tr>\n",
       "      <th>...</th>\n",
       "      <td>...</td>\n",
       "      <td>...</td>\n",
       "      <td>...</td>\n",
       "      <td>...</td>\n",
       "      <td>...</td>\n",
       "      <td>...</td>\n",
       "      <td>...</td>\n",
       "      <td>...</td>\n",
       "      <td>...</td>\n",
       "      <td>...</td>\n",
       "      <td>...</td>\n",
       "      <td>...</td>\n",
       "      <td>...</td>\n",
       "      <td>...</td>\n",
       "      <td>...</td>\n",
       "      <td>...</td>\n",
       "      <td>...</td>\n",
       "      <td>...</td>\n",
       "      <td>...</td>\n",
       "      <td>...</td>\n",
       "      <td>...</td>\n",
       "    </tr>\n",
       "    <tr>\n",
       "      <th>134768</th>\n",
       "      <td>0</td>\n",
       "      <td>0</td>\n",
       "      <td>0</td>\n",
       "      <td>0</td>\n",
       "      <td>1</td>\n",
       "      <td>0</td>\n",
       "      <td>0</td>\n",
       "      <td>0</td>\n",
       "      <td>0</td>\n",
       "      <td>0</td>\n",
       "      <td>...</td>\n",
       "      <td>0</td>\n",
       "      <td>0</td>\n",
       "      <td>0</td>\n",
       "      <td>0</td>\n",
       "      <td>0</td>\n",
       "      <td>0</td>\n",
       "      <td>0</td>\n",
       "      <td>0</td>\n",
       "      <td>0</td>\n",
       "      <td>0</td>\n",
       "    </tr>\n",
       "    <tr>\n",
       "      <th>134769</th>\n",
       "      <td>0</td>\n",
       "      <td>0</td>\n",
       "      <td>0</td>\n",
       "      <td>0</td>\n",
       "      <td>0</td>\n",
       "      <td>0</td>\n",
       "      <td>0</td>\n",
       "      <td>0</td>\n",
       "      <td>0</td>\n",
       "      <td>0</td>\n",
       "      <td>...</td>\n",
       "      <td>0</td>\n",
       "      <td>0</td>\n",
       "      <td>0</td>\n",
       "      <td>0</td>\n",
       "      <td>0</td>\n",
       "      <td>0</td>\n",
       "      <td>0</td>\n",
       "      <td>0</td>\n",
       "      <td>0</td>\n",
       "      <td>0</td>\n",
       "    </tr>\n",
       "    <tr>\n",
       "      <th>134770</th>\n",
       "      <td>0</td>\n",
       "      <td>1</td>\n",
       "      <td>0</td>\n",
       "      <td>0</td>\n",
       "      <td>3</td>\n",
       "      <td>0</td>\n",
       "      <td>1</td>\n",
       "      <td>0</td>\n",
       "      <td>0</td>\n",
       "      <td>2</td>\n",
       "      <td>...</td>\n",
       "      <td>0</td>\n",
       "      <td>0</td>\n",
       "      <td>0</td>\n",
       "      <td>0</td>\n",
       "      <td>0</td>\n",
       "      <td>0</td>\n",
       "      <td>0</td>\n",
       "      <td>0</td>\n",
       "      <td>0</td>\n",
       "      <td>0</td>\n",
       "    </tr>\n",
       "    <tr>\n",
       "      <th>134771</th>\n",
       "      <td>0</td>\n",
       "      <td>0</td>\n",
       "      <td>1</td>\n",
       "      <td>0</td>\n",
       "      <td>0</td>\n",
       "      <td>0</td>\n",
       "      <td>0</td>\n",
       "      <td>0</td>\n",
       "      <td>0</td>\n",
       "      <td>0</td>\n",
       "      <td>...</td>\n",
       "      <td>0</td>\n",
       "      <td>0</td>\n",
       "      <td>0</td>\n",
       "      <td>0</td>\n",
       "      <td>0</td>\n",
       "      <td>0</td>\n",
       "      <td>0</td>\n",
       "      <td>0</td>\n",
       "      <td>0</td>\n",
       "      <td>0</td>\n",
       "    </tr>\n",
       "    <tr>\n",
       "      <th>134772</th>\n",
       "      <td>0</td>\n",
       "      <td>0</td>\n",
       "      <td>0</td>\n",
       "      <td>0</td>\n",
       "      <td>0</td>\n",
       "      <td>0</td>\n",
       "      <td>0</td>\n",
       "      <td>0</td>\n",
       "      <td>0</td>\n",
       "      <td>0</td>\n",
       "      <td>...</td>\n",
       "      <td>0</td>\n",
       "      <td>0</td>\n",
       "      <td>0</td>\n",
       "      <td>0</td>\n",
       "      <td>0</td>\n",
       "      <td>0</td>\n",
       "      <td>0</td>\n",
       "      <td>0</td>\n",
       "      <td>0</td>\n",
       "      <td>0</td>\n",
       "    </tr>\n",
       "  </tbody>\n",
       "</table>\n",
       "<p>134773 rows × 960 columns</p>\n",
       "</div>"
      ],
      "text/plain": [
       "        Chrna4  Slc6a1  Cd109  Ldha  Aldoc  Drd1  Tank  Rit2  Prkag2  Lpar3  \\\n",
       "0            6      19     11    27    106    17    15    14       6      8   \n",
       "1            0       0      0     0      0     0     0     0       0      0   \n",
       "2            0       0      0     0      0     0     0     0       0      0   \n",
       "3            0       0      0     0      0     0     0     0       0      0   \n",
       "4            0       0      0     0      0     0     0     0       0      0   \n",
       "...        ...     ...    ...   ...    ...   ...   ...   ...     ...    ...   \n",
       "134768       0       0      0     0      1     0     0     0       0      0   \n",
       "134769       0       0      0     0      0     0     0     0       0      0   \n",
       "134770       0       1      0     0      3     0     1     0       0      2   \n",
       "134771       0       0      1     0      0     0     0     0       0      0   \n",
       "134772       0       0      0     0      0     0     0     0       0      0   \n",
       "\n",
       "        ...  NegPrb1  NegPrb2  NegPrb3  NegPrb4  NegPrb5  NegPrb6  NegPrb7  \\\n",
       "0       ...        3        1        6        6        7       14        1   \n",
       "1       ...        0        0        0        0        0        0        0   \n",
       "2       ...        0        0        0        0        0        0        0   \n",
       "3       ...        0        0        0        0        0        0        0   \n",
       "4       ...        0        0        0        0        0        0        0   \n",
       "...     ...      ...      ...      ...      ...      ...      ...      ...   \n",
       "134768  ...        0        0        0        0        0        0        0   \n",
       "134769  ...        0        0        0        0        0        0        0   \n",
       "134770  ...        0        0        0        0        0        0        0   \n",
       "134771  ...        0        0        0        0        0        0        0   \n",
       "134772  ...        0        0        0        0        0        0        0   \n",
       "\n",
       "        NegPrb8  NegPrb9  NegPrb10  \n",
       "0             8        5         6  \n",
       "1             0        0         0  \n",
       "2             0        0         0  \n",
       "3             0        0         0  \n",
       "4             0        0         0  \n",
       "...         ...      ...       ...  \n",
       "134768        0        0         0  \n",
       "134769        0        0         0  \n",
       "134770        0        0         0  \n",
       "134771        0        0         0  \n",
       "134772        0        0         0  \n",
       "\n",
       "[134773 rows x 960 columns]"
      ]
     },
     "execution_count": 66,
     "metadata": {},
     "output_type": "execute_result"
    }
   ],
   "source": [
    "cosmx_gene_exp = pd.read_csv(r\"D:\\SMI-0214_DonCleveland_UCSD\\SMI-0214_DonCleveland_UCSD\\5 Raw data\\MsBrain_exprMat_file.csv\")\n",
    "cosmx_gene_exp = cosmx_gene_exp.drop(columns = ['fov', 'cell_ID'])\n",
    "cosmx_gene_exp"
   ]
  },
  {
   "cell_type": "code",
   "execution_count": 71,
   "id": "a6030b33",
   "metadata": {
    "scrolled": true
   },
   "outputs": [
    {
     "data": {
      "text/plain": [
       "0         17818\n",
       "1             0\n",
       "2            14\n",
       "3            26\n",
       "4            12\n",
       "          ...  \n",
       "134768       60\n",
       "134769       42\n",
       "134770      308\n",
       "134771      108\n",
       "134772      200\n",
       "Length: 134773, dtype: int64"
      ]
     },
     "execution_count": 71,
     "metadata": {},
     "output_type": "execute_result"
    }
   ],
   "source": [
    "cosmx_gene_exp_revised = cosmx_gene_exp.iloc[:, :-10]\n",
    "cosmx_transcript_counts = cosmx_gene_exp_revised.sum(axis = 1)\n",
    "cosmx_transcript_counts"
   ]
  },
  {
   "cell_type": "code",
   "execution_count": 110,
   "id": "916bd420",
   "metadata": {
    "scrolled": true
   },
   "outputs": [
    {
     "name": "stdout",
     "output_type": "stream",
     "text": [
      "Cosmx mean transcript count: 524.3128445608542\n",
      "Cosmx standard deviation transcript count: 2338.775609728052\n",
      "Cosmx max transcript count: 129447\n"
     ]
    }
   ],
   "source": [
    "print(f'Cosmx mean transcript count: {cosmx_transcript_counts.mean()}')\n",
    "print(f'Cosmx standard deviation transcript count: {cosmx_transcript_counts.std()}')\n",
    "print(f'Cosmx max transcript count: {cosmx_transcript_counts.max()}')"
   ]
  },
  {
   "cell_type": "code",
   "execution_count": 111,
   "id": "1e5f7197",
   "metadata": {},
   "outputs": [
    {
     "data": {
      "text/plain": [
       "Text(0.5, 1.0, 'Cosmx - Number of transcripts per cell')"
      ]
     },
     "execution_count": 111,
     "metadata": {},
     "output_type": "execute_result"
    },
    {
     "data": {
      "image/png": "[encoded data removed]",
      "text/plain": [
       "<Figure size 640x480 with 1 Axes>"
      ]
     },
     "metadata": {},
     "output_type": "display_data"
    }
   ],
   "source": [
    "plt.hist(cosmx_transcript_counts, bins = 100, range = (0, 6000))\n",
    "plt.axvline(cosmx_transcript_counts.mean(), color = 'red', linestyle = 'dashed', label = 'Mean')\n",
    "plt.text(600, 14000, f'Mean: {int(cosmx_transcript_counts.mean())}', color = 'red')\n",
    "#plt.axvline(cosmx_transcript_counts.mean() - cosmx_transcript_counts.std(), color = 'green', linestyle = 'dashed', label = '-1 SD')\n",
    "plt.text(3000, 12000, f'SD: {int(cosmx_transcript_counts.std())}', color = 'green')\n",
    "plt.axvline(cosmx_transcript_counts.mean() + cosmx_transcript_counts.std(), color = 'green', linestyle = 'dashed', label = '+1 SD')\n",
    "plt.title('Cosmx - Number of transcripts per cell')"
   ]
  },
  {
   "cell_type": "markdown",
   "id": "4bfbec49",
   "metadata": {},
   "source": [
    "# Vizgen analysis"
   ]
  },
  {
   "cell_type": "code",
   "execution_count": 122,
   "id": "023e6694",
   "metadata": {},
   "outputs": [],
   "source": [
    "region_list = ['Region 0', 'Region 1', 'Region 2', 'Region 3']"
   ]
  },
  {
   "cell_type": "code",
   "execution_count": 124,
   "id": "47e1ac77",
   "metadata": {},
   "outputs": [],
   "source": [
    "vizgen_concat = pd.DataFrame()\n",
    "for region in region_list:\n",
    "    df = pd.read_csv(rf\"D:\\SMI-0214_DonCleveland_UCSD\\SMI-0214_DonCleveland_UCSD\\Vizgen Analysis\\{region}\\detected_transcripts.csv\")\n",
    "    df['sample_id'] = region\n",
    "    df_revised = df[df['cell_id'] != -1]\n",
    "    df_revised1 = df_revised.groupby(['cell_id','gene']).count()[['transcript_id']].reset_index()\n",
    "    gene_exp = df_revised1.pivot_table(index='cell_id', columns='gene', values='transcript_id', fill_value=0)\n",
    "    vizgen_concat = pd.concat([vizgen_concat, gene_exp])"
   ]
  },
  {
   "cell_type": "code",
   "execution_count": 129,
   "id": "1b6334de",
   "metadata": {},
   "outputs": [
    {
     "data": {
      "text/plain": [
       "cell_id\n",
       "4407145100026100001     2\n",
       "4407145100026100002     3\n",
       "4407145100026100003    26\n",
       "4407145100026100012     2\n",
       "4407145100026100014     1\n",
       "                       ..\n",
       "4407145601700100052     1\n",
       "4407145601700100065     1\n",
       "4407145601701100007     1\n",
       "4407145601703100144     1\n",
       "4407145601704100128     1\n",
       "Length: 395424, dtype: int64"
      ]
     },
     "execution_count": 129,
     "metadata": {},
     "output_type": "execute_result"
    }
   ],
   "source": [
    "vizgen_transcript_counts = vizgen_concat.sum(axis=1)\n",
    "vizgen_transcript_counts"
   ]
  },
  {
   "cell_type": "code",
   "execution_count": 130,
   "id": "f5b71640",
   "metadata": {},
   "outputs": [
    {
     "name": "stdout",
     "output_type": "stream",
     "text": [
      "Vizgen mean transcript count: 151.59098587844946\n",
      "Vizgen standard deviation transcript count: 258.38750025655287\n",
      "Vizgen max transcript count: 9458\n"
     ]
    }
   ],
   "source": [
    "print(f'Vizgen mean transcript count: {vizgen_transcript_counts.mean()}')\n",
    "print(f'Vizgen standard deviation transcript count: {vizgen_transcript_counts.std()}')\n",
    "print(f'Vizgen max transcript count: {vizgen_transcript_counts.max()}')"
   ]
  },
  {
   "cell_type": "code",
   "execution_count": 135,
   "id": "563a5d66",
   "metadata": {},
   "outputs": [
    {
     "data": {
      "text/plain": [
       "Text(0.5, 1.0, 'Vizgen - Number of transcripts per cell')"
      ]
     },
     "execution_count": 135,
     "metadata": {},
     "output_type": "execute_result"
    },
    {
     "data": {
      "image/png": "[encoded data removed]",
      "text/plain": [
       "<Figure size 640x480 with 1 Axes>"
      ]
     },
     "metadata": {},
     "output_type": "display_data"
    }
   ],
   "source": [
    "plt.hist(vizgen_transcript_counts, bins = 100, range = (0,1500))\n",
    "plt.axvline(vizgen_transcript_counts.mean(), color = 'red', linestyle = 'dashed', label = 'Mean')\n",
    "plt.text(160, 110000, f'Mean: {int(vizgen_transcript_counts.mean())}', color = 'red')\n",
    "#plt.axvline(vizgen_transcript_counts.mean() - vizgen_transcript_counts.std(), color = 'green', linestyle = 'dashed', label = '-1 SD')\n",
    "plt.text(420, 100000, f'SD: {int(vizgen_transcript_counts.std())}', color = 'green')\n",
    "plt.axvline(vizgen_transcript_counts.mean() + vizgen_transcript_counts.std(), color = 'green', linestyle = 'dashed', label = '+1 SD')\n",
    "plt.title('Vizgen - Number of transcripts per cell')"
   ]
  },
  {
   "cell_type": "markdown",
   "id": "5337508f",
   "metadata": {},
   "source": [
    "# Number of genes in each method"
   ]
  },
  {
   "cell_type": "code",
   "execution_count": 141,
   "id": "4bcf2e8b",
   "metadata": {
    "scrolled": false
   },
   "outputs": [
    {
     "data": {
      "text/plain": [
       "AnnData object with n_obs × n_vars = 547139 × 248\n",
       "    obs: 'cell_id', 'Sample ID', 'Number of genes', 'Number of transcripts', 'leiden', 'cluster_names'\n",
       "    uns: 'Sample ID_colors', 'cell_id_colors', 'cluster_names_colors', 'leiden', 'leiden_colors', 'neighbors', 'pca', 'rank_genes_groups'\n",
       "    obsm: 'X_pca', 'X_spatial', 'X_spatial_rescaled', 'X_spatial_rescaled_flipped', 'X_umap'\n",
       "    varm: 'PCs'\n",
       "    obsp: 'connectivities', 'distances'"
      ]
     },
     "execution_count": 141,
     "metadata": {},
     "output_type": "execute_result"
    }
   ],
   "source": [
    "xenium_scdata = sc.read_h5ad(r\"D:\\SMI-0214_DonCleveland_UCSD\\SMI-0214_DonCleveland_UCSD\\Xenium_mouse_filtered.h5ad\")\n",
    "xenium_scdata"
   ]
  },
  {
   "cell_type": "code",
   "execution_count": 143,
   "id": "2582dfb6",
   "metadata": {},
   "outputs": [
    {
     "data": {
      "text/plain": [
       "248"
      ]
     },
     "execution_count": 143,
     "metadata": {},
     "output_type": "execute_result"
    }
   ],
   "source": [
    "len(xenium_scdata.var)"
   ]
  },
  {
   "cell_type": "code",
   "execution_count": 140,
   "id": "91b0a640",
   "metadata": {},
   "outputs": [
    {
     "name": "stdout",
     "output_type": "stream",
     "text": [
      "Cosmx gene panel size: 950\n",
      "Vizgen gene panel size: 550\n"
     ]
    }
   ],
   "source": [
    "print (f'Xenium gene panel size: {len(xenium_scdata.var)}')\n",
    "print (f'Cosmx gene panel size: {cosmx_gene_exp_revised.shape[1]}')\n",
    "print (f'Vizgen gene panel size: {vizgen_concat.shape[1]}')"
   ]
  },
  {
   "cell_type": "code",
   "execution_count": null,
   "id": "1a6e3c9e",
   "metadata": {},
   "outputs": [],
   "source": []
  }
 ],
 "metadata": {
  "kernelspec": {
   "display_name": "Python 3 (ipykernel)",
   "language": "python",
   "name": "python3"
  },
  "language_info": {
   "codemirror_mode": {
    "name": "ipython",
    "version": 3
   },
   "file_extension": ".py",
   "mimetype": "text/x-python",
   "name": "python",
   "nbconvert_exporter": "python",
   "pygments_lexer": "ipython3",
   "version": "3.11.4"
  }
 },
 "nbformat": 4,
 "nbformat_minor": 5
}
