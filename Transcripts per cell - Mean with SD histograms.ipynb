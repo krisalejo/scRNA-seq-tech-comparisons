{
 "cells": [
  {
   "cell_type": "code",
   "execution_count": 1,
   "id": "501af690",
   "metadata": {},
   "outputs": [],
   "source": [
    "import pandas as pd\n",
    "import numpy as np\n",
    "import matplotlib.pyplot as plt\n",
    "import scanpy as sc\n",
    "import anndata\n",
    "import umap.umap_ as umap\n",
    "import leidenalg\n",
    "from mpl_toolkits.mplot3d import Axes3D\n",
    "import seaborn as sns\n",
    "from sklearn.cluster import KMeans\n",
    "from scipy.spatial.distance import pdist, squareform\n",
    "from sklearn.metrics import pairwise_distances\n",
    "from scipy.stats import zscore\n",
    "from matplotlib.colorbar import ColorbarBase\n",
    "import matplotlib.colors as mcolors\n",
    "\n",
    "%matplotlib inline"
   ]
  },
  {
   "cell_type": "code",
   "execution_count": 17,
   "id": "84ae4b6e",
   "metadata": {},
   "outputs": [],
   "source": [
    "plt.style.use('dark_background')"
   ]
  },
  {
   "cell_type": "markdown",
   "id": "ee2c04df",
   "metadata": {},
   "source": [
    "# Xenium Analysis"
   ]
  },
  {
   "cell_type": "code",
   "execution_count": 2,
   "id": "ee288b6e",
   "metadata": {},
   "outputs": [
    {
     "data": {
      "text/plain": [
       "AnnData object with n_obs × n_vars = 547139 × 248\n",
       "    obs: 'cell_id', 'Sample ID', 'Number of genes', 'Number of transcripts', 'leiden', 'cluster_names'\n",
       "    uns: 'Sample ID_colors', 'cell_id_colors', 'cluster_names_colors', 'leiden', 'leiden_colors', 'neighbors', 'pca', 'rank_genes_groups'\n",
       "    obsm: 'X_pca', 'X_spatial', 'X_spatial_rescaled', 'X_spatial_rescaled_flipped', 'X_umap'\n",
       "    varm: 'PCs'\n",
       "    obsp: 'connectivities', 'distances'"
      ]
     },
     "execution_count": 2,
     "metadata": {},
     "output_type": "execute_result"
    }
   ],
   "source": [
    "xenium_scdata = sc.read_h5ad(r\"D:\\SMI-0214_DonCleveland_UCSD\\SMI-0214_DonCleveland_UCSD\\Xenium_mouse_filtered.h5ad\")\n",
    "xenium_scdata"
   ]
  },
  {
   "cell_type": "code",
   "execution_count": 6,
   "id": "533b3cf2",
   "metadata": {},
   "outputs": [
    {
     "data": {
      "text/plain": [
       "1          12\n",
       "2          34\n",
       "4           6\n",
       "5          16\n",
       "6          30\n",
       "         ... \n",
       "556312    159\n",
       "556313     97\n",
       "556314     86\n",
       "556315      5\n",
       "556322      5\n",
       "Name: Number of transcripts, Length: 547139, dtype: int64"
      ]
     },
     "execution_count": 6,
     "metadata": {},
     "output_type": "execute_result"
    }
   ],
   "source": [
    "xenium_transcripts = xenium_scdata.obs['Number of transcripts']\n",
    "xenium_transcripts"
   ]
  },
  {
   "cell_type": "code",
   "execution_count": 8,
   "id": "3d359305",
   "metadata": {},
   "outputs": [
    {
     "name": "stdout",
     "output_type": "stream",
     "text": [
      "Xenium mean transcript count: 210.90116771058177\n",
      "Xenium standard deviation transcript count: 137.1827185104737\n"
     ]
    }
   ],
   "source": [
    "print(f'Xenium mean transcript count: {xenium_transcripts.mean()}')\n",
    "print(f'Xenium standard deviation transcript count: {xenium_transcripts.std()}')"
   ]
  },
  {
   "cell_type": "code",
   "execution_count": 18,
   "id": "a5b48ec8",
   "metadata": {
    "scrolled": true
   },
   "outputs": [
    {
     "data": {
      "text/plain": [
       "<matplotlib.lines.Line2D at 0x222ffb17550>"
      ]
     },
     "execution_count": 18,
     "metadata": {},
     "output_type": "execute_result"
    },
    {
     "data": {
      "image/png": "[encoded data removed]",
      "text/plain": [
       "<Figure size 640x480 with 1 Axes>"
      ]
     },
     "metadata": {},
     "output_type": "display_data"
    }
   ],
   "source": [
    "plt.hist(xenium_transcripts, bins = 100)\n",
    "plt.axvline(xenium_transcripts.mean(), color = 'red', linestyle = 'dashed', label = 'Mean')\n",
    "plt.axvline(xenium_transcripts.mean() - xenium_transcripts.std(), color = 'green', linestyle = 'dashed', label = '-1 SD')\n",
    "plt.axvline(xenium_transcripts.mean() + xenium_transcripts.std(), color = 'green', linestyle = 'dashed', label = '+1 SD')"
   ]
  },
  {
   "cell_type": "markdown",
   "id": "b8a5be07",
   "metadata": {},
   "source": [
    "# Cosmx analysis"
   ]
  },
  {
   "cell_type": "code",
   "execution_count": null,
   "id": "db56a927",
   "metadata": {},
   "outputs": [],
   "source": [
    "cosmx_scdata = "
   ]
  },
  {
   "cell_type": "markdown",
   "id": "4bfbec49",
   "metadata": {},
   "source": [
    "# Vizgen analysis"
   ]
  },
  {
   "cell_type": "code",
   "execution_count": 19,
   "id": "b90e498b",
   "metadata": {},
   "outputs": [
    {
     "name": "stderr",
     "output_type": "stream",
     "text": [
      "C:\\Users\\krist\\AppData\\Local\\Programs\\Python\\Python311\\Lib\\site-packages\\anndata\\_core\\anndata.py:1830: UserWarning: Observation names are not unique. To make them unique, call `.obs_names_make_unique`.\n",
      "  utils.warn_names_duplicates(\"obs\")\n"
     ]
    },
    {
     "data": {
      "text/plain": [
       "AnnData object with n_obs × n_vars = 344687 × 550\n",
       "    obs: 'cell_id', 'sample_id', 'transcript_count', 'leiden', 'cluster_names'\n",
       "    uns: 'cluster_names_colors', 'leiden', 'leiden_colors', 'neighbors', 'pca', 'rank_genes_groups'\n",
       "    obsm: 'X_pca', 'X_spatial', 'X_umap'\n",
       "    varm: 'PCs'\n",
       "    obsp: 'connectivities', 'distances'"
      ]
     },
     "execution_count": 19,
     "metadata": {},
     "output_type": "execute_result"
    }
   ],
   "source": [
    "vizgen_scdata = sc.read_h5ad(r\"D:\\SMI-0214_DonCleveland_UCSD\\SMI-0214_DonCleveland_UCSD\\Vizgen Analysis\\Vizgen_scdata.h5ad\")\n",
    "vizgen_scdata"
   ]
  },
  {
   "cell_type": "code",
   "execution_count": 20,
   "id": "f60ac09a",
   "metadata": {},
   "outputs": [
    {
     "data": {
      "text/plain": [
       "array([[-0.23494753, -0.07364277, -0.14906393, ..., -0.12849408,\n",
       "        -0.33252725, -0.13853998],\n",
       "       [-0.23494753, -0.07364277, -0.14906393, ..., -0.12849408,\n",
       "        -0.33252725, -0.13853998],\n",
       "       [-0.23494753, -0.07364277, -0.14906393, ..., -0.12849408,\n",
       "        -0.33252725, -0.13853998],\n",
       "       ...,\n",
       "       [-0.18152997, -0.0847249 , -0.1947418 , ..., -0.13837187,\n",
       "        -0.38658655, -0.17766707],\n",
       "       [-0.18152997, -0.0847249 , -0.1947418 , ..., -0.13837187,\n",
       "        -0.38658655, -0.17766707],\n",
       "       [-0.18152997, -0.0847249 , -0.1947418 , ..., -0.13837187,\n",
       "        -0.38658655, -0.17766707]], dtype=float32)"
      ]
     },
     "execution_count": 20,
     "metadata": {},
     "output_type": "execute_result"
    }
   ],
   "source": [
    "vizgen_scdata.X"
   ]
  },
  {
   "cell_type": "code",
   "execution_count": null,
   "id": "6f36ff42",
   "metadata": {},
   "outputs": [],
   "source": []
  }
 ],
 "metadata": {
  "kernelspec": {
   "display_name": "Python 3 (ipykernel)",
   "language": "python",
   "name": "python3"
  },
  "language_info": {
   "codemirror_mode": {
    "name": "ipython",
    "version": 3
   },
   "file_extension": ".py",
   "mimetype": "text/x-python",
   "name": "python",
   "nbconvert_exporter": "python",
   "pygments_lexer": "ipython3",
   "version": "3.11.4"
  }
 },
 "nbformat": 4,
 "nbformat_minor": 5
}
